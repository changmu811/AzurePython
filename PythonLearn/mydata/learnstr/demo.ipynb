{
  "cells": [
    {
      "metadata": {
        "trusted": true
      },
      "cell_type": "code",
      "source": "import os",
      "execution_count": 1,
      "outputs": []
    },
    {
      "metadata": {
        "trusted": true
      },
      "cell_type": "code",
      "source": "str_citys = 'wxuxi'",
      "execution_count": 2,
      "outputs": []
    },
    {
      "metadata": {
        "trusted": true
      },
      "cell_type": "code",
      "source": "str_citys.capitalize()",
      "execution_count": 3,
      "outputs": [
        {
          "output_type": "execute_result",
          "execution_count": 3,
          "data": {
            "text/plain": "'Wxuxi'"
          },
          "metadata": {}
        }
      ]
    },
    {
      "metadata": {
        "trusted": true
      },
      "cell_type": "code",
      "source": "str_citys.casefold()",
      "execution_count": 4,
      "outputs": [
        {
          "output_type": "execute_result",
          "execution_count": 4,
          "data": {
            "text/plain": "'wxuxi'"
          },
          "metadata": {}
        }
      ]
    },
    {
      "metadata": {
        "trusted": true
      },
      "cell_type": "code",
      "source": "str_citys.center(10, '*')",
      "execution_count": 5,
      "outputs": [
        {
          "output_type": "execute_result",
          "execution_count": 5,
          "data": {
            "text/plain": "'**wxuxi***'"
          },
          "metadata": {}
        }
      ]
    },
    {
      "metadata": {
        "trusted": true
      },
      "cell_type": "code",
      "source": "str_citys.count('x')",
      "execution_count": 6,
      "outputs": [
        {
          "output_type": "execute_result",
          "execution_count": 6,
          "data": {
            "text/plain": "2"
          },
          "metadata": {}
        }
      ]
    },
    {
      "metadata": {
        "trusted": true
      },
      "cell_type": "code",
      "source": "str_citys.endswith(('i', ' '))",
      "execution_count": 7,
      "outputs": [
        {
          "output_type": "execute_result",
          "execution_count": 7,
          "data": {
            "text/plain": "True"
          },
          "metadata": {}
        }
      ]
    },
    {
      "metadata": {
        "trusted": true
      },
      "cell_type": "code",
      "source": "res = zip('china', '12345')\nprint(res)\nprint(list(res))",
      "execution_count": 8,
      "outputs": [
        {
          "output_type": "stream",
          "text": "<zip object at 0x7f0183db6ec8>\n[('c', '1'), ('h', '2'), ('i', '3'), ('n', '4'), ('a', '5')]\n",
          "name": "stdout"
        }
      ]
    },
    {
      "metadata": {
        "trusted": true
      },
      "cell_type": "code",
      "source": "res = max('chinaaa', 'chianc')\nprint(res)",
      "execution_count": 9,
      "outputs": [
        {
          "output_type": "stream",
          "text": "chinaaa\n",
          "name": "stdout"
        }
      ]
    },
    {
      "metadata": {
        "trusted": true
      },
      "cell_type": "code",
      "source": "dict_num = {'age':180, 'age3':10, 'age4':22, 'age2':66}\ndef age_cmp(key):\n    global dict_num\n    return dict_num[key]",
      "execution_count": 10,
      "outputs": []
    },
    {
      "metadata": {
        "trusted": true
      },
      "cell_type": "code",
      "source": "res = max(dict_num, key = age_cmp)\nprint('res= ', res)\ndict_num[res] ",
      "execution_count": 11,
      "outputs": [
        {
          "output_type": "stream",
          "text": "res=  age\n",
          "name": "stdout"
        },
        {
          "output_type": "execute_result",
          "execution_count": 11,
          "data": {
            "text/plain": "180"
          },
          "metadata": {}
        }
      ]
    },
    {
      "metadata": {
        "trusted": true
      },
      "cell_type": "code",
      "source": " def strcmp(_str1, _str2):\n        len1 = len(_str1)\n        len2 = len(_str2)\n        while len1 == len2:\n            idx3 = 0\n            while idx3 < len1 and idx3 < len2:\n                if int(ord(_str1[idx3])) - int(ord(_str2[idx3])) > 0:\n                    return 1\n                elif int(ord(_str1[idx3])) - int(ord(_str2[idx3])) < 0:\n                    return -1\n                else:\n                    idx3 += 1\n                    continue\n            return 0\n        while len1 > len2:\n            return 1\n        while len1 < len2:\n            return -1\n\n\nstr1 = 'chinaba'\nstr2 = 'chin'\nres = strcmp(str1, str2)\nprint(res)\n\n",
      "execution_count": 12,
      "outputs": [
        {
          "output_type": "stream",
          "text": "1\n",
          "name": "stdout"
        }
      ]
    },
    {
      "metadata": {
        "trusted": true
      },
      "cell_type": "code",
      "source": "join_string = ['c:', 'windows', 'system32']\n'\\\\'.join(join_string)",
      "execution_count": 13,
      "outputs": [
        {
          "output_type": "execute_result",
          "execution_count": 13,
          "data": {
            "text/plain": "'c:\\\\windows\\\\system32'"
          },
          "metadata": {}
        }
      ]
    },
    {
      "metadata": {
        "trusted": true
      },
      "cell_type": "code",
      "source": "language_string = \"jultia\"",
      "execution_count": 14,
      "outputs": []
    },
    {
      "metadata": {
        "trusted": true
      },
      "cell_type": "code",
      "source": "student={'name':'小明','class':'20190301','score':597.5}\ns1='{class}班{name}总分：{score}'.format_map(student)\ns1.format()",
      "execution_count": 15,
      "outputs": [
        {
          "output_type": "execute_result",
          "execution_count": 15,
          "data": {
            "text/plain": "'20190301班小明总分：597.5'"
          },
          "metadata": {}
        }
      ]
    },
    {
      "metadata": {
        "trusted": true
      },
      "cell_type": "code",
      "source": "student={'name':'小明','class':'20190301','score':597.5}\ns1='{st[class]}班{st[name]}总分：{st[score]}'.format(st = student)\ns1",
      "execution_count": 17,
      "outputs": [
        {
          "output_type": "execute_result",
          "execution_count": 17,
          "data": {
            "text/plain": "'20190301班小明总分：597.5'"
          },
          "metadata": {}
        }
      ]
    },
    {
      "metadata": {
        "trusted": true
      },
      "cell_type": "code",
      "source": "net_list = [1, 2, 38, 3, 4, 5, 6, 7, 8, 100, 9]",
      "execution_count": 87,
      "outputs": []
    },
    {
      "metadata": {
        "trusted": true
      },
      "cell_type": "code",
      "source": "def even(va):\n    if (va % 2) == 0:\n        return va \n    else:\n        return False\n\nres = max(net_list,key = even)\nprint(res)",
      "execution_count": 88,
      "outputs": [
        {
          "output_type": "stream",
          "text": "100\n",
          "name": "stdout"
        }
      ]
    },
    {
      "metadata": {
        "trusted": true
      },
      "cell_type": "code",
      "source": "",
      "execution_count": null,
      "outputs": []
    }
  ],
  "metadata": {
    "kernelspec": {
      "name": "python36",
      "display_name": "Python 3.6",
      "language": "python"
    },
    "language_info": {
      "mimetype": "text/x-python",
      "nbconvert_exporter": "python",
      "name": "python",
      "pygments_lexer": "ipython3",
      "version": "3.6.6",
      "file_extension": ".py",
      "codemirror_mode": {
        "version": 3,
        "name": "ipython"
      }
    }
  },
  "nbformat": 4,
  "nbformat_minor": 2
}