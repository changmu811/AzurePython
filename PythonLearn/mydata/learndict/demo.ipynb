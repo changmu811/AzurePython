{
  "cells": [
    {
      "metadata": {
        "trusted": true
      },
      "cell_type": "code",
      "source": "import os\nimport collections as cs",
      "execution_count": 29,
      "outputs": []
    },
    {
      "metadata": {
        "trusted": true
      },
      "cell_type": "code",
      "source": "init_dict = dict([('suzhou', 1000), ('wuxi', 1001), ('zhenjiang', 1003)])\nprint(init_dict)",
      "execution_count": 30,
      "outputs": [
        {
          "output_type": "stream",
          "text": "{'suzhou': 1000, 'wuxi': 1001, 'zhenjiang': 1003}\n",
          "name": "stdout"
        }
      ]
    },
    {
      "metadata": {
        "trusted": true
      },
      "cell_type": "code",
      "source": "val = init_dict.values()\nprint(*val)",
      "execution_count": 31,
      "outputs": [
        {
          "output_type": "stream",
          "text": "1000 1001 1003\n",
          "name": "stdout"
        }
      ]
    },
    {
      "metadata": {
        "trusted": true
      },
      "cell_type": "code",
      "source": "demo_dict = dict() # --> demo_dict = {}  dictionnary is key must be  can be hashable  if is repeat -> overried (tuple, int, str, bool)\nprint(type(demo_dict))\ndemo_dict['brand'] = 'huawei'\nprint(demo_dict)",
      "execution_count": 32,
      "outputs": [
        {
          "output_type": "stream",
          "text": "<class 'dict'>\n{'brand': 'huawei'}\n",
          "name": "stdout"
        }
      ]
    },
    {
      "metadata": {
        "trusted": true
      },
      "cell_type": "code",
      "source": "int_dict = {}\n#int_dict.setdefault(lambda :'N/A')\nint_dict.setdefault(int)\nprint(type(int_dict))\n#int_dict[11] = 'sb'\nprint(int_dict)",
      "execution_count": 33,
      "outputs": [
        {
          "output_type": "stream",
          "text": "<class 'dict'>\n{<class 'int'>: None}\n",
          "name": "stdout"
        }
      ]
    },
    {
      "metadata": {
        "trusted": true
      },
      "cell_type": "markdown",
      "source": "### dict1.items()  操作的本质，是把字典转换成列表 [(), (), ()] ,列表中套元组。\n### for key, value in dict1.items():   列表是可迭代对象，可循环取值，取出的就是元组（1， 2， 3）\n### key, value = (???, ???) 就是拆的过程，因此得到了 key, value 的值。"
    },
    {
      "metadata": {
        "trusted": true
      },
      "cell_type": "code",
      "source": "init_dict = dict([('suzhou', 1000), ('wuxi', 1001), ('zhenjiang', 1003)])\nval = init_dict.values()  # return -> list\nprint(type(val))\nprint(val)\nkeys = init_dict.keys() # return -> list\nprint(keys)\ntotal_socre = sum(val)\naveage = len(val)  # in list 数据的个数\nprint(total_socre)\nprint(total_socre // aveage)",
      "execution_count": 34,
      "outputs": [
        {
          "output_type": "stream",
          "text": "<class 'dict_values'>\ndict_values([1000, 1001, 1003])\ndict_keys(['suzhou', 'wuxi', 'zhenjiang'])\n3004\n1001\n",
          "name": "stdout"
        }
      ]
    },
    {
      "metadata": {
        "trusted": true
      },
      "cell_type": "code",
      "source": "",
      "execution_count": null,
      "outputs": []
    }
  ],
  "metadata": {
    "kernelspec": {
      "name": "python36",
      "display_name": "Python 3.6",
      "language": "python"
    },
    "language_info": {
      "mimetype": "text/x-python",
      "nbconvert_exporter": "python",
      "name": "python",
      "pygments_lexer": "ipython3",
      "version": "3.6.6",
      "file_extension": ".py",
      "codemirror_mode": {
        "version": 3,
        "name": "ipython"
      }
    }
  },
  "nbformat": 4,
  "nbformat_minor": 2
}