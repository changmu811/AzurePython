{
  "metadata": {
    "kernelspec": {
      "display_name": "Python 3",
      "language": "python",
      "name": "python3"
    },
    "language_info": {
      "mimetype": "text/x-python",
      "nbconvert_exporter": "python",
      "name": "python",
      "file_extension": ".py",
      "version": "3.5.4",
      "pygments_lexer": "ipython3",
      "codemirror_mode": {
        "version": 3,
        "name": "ipython"
      }
    }
  },
  "nbformat_minor": 4,
  "nbformat": 4,
  "cells": [
    {
      "cell_type": "markdown",
      "source": "### dict learn",
      "metadata": {}
    },
    {
      "cell_type": "code",
      "source": "import os\nimport sys\nfrom collections import Iterable, Iterator",
      "metadata": {
        "trusted": true
      },
      "execution_count": 17,
      "outputs": []
    },
    {
      "cell_type": "code",
      "source": "my_dict = {'beijing':1000, 'shanghai':1001, 'tianjing':1002, 'chongqing':1003}",
      "metadata": {
        "trusted": true
      },
      "execution_count": 18,
      "outputs": []
    },
    {
      "cell_type": "code",
      "source": "print(my_dict)",
      "metadata": {
        "trusted": true
      },
      "execution_count": 19,
      "outputs": [
        {
          "text": "{'chongqing': 1003, 'shanghai': 1001, 'tianjing': 1002, 'beijing': 1000}\n",
          "name": "stdout",
          "output_type": "stream"
        }
      ]
    },
    {
      "cell_type": "code",
      "source": "# my_dict.clear()  # Clear dic is full container\n# print(my_dict)",
      "metadata": {
        "trusted": true
      },
      "execution_count": 20,
      "outputs": []
    },
    {
      "cell_type": "code",
      "source": "copy_dict = my_dict.copy() # Return a new is dic\nprint(f'copy_dic is address:= {id(copy_dict)} my_dict is address:= {id(my_dict)}')",
      "metadata": {
        "trusted": true
      },
      "execution_count": 21,
      "outputs": [
        {
          "ename": "SyntaxError",
          "evalue": "invalid syntax (<ipython-input-21-8bd8a8180516>, line 2)",
          "traceback": [
            "\u001b[0;36m  File \u001b[0;32m\"<ipython-input-21-8bd8a8180516>\"\u001b[0;36m, line \u001b[0;32m2\u001b[0m\n\u001b[0;31m    print(f'copy_dic is address:= {id(copy_dict)} my_dict is address:= {id(my_dict)}')\u001b[0m\n\u001b[0m                                                                                    ^\u001b[0m\n\u001b[0;31mSyntaxError\u001b[0m\u001b[0;31m:\u001b[0m invalid syntax\n"
          ],
          "output_type": "error"
        }
      ]
    },
    {
      "cell_type": "code",
      "source": "res = my_dict.fromkeys('shanghai', '--')\nprint(res)",
      "metadata": {
        "trusted": true
      },
      "execution_count": null,
      "outputs": []
    },
    {
      "cell_type": "code",
      "source": " # Do not return value\nres = my_dict.get('tianjing')\nprint('%s ' % res)",
      "metadata": {
        "trusted": true
      },
      "execution_count": null,
      "outputs": []
    },
    {
      "cell_type": "code",
      "source": "kv = my_dict.items()\nfor k, v in kv:\n    print(k, v)\n",
      "metadata": {
        "trusted": true
      },
      "execution_count": null,
      "outputs": []
    },
    {
      "cell_type": "code",
      "source": "va = my_dict.keys()\nprint(type(va))\nprint(f'my_dict is Iterable {isinstance(va, Iterable)}')\nfor v in va:\n    print(v)",
      "metadata": {
        "trusted": true
      },
      "execution_count": null,
      "outputs": []
    },
    {
      "cell_type": "code",
      "source": "res_value = copy_dict.pop('shanghai') # Delete key is value\nres_value\nprint(copy_dict)\n",
      "metadata": {
        "trusted": true
      },
      "execution_count": null,
      "outputs": []
    },
    {
      "cell_type": "code",
      "source": "k, v = copy_dict.popitem()\nprint(f'delete key and v {k, v}')",
      "metadata": {
        "trusted": true
      },
      "execution_count": null,
      "outputs": []
    },
    {
      "cell_type": "code",
      "source": "copy_dict.setdefault('wuxi', 1200) # Do not spcify key default value is None\nprint(copy_dict)",
      "metadata": {
        "trusted": true
      },
      "execution_count": null,
      "outputs": []
    },
    {
      "cell_type": "code",
      "source": "copy_dict.update(my_dict)\ncopy_dict\n\n",
      "metadata": {
        "trusted": true
      },
      "execution_count": null,
      "outputs": []
    },
    {
      "cell_type": "code",
      "source": "import operator\nbo = operator.ge([1,2,3], [1,2,3])\noperator.add(10, 10)\noperator.mul(10, 10)\noperator.floordiv(6, 3)\noperator.itruediv(6, 3)",
      "metadata": {
        "trusted": true
      },
      "execution_count": null,
      "outputs": []
    },
    {
      "cell_type": "code",
      "source": "def SelectSort(array):\n    length = len(array)\n    for i in range(length - 1):\n        j = i + 1\n        while j < length:\n            if array[i] > array[j]:\n                array[i] ^= array[j]\n                array[j] ^= array[i]\n                array[i] ^= array[j]\n            j += 1\narr = [5, 4, 3, 2, 1]\nSelectSort(arr)\nprint(arr)",
      "metadata": {
        "trusted": true
      },
      "execution_count": 24,
      "outputs": [
        {
          "text": "[1, 2, 3, 4, 5]\n",
          "name": "stdout",
          "output_type": "stream"
        }
      ]
    },
    {
      "cell_type": "code",
      "source": "def BubbleSort(array):\n    length = len(array)\n    for i in range(length - 1):\n        for j in range(length - 1 - i):\n            if array[j] > array[j + 1]:\n                array[j] ^= array[j + 1]\n                array[j + 1] ^= array[j]\n                array[j] ^= array[j + 1]\narr1 = [6, 5, 4, 3, -1, 2, 1, -2]\nBubbleSort(arr1)\nprint(arr1)\n            ",
      "metadata": {
        "trusted": true
      },
      "execution_count": 28,
      "outputs": [
        {
          "text": "[-2, -1, 1, 2, 3, 4, 5, 6]\n",
          "name": "stdout",
          "output_type": "stream"
        }
      ]
    }
  ]
}