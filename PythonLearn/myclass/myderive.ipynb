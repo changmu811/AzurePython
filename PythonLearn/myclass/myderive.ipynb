{
  "cells": [
    {
      "metadata": {
        "trusted": true
      },
      "cell_type": "code",
      "source": "import os\nimport builtins",
      "execution_count": 22,
      "outputs": []
    },
    {
      "metadata": {
        "trusted": true
      },
      "cell_type": "code",
      "source": "class Animal(object):\n    pass\nclass Dog(Animal):\n    pass\nclass Shepherd_dog(Dog, Animal):\n    pass\nclass Golden_Retriever(Dog):\n    pass",
      "execution_count": 4,
      "outputs": []
    },
    {
      "metadata": {
        "trusted": true
      },
      "cell_type": "code",
      "source": "print(Shepherd_dog.__bases__)\nprint(Shepherd_dog.mro)\nprint(Golden_Retriever.__class__)\ngr = Golden_Retriever() \nprint(gr.__class__)\nprint(object.__class__)",
      "execution_count": 26,
      "outputs": [
        {
          "output_type": "stream",
          "text": "(<class '__main__.Dog'>, <class '__main__.Animal'>)\n<built-in method mro of type object at 0x560421bc9c88>\n<class 'type'>\n<class '__main__.Golden_Retriever'>\n<class 'type'>\n",
          "name": "stdout"
        }
      ]
    },
    {
      "metadata": {
        "trusted": true
      },
      "cell_type": "code",
      "source": "",
      "execution_count": null,
      "outputs": []
    }
  ],
  "metadata": {
    "kernelspec": {
      "name": "python36",
      "display_name": "Python 3.6",
      "language": "python"
    },
    "language_info": {
      "mimetype": "text/x-python",
      "nbconvert_exporter": "python",
      "name": "python",
      "pygments_lexer": "ipython3",
      "version": "3.6.6",
      "file_extension": ".py",
      "codemirror_mode": {
        "version": 3,
        "name": "ipython"
      }
    }
  },
  "nbformat": 4,
  "nbformat_minor": 2
}