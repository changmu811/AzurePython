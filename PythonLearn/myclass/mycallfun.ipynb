{
  "cells": [
    {
      "metadata": {
        "trusted": true
      },
      "cell_type": "code",
      "source": "class my_call(object):\n    def __init__(self):\n        print('my_call() constructor')\n    def __call__(self):\n        print('__call__ to object function')\nmycall = my_call()\nprint(type(mycall))\nmycall()",
      "execution_count": 4,
      "outputs": [
        {
          "output_type": "stream",
          "text": "my_call() constructor\n<class '__main__.my_call'>\n__call__ to object function\n",
          "name": "stdout"
        }
      ]
    },
    {
      "metadata": {
        "trusted": true
      },
      "cell_type": "code",
      "source": "class contextmanagment(object):\n    def __init__(self):\n        print('contextmanagment')\n    def __enter__(self):\n        print('__entry__')\n    def __exit__(self, exc_type, exc_val, exc_tb):\n        print('__eixt__')\n        return True\n        \ncm = contextmanagment()\nwith cm as m: \n    res = 3 // 0\n    print('my is fn')",
      "execution_count": 15,
      "outputs": [
        {
          "output_type": "stream",
          "text": "contextmanagment\n__entry__\n__eixt__\n",
          "name": "stdout"
        }
      ]
    },
    {
      "metadata": {
        "trusted": true
      },
      "cell_type": "code",
      "source": "",
      "execution_count": null,
      "outputs": []
    }
  ],
  "metadata": {
    "kernelspec": {
      "name": "python36",
      "display_name": "Python 3.6",
      "language": "python"
    },
    "language_info": {
      "mimetype": "text/x-python",
      "nbconvert_exporter": "python",
      "name": "python",
      "pygments_lexer": "ipython3",
      "version": "3.6.6",
      "file_extension": ".py",
      "codemirror_mode": {
        "version": 3,
        "name": "ipython"
      }
    }
  },
  "nbformat": 4,
  "nbformat_minor": 2
}