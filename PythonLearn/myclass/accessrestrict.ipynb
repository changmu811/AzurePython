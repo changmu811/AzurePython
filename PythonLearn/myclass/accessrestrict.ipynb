{
  "cells": [
    {
      "metadata": {
        "trusted": true
      },
      "cell_type": "code",
      "source": "import os\nimport sys ",
      "execution_count": null,
      "outputs": []
    },
    {
      "metadata": {
        "trusted": true
      },
      "cell_type": "code",
      "source": "class Animal(object):\n    __age = 66\n    \n    def __init__(self):\n        print('Animal is constructor')\n        \n    def Display_Animal(self):\n        print(self.__age)\n        print(Animal.__age)",
      "execution_count": null,
      "outputs": []
    },
    {
      "metadata": {
        "trusted": true
      },
      "cell_type": "code",
      "source": "class Cat(Animal):\n    \n    def __init__(self):\n        print('Cat is constructor')\n        \n    def Display_Cat(self):\n        print(self.__age)\n        print(Cat.__age)",
      "execution_count": null,
      "outputs": []
    },
    {
      "metadata": {
        "trusted": true
      },
      "cell_type": "code",
      "source": "animal = Animal()\nanimal.Display_Animal()\ncat = Cat()\nprint('*' * 3)\nprint(f'Name magling {Animal._Animal__age}')\nanimal.Display_Animal()\n#cat.Display_Cat()\nCat.__dict__\n#Cat.__class__._Animal__age",
      "execution_count": null,
      "outputs": []
    },
    {
      "metadata": {
        "trusted": true
      },
      "cell_type": "code",
      "source": "",
      "execution_count": null,
      "outputs": []
    }
  ],
  "metadata": {
    "kernelspec": {
      "name": "python36",
      "display_name": "Python 3.6",
      "language": "python"
    },
    "language_info": {
      "mimetype": "text/x-python",
      "nbconvert_exporter": "python",
      "name": "python",
      "pygments_lexer": "ipython3",
      "version": "3.6.6",
      "file_extension": ".py",
      "codemirror_mode": {
        "version": 3,
        "name": "ipython"
      }
    }
  },
  "nbformat": 4,
  "nbformat_minor": 2
}