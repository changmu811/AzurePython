{
  "cells": [
    {
      "metadata": {
        "trusted": true
      },
      "cell_type": "code",
      "source": "import os\nfrom functools import total_ordering",
      "execution_count": 4,
      "outputs": []
    },
    {
      "metadata": {
        "trusted": true
      },
      "cell_type": "code",
      "source": "class my_compare(object):\n    def __init__(self, age, height):\n        self.age = age\n        self.height = height\n    def __eq__(self, obj):\n        print('running __eq__')\n        return self.height == obj.height\n    def __ge__(self, obj):  # 大于等于\n        print('running __ge__')\n        return self.height >= obj.height\n    def __gt__(self, obj):\n        print('running __gt__')\n        return self.height > obj.height # 大于\n\nmy = my_compare(66, 170)\nmy2 = my_compare(55, 170)\nprint(my >= my2)",
      "execution_count": 2,
      "outputs": [
        {
          "output_type": "stream",
          "text": "running __ge__\nTrue\n",
          "name": "stdout"
        }
      ]
    },
    {
      "metadata": {
        "trusted": true
      },
      "cell_type": "code",
      "source": "",
      "execution_count": null,
      "outputs": []
    }
  ],
  "metadata": {
    "kernelspec": {
      "name": "python36",
      "display_name": "Python 3.6",
      "language": "python"
    },
    "language_info": {
      "mimetype": "text/x-python",
      "nbconvert_exporter": "python",
      "name": "python",
      "pygments_lexer": "ipython3",
      "version": "3.6.6",
      "file_extension": ".py",
      "codemirror_mode": {
        "version": 3,
        "name": "ipython"
      }
    }
  },
  "nbformat": 4,
  "nbformat_minor": 2
}