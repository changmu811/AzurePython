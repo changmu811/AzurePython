{
  "cells": [
    {
      "metadata": {
        "trusted": true
      },
      "cell_type": "code",
      "source": "import os\nimport collections",
      "execution_count": null,
      "outputs": []
    },
    {
      "metadata": {
        "trusted": true
      },
      "cell_type": "code",
      "source": "class traverse_operation(object):\n    def __init__(self):\n        self.height = 0\n        print('constructor')\n    def __getitem__(self, item):\n        print(f'item={item}')\n        # print(f'item add={id(item)} self.height add={id(self.height)}')\n        self.height += 1\n        if self.height > 5:\n            raise StopIteration('out of range')\n        return self.height\nres = traverse_operation()\nfor i in res:\n    print(i)\n# help(traverse_operation)\n",
      "execution_count": null,
      "outputs": []
    },
    {
      "metadata": {
        "trusted": true
      },
      "cell_type": "markdown",
      "source": "### method two\n### 通过 for in 访问的不一定是可迭代对象 __getitem__也能通过 for in 访问。\n### 通过实现__call__ 就能使用iter(对象，4）实现执行了,注意要注释掉__next__."
    },
    {
      "metadata": {
        "trusted": true
      },
      "cell_type": "code",
      "source": "class my_iter(object):\n    def __init__(self):\n        self.age = 0\n        print('__init__')\n    def __getitem__(self, item):\n        print('__getitem__');\n    def __iter__(self):  # 优先级高于 __getitem__ 重复使用增加回退条件 self.age = 0 迭代器就能重复使用了。 只实现__iter__就是可迭代对象\n        # return iter([1, 2, 3, 4, 5])        # iter(p.__next__, 4) 终止位是4(自动判断)\n        return self\n    def __next__(self):  # 这里注释了就不是迭代器了，只是迭代对象\n        self.age += 1    # next(object) 调用不一定是迭代器，把上面__iter__(self) 注释了 一样能通过 next(object) 调用\n        if self.age > 10:\n            raise StopIteration('out to range')\n        print('__next__')\n        return self.age \n    def __call__(self):\n        pass \n        \nobj = my_iter()\nres = isinstance(obj, collections.Iterable)\nres2 = isinstance(obj, collections.Iterator)\nprint(f'res is Iterable {res}')\nprint(f'res2 is Iterator {res2}')\nprint(type(obj))\n# for i in obj:\n#     print(i, type(i)) \n",
      "execution_count": null,
      "outputs": []
    },
    {
      "metadata": {
        "trusted": true
      },
      "cell_type": "code",
      "source": "",
      "execution_count": null,
      "outputs": []
    }
  ],
  "metadata": {
    "kernelspec": {
      "name": "python36",
      "display_name": "Python 3.6",
      "language": "python"
    },
    "language_info": {
      "mimetype": "text/x-python",
      "nbconvert_exporter": "python",
      "name": "python",
      "pygments_lexer": "ipython3",
      "version": "3.6.6",
      "file_extension": ".py",
      "codemirror_mode": {
        "version": 3,
        "name": "ipython"
      }
    }
  },
  "nbformat": 4,
  "nbformat_minor": 2
}