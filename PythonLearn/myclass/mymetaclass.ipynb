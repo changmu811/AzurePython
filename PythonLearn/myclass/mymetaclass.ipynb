{
  "cells": [
    {
      "metadata": {
        "trusted": true
      },
      "cell_type": "code",
      "source": "import os",
      "execution_count": null,
      "outputs": []
    },
    {
      "metadata": {
        "trusted": true
      },
      "cell_type": "code",
      "source": "class meta_foo(type):\n    def __init__(self, a, b, c):\n        print('self:=', self, type(self))\n        print('a:=', a, type(a))\n        print('b:=', b, type(b))\n        print('c:=', c, type(c))\n        print('meta_foo')\n          \n    def __call__(self, *args, **kwargs):\n        instance_obj_Foo = object.__new__(self)\n        self.__init__(instance_obj_Foo, *args, **kwargs)\n        print('__call__')\n        print(args, kwargs)\n        return instance_obj_Foo\n        \nclass Foo(metaclass=meta_foo):  #  执行到这句要调用上面的 meta_foo(type)\n    def __init__(self, lan):\n        self.learn_language = lan",
      "execution_count": null,
      "outputs": []
    },
    {
      "metadata": {
        "trusted": true
      },
      "cell_type": "code",
      "source": "foo = Foo('ruby')\nfoo.learn_language",
      "execution_count": null,
      "outputs": []
    },
    {
      "metadata": {
        "trusted": true
      },
      "cell_type": "code",
      "source": "import re",
      "execution_count": null,
      "outputs": []
    },
    {
      "metadata": {
        "trusted": true
      },
      "cell_type": "code",
      "source": "%magic",
      "execution_count": null,
      "outputs": []
    },
    {
      "metadata": {
        "trusted": true
      },
      "cell_type": "code",
      "source": "",
      "execution_count": null,
      "outputs": []
    }
  ],
  "metadata": {
    "kernelspec": {
      "name": "python3",
      "display_name": "Python 3",
      "language": "python"
    },
    "language_info": {
      "mimetype": "text/x-python",
      "nbconvert_exporter": "python",
      "name": "python",
      "file_extension": ".py",
      "version": "3.5.4",
      "pygments_lexer": "ipython3",
      "codemirror_mode": {
        "version": 3,
        "name": "ipython"
      }
    }
  },
  "nbformat": 4,
  "nbformat_minor": 4
}