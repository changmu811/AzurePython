{
  "cells": [
    {
      "metadata": {
        "collapsed": true
      },
      "cell_type": "markdown",
      "source": "###  class object index must be 实现3个魔法方法，字典操作"
    },
    {
      "metadata": {
        "trusted": true
      },
      "cell_type": "code",
      "source": "import os",
      "execution_count": null,
      "outputs": []
    },
    {
      "metadata": {
        "trusted": true
      },
      "cell_type": "code",
      "source": "class class_object_index(object):\n    \n    def __init__(self):\n        cache_index = {} \n    \n    def __getitem__(self, key_val):\n        return self.__dict__[key_val]\n    \n    def __setitem__(self, key, val):\n        self.__dict__[key] = val \n    \n    def __delitem__(self, key):\n        del self.__dict__[key]\n        \nobject_index = class_object_index()\nobject_index['name'] = 'changmu'\nprint(object_index['name'])\nprint(object_index.__dict__)\nprint(class_object_index.__dict__)\ndel object_index['name']\nprint(object_index.__dict__)\nobject_index['language'] = 'swift'\nprint(object_index['language'])\nprint(object_index.__dict__)",
      "execution_count": null,
      "outputs": []
    },
    {
      "metadata": {
        "trusted": true
      },
      "cell_type": "code",
      "source": "",
      "execution_count": null,
      "outputs": []
    }
  ],
  "metadata": {
    "kernelspec": {
      "name": "python36",
      "display_name": "Python 3.6",
      "language": "python"
    },
    "language_info": {
      "mimetype": "text/x-python",
      "nbconvert_exporter": "python",
      "name": "python",
      "pygments_lexer": "ipython3",
      "version": "3.6.6",
      "file_extension": ".py",
      "codemirror_mode": {
        "version": 3,
        "name": "ipython"
      }
    }
  },
  "nbformat": 4,
  "nbformat_minor": 2
}