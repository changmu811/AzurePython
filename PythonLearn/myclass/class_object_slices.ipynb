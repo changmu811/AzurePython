{
  "cells": [
    {
      "metadata": {
        "trusted": true
      },
      "cell_type": "code",
      "source": "import  os",
      "execution_count": null,
      "outputs": []
    },
    {
      "metadata": {},
      "cell_type": "markdown",
      "source": "###  类对象的切片操作，只支持修改，不支持新增"
    },
    {
      "metadata": {
        "trusted": true
      },
      "cell_type": "code",
      "source": "class class_like_slices(object):\n    \n    def __init__(self):\n        self.cache_slices = [1, 2, 3, 4, 5, 6, 7, 8]\n    \n    def __getitem__(self, key_val):\n        print(key_val)\n        return self.cache_slices[key_val]\n    \n    def __setitem__(self, key, val):\n        print(key, val)\n        print(key.start,key.stop, key.step)\n        #self.cache_slices[key] = val  #下面的写法好\n        if isinstance(key, slice):   # 字符串没有 start stop step\n                self.cache_slices[key.start:key.stop:key.step] = val\n    \n    def __delitem__(self, key):\n        print(type(key))\n        del self.cache_slices[key.start:key.stop:key.step]  \nslices = class_like_slices()\nslices[0:4:2] = ['a', 'b']\nprint(slices)\nprint('--' * 30)\nprint(slices.cache_slices)",
      "execution_count": null,
      "outputs": []
    },
    {
      "metadata": {
        "trusted": true
      },
      "cell_type": "code",
      "source": "slices_list = [i for i in range(1, 11)]\nnew_list = slices_list[0:10:2]\nprint(new_list)\nprint(\"%d %d \" % (id(slices_list), id(new_list))) ",
      "execution_count": 34,
      "outputs": [
        {
          "output_type": "stream",
          "text": "[1, 3, 5, 7, 9]\n140131864839432 140131864875592 \n",
          "name": "stdout"
        }
      ]
    },
    {
      "metadata": {
        "trusted": true
      },
      "cell_type": "code",
      "source": "class my_compare(object):\n    def __init__(self, age, height):\n        self.age = age\n        self.height = height\n    def __eq__(self, obj):\n        print('running __eq__')\n        return self.height == obj.height\n    def __ge__(self, obj):  # 大于等于\n        print('running __ge__')\n        return self.height >= obj.height\n    def __gt__(self, obj):\n        print('running __gt__')\n        return self.height > obj.height # 大于\n\nmy = my_compare(66, 170)\nmy2 = my_compare(55, 170)\nprint(my >= my2)",
      "execution_count": 8,
      "outputs": [
        {
          "output_type": "stream",
          "text": "running __ge__\nTrue\n",
          "name": "stdout"
        }
      ]
    },
    {
      "metadata": {
        "trusted": true
      },
      "cell_type": "code",
      "source": "",
      "execution_count": null,
      "outputs": []
    }
  ],
  "metadata": {
    "kernelspec": {
      "name": "python36",
      "display_name": "Python 3.6",
      "language": "python"
    },
    "language_info": {
      "mimetype": "text/x-python",
      "nbconvert_exporter": "python",
      "name": "python",
      "pygments_lexer": "ipython3",
      "version": "3.6.6",
      "file_extension": ".py",
      "codemirror_mode": {
        "version": 3,
        "name": "ipython"
      }
    }
  },
  "nbformat": 4,
  "nbformat_minor": 2
}