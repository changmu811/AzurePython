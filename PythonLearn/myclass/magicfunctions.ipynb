{
  "cells": [
    {
      "metadata": {
        "trusted": true
      },
      "cell_type": "code",
      "source": "import sys \nimport os ",
      "execution_count": 1,
      "outputs": []
    },
    {
      "metadata": {
        "trusted": true
      },
      "cell_type": "code",
      "source": "class Foo(object):\n    def __init__(self):\n        print(\"Foo is constructor\")\n        self.name = \"changmu\"\n        \n    def __getitem__(self,name):\n        print('__getitem__')\n        return self.name\n    \n    \nfoo = Foo()\nfoo.name  # in class 实现了魔法函数 __getitem__() 实例化出的对象就是可迭代对象。",
      "execution_count": 2,
      "outputs": [
        {
          "output_type": "stream",
          "text": "Foo is constructor\n",
          "name": "stdout"
        },
        {
          "output_type": "execute_result",
          "execution_count": 2,
          "data": {
            "text/plain": "'changmu'"
          },
          "metadata": {}
        }
      ]
    },
    {
      "metadata": {
        "trusted": true
      },
      "cell_type": "code",
      "source": "class Person(object):\n    def myself(self):\n        print('instance method', self)\n\n    @classmethod\n    def myclass(cls):\n        print('class method', cls)\n\n    @staticmethod\n    def mystatic():\n        print('static method')\n\n\np = Person()\n\n\np.myself()\np.mystatic()\nPerson.mystatic()\nPerson.myclass()\nPerson.myself(p)\nPerson.myself(Person())\n",
      "execution_count": 3,
      "outputs": [
        {
          "output_type": "stream",
          "text": "instance method <__main__.Person object at 0x7f3d170d99b0>\nstatic method\nstatic method\nclass method <class '__main__.Person'>\ninstance method <__main__.Person object at 0x7f3d170d99b0>\ninstance method <__main__.Person object at 0x7f3d170d9a90>\n",
          "name": "stdout"
        }
      ]
    }
  ],
  "metadata": {
    "kernelspec": {
      "name": "python36",
      "display_name": "Python 3.6",
      "language": "python"
    },
    "language_info": {
      "mimetype": "text/x-python",
      "nbconvert_exporter": "python",
      "name": "python",
      "pygments_lexer": "ipython3",
      "version": "3.6.6",
      "file_extension": ".py",
      "codemirror_mode": {
        "version": 3,
        "name": "ipython"
      }
    }
  },
  "nbformat": 4,
  "nbformat_minor": 2
}