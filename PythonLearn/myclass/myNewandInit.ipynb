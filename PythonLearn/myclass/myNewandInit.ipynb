{
  "cells": [
    {
      "metadata": {},
      "cell_type": "markdown",
      "source": "### 这样便是init最普通的用法了。但init其实不是实例化一个类的时候第一个被调用 的方法。当使用 Persion(name, age) 这样的表达式来实例化一个类时，最先被调用的方法 其实是 new 方法。\n\n### 二、new 方法是什么？\nnew方法接受的参数虽然也是和init一样，但init是在类实例创建之后调用，而 new方法正是创建这个类实例的方法。"
    },
    {
      "metadata": {
        "trusted": true
      },
      "cell_type": "code",
      "source": "class Person(object):\n    \"\"\"Silly Person\"\"\"\n \n    def __init__(self, name, age):\n        self.name = name\n        self.age = age\n \n    def __str__(self):\n        return '<Person: %s(%s)>' % (self.name, self.age)\n \nif __name__ == '__main__':\n    piglei = Person('piglei', 24)\n    print (piglei)",
      "execution_count": 71,
      "outputs": [
        {
          "output_type": "stream",
          "text": "<Person: piglei(24)>\n",
          "name": "stdout"
        }
      ]
    },
    {
      "metadata": {
        "trusted": true
      },
      "cell_type": "code",
      "source": "class Person1(object):\n    \"\"\"Silly Person\"\"\"\n \n    def __new__(cls, name, age):\n        print ('__new__ called.')\n        return super(Person1, cls).__new__(cls)  #return super(Person, cls).__new__(cls, name, age) This is python 2.7 version\n \n    def __init__(self, name, age):\n        print ('__init__ called.')\n        self.name = name\n        self.age = age\n \n    def __str__(self):\n        return '<Person: %s(%s)>' % (self.name, self.age)\n \nif __name__ == '__main__':\n    piglei = Person1('piglei', 24)\n    print (piglei)",
      "execution_count": 72,
      "outputs": [
        {
          "output_type": "stream",
          "text": "__new__ called.\n__init__ called.\n<Person: piglei(24)>\n",
          "name": "stdout"
        }
      ]
    },
    {
      "metadata": {},
      "cell_type": "markdown",
      "source": "###   通过运行这段代码，我们可以看到，new方法的调用是发生在init之前的。其实当 你实例化一个类的时候，具体的执行逻辑是这样的：\n\n1.p = Person(name, age)\n2.首先执行使用name和age参数来执行Person类的new方法，这个new方法会 返回Person类的一个实例（通常情况下是使用 super(Persion, cls).new(cls, … …) 这样的方式），\n3.然后利用这个实例来调用类的init方法，上一步里面new产生的实例也就是 init里面的的 self\n所以，init 和 new 最主要的区别在于：\n1.init 通常用于初始化一个新实例，控制这个初始化的过程，比如添加一些属性， 做一些额外的操作，发生在类实例被创建完以后。它是实例级别的方法。\n2.new 通常用于控制生成一个新实例的过程。它是类级别的方法。\n但是说了这么多，new最通常的用法是什么呢，我们什么时候需要new？\n\n小编推荐一个学python的学习qun 740,3222,34\n无论你是大牛还是小白，是想转行还是想入行都可以来了解一起进步一起学习！裙内有开发工具，很多干货和技术资料分享！\n三、new 的作用\n依照Python官方文档的说法，new方法主要是当你继承一些不可变的class时(比如int, str, tuple)， 提供给你一个自定义这些类的实例化过程的途径。还有就是实现自定义的metaclass。\n首先我们来看一下第一个功能，具体我们可以用int来作为一个例子：\n假如我们需要一个永远都是正数的整数类型，通过集成int，我们可能会写出这样的代码。\n\ndef __init__(self, value):\n        super(PositiveInteger, self).__init__(self, abs(value))\n \ni = PositiveInteger(-3)\nprint i\n但运行后会发现，结果根本不是我们想的那样，我们任然得到了-3。这是因为对于int这种 不可变的对象，我们只有重载它的new方法才能起到自定义的作用。\n这是修改后的代码：\n\ndef __new__(cls, value):\n        return super(PositiveInteger, cls).__new__(cls, abs(value))\n \ni = PositiveInteger(-3)\nprint i\n通过重载new方法，我们实现了需要的功能。\n另外一个作用，关于自定义metaclass。其实我最早接触new的时候，就是因为需要自定义 metaclass，但鉴于篇幅原因，我们下次再来讲python中的metaclass和new的关系。\n\n四、用new来实现单例\n事实上，当我们理解了new方法后，我们还可以利用它来做一些其他有趣的事情，比如实现 设计模式中的 单例模式(singleton) 。\n因为类每一次实例化后产生的过程都是通过new来控制的，所以通过重载new方法，我们 可以很简单的实现单例模式。\n\ndef __new__(cls):\n        # 关键在于这，每一次实例化的时候，我们都只会返回这同一个instance对象\n        if not hasattr(cls, 'instance'):\n            cls.instance = super(Singleton, cls).__new__(cls)\n        return cls.instance\n \nobj1 = Singleton()\nobj2 = Singleton()\n \nobj1.attr1 = 'value1'\nprint obj1.attr1, obj2.attr1\nprint obj1 is obj2\n输出结果：\n\nTrue\n可以看到obj1和obj2是同一个实例。"
    },
    {
      "metadata": {
        "trusted": true
      },
      "cell_type": "code",
      "source": "class Singleton(object):\n    def __new__(cls):\n        print(f'cls = {id(cls)}')\n        if  not hasattr(cls, 'instance'):\n            cls.instance = super(Singleton, cls).__new__(cls)\n        return cls.instance\n    def __init__(self):\n        print(f'self = {id(self)}')\n    \ninstance = Singleton()\nprint(f'instance = {instance}')\nprint('*' * 30)\n# instance1 = Singleton()\n# print(instance1)\n# print(id(Singleton))\nSingleton.__dict__",
      "execution_count": 89,
      "outputs": [
        {
          "output_type": "stream",
          "text": "cls = 93960518439192\nself = 139717532082696\ninstance = <__main__.Singleton object at 0x7f1285de6208>\n******************************\n",
          "name": "stdout"
        },
        {
          "output_type": "execute_result",
          "execution_count": 89,
          "data": {
            "text/plain": "mappingproxy({'__module__': '__main__',\n              '__new__': <staticmethod at 0x7f1285da9ef0>,\n              '__init__': <function __main__.Singleton.__init__(self)>,\n              '__dict__': <attribute '__dict__' of 'Singleton' objects>,\n              '__weakref__': <attribute '__weakref__' of 'Singleton' objects>,\n              '__doc__': None,\n              'instance': <__main__.Singleton at 0x7f1285de6208>})"
          },
          "metadata": {}
        }
      ]
    },
    {
      "metadata": {
        "trusted": true
      },
      "cell_type": "code",
      "source": "",
      "execution_count": null,
      "outputs": []
    }
  ],
  "metadata": {
    "kernelspec": {
      "name": "python36",
      "display_name": "Python 3.6",
      "language": "python"
    }
  },
  "nbformat": 4,
  "nbformat_minor": 2
}