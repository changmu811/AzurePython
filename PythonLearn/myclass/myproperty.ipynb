{
  "cells": [
    {
      "metadata": {
        "trusted": true
      },
      "cell_type": "code",
      "source": "import os ",
      "execution_count": 124,
      "outputs": []
    },
    {
      "metadata": {
        "trusted": true
      },
      "cell_type": "code",
      "source": "class Age:    # data verify and filter\n    def __init__(self):\n        print('Age constructor')\n        \n    def __get__(self, instance, owner):\n        print(f'self add := {id(self)} instance add := {id(instance)}')\n        print('__get__')\n        return instance.value\n        \n    def __set__(self, instance, value):\n        print('__set__')\n        instance.value = value\n        \n    def __delete__(self, instance):\n        print('d__delete__')\n        del instance.value\n        \n\nclass Person:\n    def __init__(self):\n        print(f'Person add := {id(Person)}')\n        print('Person constructor')\n        \n        \n    age = Age()\n    print(f'Age add := {id(Age)}')\n    print(f'age add := {id(age)}')\n    \n    \n    \nper = Person()\nper.age = 66\nprint(f'per add := {id(per)}')\nprint(per.age)\nprint(type(per.age))\ndel per.age",
      "execution_count": 125,
      "outputs": [
        {
          "output_type": "stream",
          "text": "Age constructor\nAge add := 94580051206968\nage add := 140515824709024\nPerson add := 94580051339976\nPerson constructor\n__set__\nper add := 140515824706112\nself add := 140515824709024 instance add := 140515824706112\n__get__\n66\nself add := 140515824709024 instance add := 140515824706112\n__get__\n<class 'int'>\nd__delete__\n",
          "name": "stdout"
        }
      ]
    },
    {
      "metadata": {
        "trusted": true
      },
      "cell_type": "code",
      "source": "class Foo:\n    def __init__(self):\n        print('Foo constructor')\n        self.__age = 66\n        \n    @property\n    def age(self):\n        print(\"__getter__\")\n        return self.__age\n    \n    @age.setter\n    def age(self, value):\n        print(\"__setter__\")\n        self.__age = value\n        \n    @age.deleter\n    def age(self):\n        print(\"__deleter__\")\n        del self.__age \n    \nfoo = Foo()\nprint(foo.age)\nfoo.age = 88\nprint(foo.age)\ndel foo.age",
      "execution_count": 126,
      "outputs": [
        {
          "output_type": "stream",
          "text": "Foo constructor\n__getter__\n66\n__setter__\n__getter__\n88\n__deleter__\n",
          "name": "stdout"
        }
      ]
    },
    {
      "metadata": {
        "trusted": true
      },
      "cell_type": "code",
      "source": "class Bar:\n    def __init__(self):\n        self.__age = 66\n        print(\"__init__ constructor\")\n        \n    def GetAge(self):\n        print(\"GetAge()\")\n        return self.__age\n    \n    def SetAge(self, value):\n        print(\"SetAge()\")\n        self.__age = value\n        \n    def DeleteAge(self):\n        print(\"DeleteAge()\")\n        del self.__age\n    \n        \n    age = property(fget = GetAge, fset = SetAge, fdel = DeleteAge, doc = None)\n    \n    \nbar = Bar()\nprint(bar.age)",
      "execution_count": 127,
      "outputs": [
        {
          "output_type": "stream",
          "text": "__init__ constructor\nGetAge()\n66\n",
          "name": "stdout"
        }
      ]
    },
    {
      "metadata": {
        "trusted": true
      },
      "cell_type": "code",
      "source": "class Age(object):\n    def __init__(self):\n        print('__init__()')\n    def __get__(self):\n        print('__get__')",
      "execution_count": 128,
      "outputs": []
    },
    {
      "metadata": {
        "trusted": true
      },
      "cell_type": "code",
      "source": "# import utils",
      "execution_count": 129,
      "outputs": []
    },
    {
      "metadata": {
        "trusted": true
      },
      "cell_type": "code",
      "source": "# utils.math.operator.xor(1, 8)",
      "execution_count": 130,
      "outputs": []
    },
    {
      "metadata": {
        "trusted": true
      },
      "cell_type": "code",
      "source": "import python_utils\nfrom python_utils import converters\n\nnumber = converters.to_int('spam15eggs', regexp=True)\nprint(number)\nassert number == 15\n#converters.remapap()",
      "execution_count": 146,
      "outputs": [
        {
          "output_type": "stream",
          "text": "15\n",
          "name": "stdout"
        }
      ]
    },
    {
      "metadata": {
        "trusted": true
      },
      "cell_type": "code",
      "source": "",
      "execution_count": null,
      "outputs": []
    }
  ],
  "metadata": {
    "kernelspec": {
      "name": "python36",
      "display_name": "Python 3.6",
      "language": "python"
    },
    "language_info": {
      "mimetype": "text/x-python",
      "nbconvert_exporter": "python",
      "name": "python",
      "pygments_lexer": "ipython3",
      "version": "3.6.6",
      "file_extension": ".py",
      "codemirror_mode": {
        "version": 3,
        "name": "ipython"
      }
    },
    "celltoolbar": "Raw Cell Format"
  },
  "nbformat": 4,
  "nbformat_minor": 2
}