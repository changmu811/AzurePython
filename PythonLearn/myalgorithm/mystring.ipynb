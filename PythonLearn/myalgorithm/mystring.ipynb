{
  "cells": [
    {
      "metadata": {
        "trusted": true
      },
      "cell_type": "code",
      "source": "import os\nimport builtins\n# import win32com.client",
      "execution_count": null,
      "outputs": []
    },
    {
      "metadata": {
        "trusted": true
      },
      "cell_type": "code",
      "source": "def strcmp(_Str1, _Str2):\n    len1 = len(_Str1)\n    len2 = len(_Str2)\n    idx = 0\n    while len1 == len2:\n        while idx < len1 and idx < len2:\n            if (int(ord(_Str1[idx])) - int(ord(_Str2[idx]))) > 0:\n                return 1\n            elif (int(ord(_Str1[idx])) - int(ord(_Str2[idx]))) < 0:\n                return -1\n            else:\n                idx += 1\n                continue\n        return 0\n    while len1 > len2:\n        return 1\n    while len1 < len2:\n        return -1",
      "execution_count": null,
      "outputs": []
    },
    {
      "metadata": {
        "trusted": true
      },
      "cell_type": "code",
      "source": "str1 = 'chin'\nstr2 = 'china'\nres = strcmp(str1, str2)\nprint(res)",
      "execution_count": null,
      "outputs": []
    },
    {
      "metadata": {
        "trusted": true
      },
      "cell_type": "code",
      "source": "# !python3 -m pip install --upgrade pip     # pip 19.3.1 原始版本\n# python -m pip install pypiwin32 不能安装可能系统不是windows\n#!pip3 list --outdated",
      "execution_count": null,
      "outputs": []
    },
    {
      "metadata": {
        "trusted": true
      },
      "cell_type": "code",
      "source": "# !pip3 list\n# !pip install <pkg name>   azure\n# !conda install <pkg name> -y",
      "execution_count": null,
      "outputs": []
    },
    {
      "metadata": {
        "trusted": true
      },
      "cell_type": "code",
      "source": "def Hex2Int(string):\n    element_num = len(string)\n    index = 0\n    result = 0 \n    temp_res = 0\n    while index < element_num:\n        if ord(string[index].upper()) >= ord('A') and ord(string[index].upper()) <= ord('F'):\n            temp_res = ord(string[index].upper()) - ord('A') + 10\n            index += 1\n        elif ord(string[index]) >= ord('0') and ord(string[index]) <= ord('9'):\n            temp_res = ord(string[index]) - ord('0')\n            index += 1 \n        else:\n            return\n        result = (result << 4) + temp_res \n    return result\n\nres = Hex2Int('abc9')\nprint(res)\n\n",
      "execution_count": 1,
      "outputs": [
        {
          "output_type": "stream",
          "text": "43977\n",
          "name": "stdout"
        }
      ]
    },
    {
      "metadata": {
        "trusted": true
      },
      "cell_type": "code",
      "source": "# !pip3 list --outdated\n",
      "execution_count": null,
      "outputs": []
    },
    {
      "metadata": {
        "trusted": true
      },
      "cell_type": "code",
      "source": "\"china\".",
      "execution_count": null,
      "outputs": []
    }
  ],
  "metadata": {
    "kernelspec": {
      "name": "python36",
      "display_name": "Python 3.6",
      "language": "python"
    },
    "language_info": {
      "mimetype": "text/x-python",
      "nbconvert_exporter": "python",
      "name": "python",
      "pygments_lexer": "ipython3",
      "version": "3.6.6",
      "file_extension": ".py",
      "codemirror_mode": {
        "version": 3,
        "name": "ipython"
      }
    }
  },
  "nbformat": 4,
  "nbformat_minor": 2
}