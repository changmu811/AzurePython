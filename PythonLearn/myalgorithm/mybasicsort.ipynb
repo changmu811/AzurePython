{
  "cells": [
    {
      "metadata": {
        "trusted": true
      },
      "cell_type": "code",
      "source": "import os \nimport time\nimport numpy as np",
      "execution_count": null,
      "outputs": []
    },
    {
      "metadata": {
        "trusted": true
      },
      "cell_type": "code",
      "source": "citys_list = ['上海', '北京', '天津', '重庆']\nfor idx, city in enumerate(citys_list):\n    print(f'index{[idx]}={city}')",
      "execution_count": null,
      "outputs": []
    },
    {
      "metadata": {
        "trusted": true
      },
      "cell_type": "code",
      "source": "sort_list = [5, 4, 3, 2, 1, 0]\ndef Bubble(li):\n    len_list = len(li)\n    for i in range(0, len_list - 1):\n        for j in range(i + 1, len_list):\n            if li[i] > li[j]:\n                li[i], li[j] = li[j], li[i] \n                print(f'i = {i} {li}  j = {j}') \n        print(f'-----------> i = {i}') \n    #return li \n\nBubble(sort_list)\nprint('*' * 30)\nprint(sort_list)",
      "execution_count": null,
      "outputs": []
    },
    {
      "metadata": {
        "trusted": true
      },
      "cell_type": "code",
      "source": "select_list = [5, 4, 3, 2, 1, 0]\ndef Select_Sort(li):\n    length = len(li)\n    for i in range(0, length - 1):  # i 控制循环次数\n        for j in range(0, length - i - 1):\n            if li[j] > li[j + 1]:\n                li[j], li[j + 1] = li[j + 1], li[j]\n                print(li)\n        print('------------->', i)\n        \nSelect_Sort(select_list)\nprint('*' * 30)\nprint(select_list)",
      "execution_count": null,
      "outputs": []
    },
    {
      "metadata": {
        "trusted": true,
        "scrolled": false
      },
      "cell_type": "code",
      "source": "def Insert_Sort(arrary):\n    len_arrary = len(arrary)\n    print(len_arrary)\n    for i in range(1, len_arrary):\n        if arrary[i] < arrary[i - 1]:\n            temp = arrary[i]\n            j = i - 1\n            while j >= 0 and temp < arrary[j]:\n                arrary[j + 1] = arrary[j]\n                j -= 1\n            arrary[j + 1] = temp\n# insert_array = list(np.random.randint(1, 10001, size = 10000))\n# %time Insert_Sort(insert_array)\n# print(insert_array)            ",
      "execution_count": null,
      "outputs": []
    },
    {
      "metadata": {
        "trusted": true
      },
      "cell_type": "code",
      "source": "arr = [-1, 5, 4, 3, 2, 1]\nInsert_Sort(arr)\nprint(arr)",
      "execution_count": null,
      "outputs": []
    },
    {
      "metadata": {
        "trusted": true
      },
      "cell_type": "code",
      "source": "def get_max(number):#寻最小值函数\n    if len(number) == 1:\n        return number[0]\n    else:\n        if number[1]>number[0]:\n            return number[0]\n        else:\n            return number[1]\n# 分治法\ndef solve(number):\n    n = len(number)\n    if n <= 2:  # 数据规模小于等于2使用get_max()函数\n        return get_max(number)\n    # 分解（子问题规模为 n/2）\n    left_list, right_list = number[:n // 2], number[n // 2:]\n    print('--' * 60)\n    print('Left recusive',  left_list)\n    print('Right recusive', right_list)\n    # 递归（树），分治\n    left_max, right_max = solve(left_list), solve(right_list)\n    # 合并\n    return get_max([left_max, right_max])\nif __name__ == \"__main__\":\n    # 测试数据\n    test_list = [33,52,2,25,63,75,43,72,63,-1,45,97,53,25,14,18,3,5]\n    # 求出最小值\n    print(solve(test_list))",
      "execution_count": null,
      "outputs": []
    },
    {
      "metadata": {
        "trusted": true
      },
      "cell_type": "markdown",
      "source": "# shell sort\n    数组存放基本有序，大的都在右边，小的都在左边。\n    数组长度很小时，排序速度很快"
    },
    {
      "metadata": {
        "trusted": true
      },
      "cell_type": "code",
      "source": "def Shell_Sort(arrary):\n    length = len(arrary)\n    gap = length\n    while gap > 1:\n        gap = gap // 3 + 1\n        for x in range(gap):\n            i = x + gap\n            while i < length:\n                if arrary[i] < arrary[i - gap]:\n                    temp = arrary[i] \n                    j = i - gap\n                    while j >= 0 and temp < arrary[j]:\n                        arrary[j + gap] = arrary[j] \n                        j -= gap \n                    arrary[j + gap] = temp\n                    # i -= gap\n                i += gap    \n# shell_array = list(np.random.randint(1, 10001, size = 10000))\n# %time Shell_Sort(shell_array)\n# print(shell_array)",
      "execution_count": null,
      "outputs": []
    },
    {
      "metadata": {
        "trusted": true
      },
      "cell_type": "code",
      "source": "#shell_list = [i for i in range(5000, 1, -1)]\n# start_time = time.time()\n#%time Shell_Sort(shell_list)\n# end_time = time.time()\n# print(shell_list)\n# print(end_time - start_time)\nprint('*' * 60)\n#insert_list = [i for i in range(5000, 1, -1)]\n# start_time = time.time()\n#%time Insert_Sort(insert_list)\n# end_time = time.time()\n# print(insert_list)\n# print(end_time - start_time)",
      "execution_count": null,
      "outputs": []
    },
    {
      "metadata": {
        "trusted": true
      },
      "cell_type": "code",
      "source": "",
      "execution_count": null,
      "outputs": []
    }
  ],
  "metadata": {
    "kernelspec": {
      "name": "python36",
      "display_name": "Python 3.6",
      "language": "python"
    },
    "language_info": {
      "mimetype": "text/x-python",
      "nbconvert_exporter": "python",
      "name": "python",
      "pygments_lexer": "ipython3",
      "version": "3.6.6",
      "file_extension": ".py",
      "codemirror_mode": {
        "version": 3,
        "name": "ipython"
      }
    }
  },
  "nbformat": 4,
  "nbformat_minor": 2
}