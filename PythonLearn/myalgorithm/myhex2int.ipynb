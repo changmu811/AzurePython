{
  "cells": [
    {
      "metadata": {
        "trusted": true
      },
      "cell_type": "code",
      "source": "import os ",
      "execution_count": 32,
      "outputs": []
    },
    {
      "metadata": {
        "trusted": true
      },
      "cell_type": "code",
      "source": "def hex2int(arrary):\n    len_arr = len(arrary)\n    result = 0\n    temp = 0\n    for i in range(len_arr):\n        if ord(arrary[i].upper()) >= ord('A') and ord(arrary[i].upper()) <= ord('F'):\n            temp = ord(arrary[i].upper()) - ord('A') + 10\n        elif ord(arrary[i].upper()) >= ord('0') and ord(arrary[i].upper()) <= ord('9'):\n            temp = ord(arrary[i].upper()) - ord('0') \n        else:\n            return None\n        result = (result << 4) + temp \n    return result",
      "execution_count": 33,
      "outputs": []
    },
    {
      "metadata": {
        "trusted": true
      },
      "cell_type": "code",
      "source": "res = hex2int('ffff')\nprint(res)",
      "execution_count": 34,
      "outputs": [
        {
          "output_type": "stream",
          "text": "65535\n",
          "name": "stdout"
        }
      ]
    },
    {
      "metadata": {
        "trusted": true
      },
      "cell_type": "code",
      "source": "",
      "execution_count": null,
      "outputs": []
    }
  ],
  "metadata": {
    "kernelspec": {
      "name": "python36",
      "display_name": "Python 3.6",
      "language": "python"
    },
    "language_info": {
      "mimetype": "text/x-python",
      "nbconvert_exporter": "python",
      "name": "python",
      "pygments_lexer": "ipython3",
      "version": "3.6.6",
      "file_extension": ".py",
      "codemirror_mode": {
        "version": 3,
        "name": "ipython"
      }
    }
  },
  "nbformat": 4,
  "nbformat_minor": 2
}