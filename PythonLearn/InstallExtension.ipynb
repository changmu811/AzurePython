{
  "metadata": {
    "kernelspec": {
      "name": "python3",
      "display_name": "Python 3",
      "language": "python"
    },
    "language_info": {
      "mimetype": "text/x-python",
      "nbconvert_exporter": "python",
      "name": "python",
      "file_extension": ".py",
      "version": "3.5.4",
      "pygments_lexer": "ipython3",
      "codemirror_mode": {
        "version": 3,
        "name": "ipython"
      }
    }
  },
  "nbformat_minor": 2,
  "nbformat": 4,
  "cells": [
    {
      "cell_type": "markdown",
      "source": "# Installing Notebook Extensions\n\nThis notebook demonstrates how to install notebook extensions into a Jupyter notebook running on Azure Notebooks.\n\nCurrently only installing notebook extensions is supported.  If you require a server extension you are unable to install it because the server is already running.  If there's a server of interest please let us know at https://github.com/Microsoft/AzureNotebooks\n\nThe first step is to install the notebook extension package that you're interested in.  Here we'll install the jupyter_nbcontrib_nbextensions set of extensions which include many different extensions.",
      "metadata": {}
    },
    {
      "cell_type": "code",
      "source": "!pip install jupyter_contrib_nbextensions",
      "metadata": {
        "trusted": true
      },
      "execution_count": null,
      "outputs": [
        {
          "text": "Collecting jupyter_contrib_nbextensions\n\u001b[?25l  Downloading https://files.pythonhosted.org/packages/33/f0/6e2c00afda860f655fbf0f795f7310bdbf12122846344dfdc803fc7455d5/jupyter_contrib_nbextensions-0.5.1-py2.py3-none-any.whl (20.9MB)\n\u001b[K     |███████████████████▊            | 12.9MB 6.6MB/s eta 0:00:02",
          "name": "stdout",
          "output_type": "stream"
        }
      ]
    },
    {
      "cell_type": "markdown",
      "source": "## Install JavaScript and CSS\n\nThe next step is to install the JavaScript and CSS files which compose the notebook extension.  \n\nWe'll need to pass the --user option because we can't write to the system-wide Python's jupyter files.",
      "metadata": {}
    },
    {
      "cell_type": "code",
      "source": "!jupyter contrib nbextension install --user",
      "metadata": {
        "trusted": true
      },
      "execution_count": null,
      "outputs": []
    },
    {
      "cell_type": "markdown",
      "source": "## Enable Extensions\nThen we'll need to enable the extension that we'd like to have available to us.  Because we installed the nbextensions package there's actually a long list, you can see it here: https://github.com/ipython-contrib/jupyter_contrib_nbextensions/wiki/Home-4.x-(Jupyter)\n\nBut we'll just enable the code folding extension which will let us collapse function defintions and other blocks.",
      "metadata": {}
    },
    {
      "cell_type": "code",
      "source": "!/usr/local/bin/jupyter nbextension enable codefolding/main",
      "metadata": {
        "trusted": true
      },
      "execution_count": null,
      "outputs": []
    },
    {
      "cell_type": "markdown",
      "source": "## Refresh Browser\n\nFinally to see the extension get enabled you'll need to refresh your web browser.  After doing so you should be able to code fold the line below.",
      "metadata": {}
    },
    {
      "cell_type": "code",
      "source": "def f():\n    print('hello there')",
      "metadata": {
        "trusted": true
      },
      "execution_count": null,
      "outputs": []
    },
    {
      "cell_type": "code",
      "source": "",
      "metadata": {
        "trusted": true
      },
      "execution_count": null,
      "outputs": []
    }
  ]
}