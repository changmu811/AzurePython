{
  "cells": [
    {
      "metadata": {
        "collapsed": true
      },
      "cell_type": "markdown",
      "source": "###  闭包的定义(colsure)\n###  1: 闭包是嵌套，内部函数调用外部函数的变量(包括外部函数的参数，才能形成闭包。\n### 2： 内部函数使用了外部函数的局部变量（并且外部局部变量不可改变）\n### 3：返回内部函数\n### 4:  内部函数改变外部函数变量和参数要使用     nonlocal"
    },
    {
      "metadata": {
        "trusted": true
      },
      "cell_type": "code",
      "source": "def outer():\n    x = 1\n    def inner():\n        print(x)  #必须使用外部变量才是闭包，如果把x改为1你会发现不是闭包了。\n    return inner\n    #print(inner.__closure__)\nmy_inner = outer()  # 通过这样的调用，x = 1 inner()  被my_inner 接收了!!!，那么 x = 1, inner()函数会保存在内存中（x = 1 不会随函数消失）\nmy_inner.__closure__ # 程序结束 x = 1 inner() 才会消失。",
      "execution_count": 43,
      "outputs": [
        {
          "output_type": "execute_result",
          "execution_count": 43,
          "data": {
            "text/plain": "(<cell at 0x7fc834e7e6a8: int object at 0x55b77d408a20>,)"
          },
          "metadata": {}
        }
      ]
    },
    {
      "metadata": {
        "trusted": true
      },
      "cell_type": "code",
      "source": "cell = my_inner.__closure__[0]\nprint(cell.cell_contents)  # 打包出来的 x = 1(cell.cell_contents)\nprint(my_inner())",
      "execution_count": 44,
      "outputs": [
        {
          "output_type": "stream",
          "text": "1\n1\nNone\n",
          "name": "stdout"
        }
      ]
    },
    {
      "metadata": {},
      "cell_type": "markdown",
      "source": "### colsure 应用"
    },
    {
      "metadata": {
        "trusted": true
      },
      "cell_type": "code",
      "source": "import urllib\nfrom urllib.request import urlopen\n# from urllib.request import urlopen\n# res = urlopen('http://httpbin.org').read()\n# print(res.decode(encoding='utf-8'))\ndef get_url():       # global nonlocal\n    url = 'http://httpbin.org'\n    def get():\n        res = urlopen(url).read() # 闭包规则使用外层函数变量。\n        return res\n    return get \nres_url = get_url()\nres = res_url()\nprint(f'res = {type(res)}')\n# print(res.decode(encoding='utf-8'))\n",
      "execution_count": 45,
      "outputs": [
        {
          "output_type": "stream",
          "text": "res = <class 'bytes'>\n",
          "name": "stdout"
        }
      ]
    },
    {
      "metadata": {
        "trusted": true
      },
      "cell_type": "code",
      "source": "class A(object): # 单例模式\n    obj = None\n    \n    def __new__(cls, *args, **kwagrs):\n        if cls.obj is None:\n            cls.obj = object.__new__(cls)\n            print(f'cls.obj:={(id(cls.obj))}')\n        return cls.obj ",
      "execution_count": 46,
      "outputs": []
    },
    {
      "metadata": {
        "trusted": true
      },
      "cell_type": "code",
      "source": "a = A()\nprint(f'a:={type(a)}')\nprint(id(A()))\nprint(id(a))",
      "execution_count": 47,
      "outputs": [
        {
          "output_type": "stream",
          "text": "cls.obj:=140497855021464\na:=<class '__main__.A'>\n140497855021464\n140497855021464\n",
          "name": "stdout"
        }
      ]
    },
    {
      "metadata": {
        "trusted": true
      },
      "cell_type": "code",
      "source": "sz = 'china'\nsz.__contains__('i')",
      "execution_count": 48,
      "outputs": [
        {
          "output_type": "execute_result",
          "execution_count": 48,
          "data": {
            "text/plain": "True"
          },
          "metadata": {}
        }
      ]
    },
    {
      "metadata": {
        "trusted": true
      },
      "cell_type": "code",
      "source": "def my_closure(x):\n    x = x\n    def inner():\n#         nonlocal x\n#         x = x - 1\n        print(x)\n        print(in_fn.__closure__)\n    return inner\nin_fn = my_closure(10)\nprint(type(in_fn))\nin_fn()\n",
      "execution_count": 49,
      "outputs": [
        {
          "output_type": "stream",
          "text": "<class 'function'>\n10\n(<cell at 0x7fc834e7ea68: int object at 0x55b77d408b40>,)\n",
          "name": "stdout"
        }
      ]
    },
    {
      "metadata": {
        "trusted": true
      },
      "cell_type": "code",
      "source": "# cloure 常见坑\ndef count():\n    fs = []\n    for i in range(1, 4):\n        def inner():\n            return i * i\n        fs.append(inner)\n    return fs\nfn1, fn2, fn3 = count() #这里进行了拆包\nprint(type(fn1))\nprint(fn1())\nprint(fn2())\nprint(fn3())",
      "execution_count": 50,
      "outputs": [
        {
          "output_type": "stream",
          "text": "<class 'function'>\n9\n9\n9\n",
          "name": "stdout"
        }
      ]
    },
    {
      "metadata": {
        "trusted": true
      },
      "cell_type": "code",
      "source": "# 解决方法，在套上一层函数\ndef count():\n    fs = []\n    for i in range(1, 4):\n        def outer(i):\n            def inner():\n                return i * i\n            return inner\n        fs.append(outer(i))\n    return fs\nfn1, fn2, fn3 = count()\nprint(fn1())\nprint(fn2())\nprint(fn3())",
      "execution_count": 51,
      "outputs": [
        {
          "output_type": "stream",
          "text": "1\n4\n9\n",
          "name": "stdout"
        }
      ]
    },
    {
      "metadata": {
        "trusted": true
      },
      "cell_type": "code",
      "source": "zip()",
      "execution_count": null,
      "outputs": []
    }
  ],
  "metadata": {
    "kernelspec": {
      "name": "python36",
      "display_name": "Python 3.6",
      "language": "python"
    },
    "language_info": {
      "mimetype": "text/x-python",
      "nbconvert_exporter": "python",
      "name": "python",
      "pygments_lexer": "ipython3",
      "version": "3.6.6",
      "file_extension": ".py",
      "codemirror_mode": {
        "version": 3,
        "name": "ipython"
      }
    }
  },
  "nbformat": 4,
  "nbformat_minor": 2
}