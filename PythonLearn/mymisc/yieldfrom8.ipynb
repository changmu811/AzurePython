{
  "cells": [
    {
      "metadata": {
        "collapsed": true
      },
      "cell_type": "markdown",
      "source": "###\nPython并发编程之深入理解yield from语法（八）\nhttps://nbextensions-changmu811.notebooks.azure.com/j/notebooks/PythonLearn/mymisc/yieldfrom5.ipynb"
    },
    {
      "metadata": {},
      "cell_type": "markdown",
      "source": "###\nhttps://www.jianshu.com/p/87da832730f5\n\n###\nhttps://www.jianshu.com/p/dcc583219917\n\n###\nhttps://www.cnblogs.com/wongbingming/p/9085268.html"
    },
    {
      "metadata": {
        "trusted": true
      },
      "cell_type": "code",
      "source": "from collections import Iterable\n\ndef flatten(items, ignore_types=(str, bytes)):\n    for x in items:\n        if isinstance(x, Iterable) and not isinstance(x, ignore_types):\n            yield from flatten(x)\n        else:\n            yield x\n\nitems = [1, 2, [3, 4, [5, 6], 7], 8]\nfor x in flatten(items):\n    print(x)\n\n\nitems = ['Dave', 'Paula', ['Thomas', 'Lewis']]\nfor x in flatten(items):\n    print(x)",
      "execution_count": 4,
      "outputs": [
        {
          "output_type": "stream",
          "text": "1\n2\n3\n4\n5\n6\n7\n8\nDave\nPaula\nThomas\nLewis\n",
          "name": "stdout"
        }
      ]
    }
  ],
  "metadata": {
    "kernelspec": {
      "name": "python36",
      "display_name": "Python 3.6",
      "language": "python"
    },
    "language_info": {
      "mimetype": "text/x-python",
      "nbconvert_exporter": "python",
      "name": "python",
      "pygments_lexer": "ipython3",
      "version": "3.6.6",
      "file_extension": ".py",
      "codemirror_mode": {
        "version": 3,
        "name": "ipython"
      }
    }
  },
  "nbformat": 4,
  "nbformat_minor": 2
}