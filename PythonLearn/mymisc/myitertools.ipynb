{
 "cells": [
  {
   "cell_type": "code",
   "execution_count": 22,
   "metadata": {},
   "outputs": [],
   "source": [
    "import itertools\n",
    "\n",
    "# http://www.mamicode.com/info-detail-2201554.html"
   ]
  },
  {
   "cell_type": "code",
   "execution_count": 23,
   "metadata": {},
   "outputs": [
    {
     "name": "stdout",
     "output_type": "stream",
     "text": "1 2 3 4 5 6 7 8 9 10 11 abc\nabc\nabc\n[1, 3, 6, 10, 15]\n[1, 2, 3, 4, 5, 6]\n[(1, 2, 3, 4), (1, 2, 3, 5), (1, 2, 4, 5), (1, 3, 4, 5), (2, 3, 4, 5)]\n"
    },
    {
     "data": {
      "text/plain": "[('0', ['abc-0', 'def-0']), ('1', ['xyz-1', 'tty-1']), ('2', ['kkk-2'])]"
     },
     "execution_count": 23,
     "metadata": {},
     "output_type": "execute_result"
    }
   ],
   "source": [
    "cnt = itertools.count(1)  # die for\n",
    "for c in cnt:\n",
    "    if c <= 11:\n",
    "        print(c, end = ' ')\n",
    "    else:\n",
    "        break\n",
    "        \n",
    "# cycle_str = itertools.cycle('chinachina')  # die for\n",
    "# for c in cycle_str:\n",
    "#     print(c)\n",
    "\n",
    "iter_repeat = itertools.repeat('abc', 3)\n",
    "for i in iter_repeat:\n",
    "    print(i)\n",
    "    \n",
    "acc_sum = itertools.accumulate([1,2,3,4,5], lambda x, y: x + y) # 当没有传入func时，func相当于 operator.add\n",
    "print(list(acc_sum))\n",
    "\n",
    "chain_list = itertools.chain([1,2,3], [4, 5, 6])\n",
    "print(list(chain_list))\n",
    "\n",
    "com_list = itertools.combinations([1,2,3,4,5], 4) # 只能迭代一次\n",
    "print(list(com_list))\n",
    "# for com in com_list:\n",
    "#     print(tuple(com))\n",
    "\n",
    "# print('')\n",
    "# com_str = itertools.combinations_with_replacement(range(1, 6), 5)\n",
    "# print(list(com_str))\n",
    "\n",
    "list(itertools.dropwhile(lambda x: x>3, [7,3,8,2,1,6,5,4]))\n",
    "\n",
    "data = ['abc-0', 'def-0', 'xyz-1', 'tty-1', 'kkk-2']\n",
    "a = itertools.groupby(data, lambda x:x[-1])\n",
    "[(k, list(g)) for k, g in a]\n",
    "\n"
   ]
  },
  {
   "cell_type": "code",
   "execution_count": 24,
   "metadata": {},
   "outputs": [
    {
     "name": "stdout",
     "output_type": "stream",
     "text": "<class 'list'>\nChevrolet\nCobalt is made by Chevrolet\nDodge\nCharger is made by Dodge\nDurango is made by Dodge\nFord\nF150 is made by Ford\nGT is made by Ford\nTaurus is made by Ford\n**** END OF GROUP ***n\n[('Chevrolet', 'Cobalt'), ('Dodge', 'Charger'), ('Dodge', 'Durango'), ('Ford', 'F150'), ('Ford', 'GT'), ('Ford', 'Taurus')]\n"
    }
   ],
   "source": [
    "from itertools import groupby\n",
    " \n",
    "vehicles = [('Ford', 'Taurus'), ('Dodge', 'Durango'),\n",
    "            ('Chevrolet', 'Cobalt'), ('Ford', 'F150'),\n",
    "            ('Dodge', 'Charger'), ('Ford', 'GT')]\n",
    " \n",
    "sorted_vehicles = sorted(vehicles)\n",
    "print(type(sorted_vehicles)) \n",
    "for key, group in groupby(sorted_vehicles, lambda make: make[0]):\n",
    "    print(key)\n",
    "    for make, model in group:\n",
    "        print('{model} is made by {make}'.format(model=model,\n",
    "                                                 make=make))\n",
    "print (\"**** END OF GROUP ***n\")\n",
    "print(sorted_vehicles)"
   ]
  },
  {
   "cell_type": "code",
   "execution_count": 33,
   "metadata": {},
   "outputs": [
    {
     "ename": "SyntaxError",
     "evalue": "invalid syntax (<ipython-input-33-8fc85ec474a3>, line 3)",
     "output_type": "error",
     "traceback": [
      "\u001b[1;36m  File \u001b[1;32m\"<ipython-input-33-8fc85ec474a3>\"\u001b[1;36m, line \u001b[1;32m3\u001b[0m\n\u001b[1;33m    group_list = [[700L,  '9.550', '2013-05-28', '600735'],\\\u001b[0m\n\u001b[1;37m                      ^\u001b[0m\n\u001b[1;31mSyntaxError\u001b[0m\u001b[1;31m:\u001b[0m invalid syntax\n"
     ]
    }
   ],
   "source": [
    "from itertools import groupby\n",
    "from operator import itemgetter\n",
    "group_list = [[700L,  '9.550', '2013-05-28', '600735'],\n",
    "    [-1300L,  '5.390', '2013-05-27', '600701'],\n",
    "    [900L,  '6.840', '2013-05-28', '600525'],\n",
    "    [-900L,  '6.890', '2013-05-29', '600525'],\n",
    "    [-700L,  '9.670', '2013-05-29', '600735'],\n",
    "]\n",
    "\n",
    "group_list_sorted = sorted(group_list, key=itemgetter(3))\n",
    "group_result = groupby(group_list_sorted, key=itemgetter(3))\n",
    "\n",
    "for k, group in group_result:\n",
    "    print k, list(group)"
   ]
  }
 ],
 "metadata": {
  "kernelspec": {
   "display_name": "Python 3",
   "language": "python",
   "name": "python3"
  },
  "language_info": {
   "codemirror_mode": {
    "name": "ipython",
    "version": 3
   },
   "file_extension": ".py",
   "mimetype": "text/x-python",
   "name": "python",
   "nbconvert_exporter": "python",
   "pygments_lexer": "ipython3",
   "version": "3.7.3"
  }
 },
 "nbformat": 4,
 "nbformat_minor": 4
}