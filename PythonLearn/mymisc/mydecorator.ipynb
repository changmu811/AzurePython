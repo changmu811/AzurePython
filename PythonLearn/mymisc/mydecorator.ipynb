{
  "cells": [
    {
      "metadata": {
        "trusted": true
      },
      "cell_type": "code",
      "source": "import os\nimport functools\nfrom functools import wraps",
      "execution_count": 40,
      "outputs": []
    },
    {
      "metadata": {
        "trusted": true
      },
      "cell_type": "code",
      "source": "def My_Decorator(func):  # 闭包 closure\n    print('Login verify') \n    @wraps(func)\n    def wrappers():\n        func()\n    return wrappers \n\n@My_Decorator\ndef Login():\n    print('Login successfully')\n    \nLogin()",
      "execution_count": 41,
      "outputs": [
        {
          "output_type": "stream",
          "text": "Login verify\nLogin successfully\n",
          "name": "stdout"
        }
      ]
    },
    {
      "metadata": {
        "trusted": true
      },
      "cell_type": "code",
      "source": "Point = functools.namedtuple('Point', ('x', 'y'))\nPoint.x = 3\nPoint.y = 5\nsum_xy = Point.x + Point.y \nsum_xy\n",
      "execution_count": 42,
      "outputs": [
        {
          "output_type": "execute_result",
          "execution_count": 42,
          "data": {
            "text/plain": "8"
          },
          "metadata": {}
        }
      ]
    },
    {
      "metadata": {
        "trusted": true
      },
      "cell_type": "code",
      "source": "# def deco(func):\n#     def wrap(*args, **kwargs):\n#         return func(*args, **kwargs)\n#     return wrap \n# @deco\n# def foo(x, y):\n#     return x + y\n# print(foo(1, 2))\n# print(foo.__name__)\n# print(foo.__doc__)",
      "execution_count": 43,
      "outputs": []
    },
    {
      "metadata": {},
      "cell_type": "markdown",
      "source": "###\n对比被装饰前后 foo.__name__ and foo.__doc__"
    },
    {
      "metadata": {
        "trusted": true
      },
      "cell_type": "code",
      "source": "def deco(func):\n    '''I am decorator'''\n    @wraps(func) # 还原被装饰器修改的原函数属性  这句注释了就能看到效果了。\n    def wrap(*args, **kwargs):\n        '''I am wrap'''\n        return func(*args, **kwargs)\n    return wrap\n@deco  # foo = deco(foo)  foo --> by replace wrap\ndef foo(x, y):\n    '''This is a foo'''\n    return x + y \n\n# f = deco(foo)\n# print(f.__doc__)\nfoo(1, 2)\nprint(foo.__name__)\nprint(foo.__doc__)",
      "execution_count": 44,
      "outputs": [
        {
          "output_type": "stream",
          "text": "foo\nThis is a foo\n",
          "name": "stdout"
        }
      ]
    },
    {
      "metadata": {},
      "cell_type": "markdown",
      "source": "###  装饰器多层嵌套装饰\n装饰的过程是由里向外（也就是由下往上）\n执行的过程由外到里（也就是从上往下）"
    },
    {
      "metadata": {
        "trusted": true
      },
      "cell_type": "code",
      "source": "import random, time\nclass retry(object):\n    def __init__(self, max_retries, wait = 0, exceptions = (Exception,)):\n        self.max_retries = max_retries\n        self.exceptions = exceptions\n        self.wait = wait\n        \n    def __call__(self, func):   #带参数装饰func 放这里是因为先要传参所以放这里，然后装饰， 不带参数放在__init__(里)\n        def wrapper(*args, **kwargs):\n            for i in range(self.max_retries + 1):  # 这里循环效果\n                try:\n                    result = func(*args, **kwargs)\n                except self.exceptions:\n                    time.sleep(self.wait)\n                    continue\n                else:\n                    return result\n        return wrapper\n    \n@retry(3, wait = 1, exceptions = (ValueError,))\ndef foo():\n    if random.randint(-3, 1) < 0:\n        print('num < 0')\n        raise ValueError()\n    else:\n        print(123)\n        \nfoo()",
      "execution_count": 48,
      "outputs": [
        {
          "output_type": "stream",
          "text": "num < 0\nnum < 0\nnum < 0\n123\n",
          "name": "stdout"
        }
      ]
    },
    {
      "metadata": {
        "trusted": true
      },
      "cell_type": "markdown",
      "source": "### Class decorator function"
    },
    {
      "metadata": {
        "trusted": true
      },
      "cell_type": "code",
      "source": "class class_decorator_function(object):\n    def __init__(self, fn, *args, **kwargs):\n        print('class_decorator_function() is constructor')\n        self.fn = fn\n        \n    def __call__(self, *args, **kwargs):\n        print('__call__(self)')\n        print('self.fn(age)', type(self.fn))\n        return self.fn\n        \n        \n@class_decorator_function\ndef myage(age):\n    print(age)\nfn = myage()\nfn(66)",
      "execution_count": 46,
      "outputs": [
        {
          "output_type": "stream",
          "text": "class_decorator_function() is constructor\n__call__(self)\nself.fn(age) <class 'function'>\n66\n",
          "name": "stdout"
        }
      ]
    },
    {
      "metadata": {
        "trusted": true
      },
      "cell_type": "code",
      "source": "class Decorator_:    # Decorator with parameters\n    def __init__(self, city):\n        self.val = city\n    def __call__(self, fn, *args):\n        print(self.val)\n        self.fn = fn\n        def inner(x, y):\n            self.x, self.y = x, y\n            return self.fn(self.x, self.y)\n        print(f'inner add = {id(inner)}')\n        return inner\n        \n@Decorator_('Made in china')\ndef myadd(x, y):\n    return x + y \nprint(f'inner add = {id(myadd)}')\nprint(myadd(3, 6))\n        ",
      "execution_count": 47,
      "outputs": [
        {
          "output_type": "stream",
          "text": "Made in china\ninner add = 140023157277152\ninner add = 140023157277152\n9\n",
          "name": "stdout"
        }
      ]
    },
    {
      "metadata": {
        "trusted": true
      },
      "cell_type": "code",
      "source": "",
      "execution_count": null,
      "outputs": []
    }
  ],
  "metadata": {
    "kernelspec": {
      "name": "python36",
      "display_name": "Python 3.6",
      "language": "python"
    },
    "language_info": {
      "mimetype": "text/x-python",
      "nbconvert_exporter": "python",
      "name": "python",
      "pygments_lexer": "ipython3",
      "version": "3.6.6",
      "file_extension": ".py",
      "codemirror_mode": {
        "version": 3,
        "name": "ipython"
      }
    }
  },
  "nbformat": 4,
  "nbformat_minor": 2
}