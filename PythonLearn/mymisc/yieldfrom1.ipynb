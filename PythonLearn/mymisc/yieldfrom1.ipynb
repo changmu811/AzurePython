{
  "cells": [
    {
      "metadata": {},
      "cell_type": "markdown",
      "source": "###\n本文参考 https://mp.weixin.qq.com/s/Nh7w81DqOIrqMqISsbl-zg\n并对其做了些修改和完善。\n声明：本文将详细讲解python协程的实现机理，为了彻底的弄明白它到底是怎么一回事，鉴于篇幅较长，将彻底从最简单的yield说起从最简单的生成器开始说起，因为很多看到这样一句话的时候很懵，即“yield也是一种简单的协程”，这到底是为什么呢？本次系列文章“python协程系列文章”将从最简单的生成器、yield、yield from说起，然后详细讲解asyncio的实现方式。本文主要讲解Python的生成器的各种详细操作，以及yield表达式的详细应用。\n\n目录\n生成器generator以及yield表达式详解\n\n1、最简单的生成器\n\n2、send()方法的使用\n\n3、yield语句的用法总结\n\n4、迭代器(生成器)的send方法详解\n\n     ——主要目的是“交互”\n\n5、生成器throw的方法用法\n\n6、生成器的启动与关闭close\n\n     6.1、 生成器的启动\n\n     6.2、生成器的关闭——通过close()方法\n\n7、生成器的终止迭代——StopIteration\n\n注意：关于什么是可迭代对象、什么是生成器、什么是迭代器这里不再赘述。\nyield是实现生成器的重要关键字，但是yield语句有一些非常重要的小细节需要注意，可能我们在写一个简单的生成器的时候有很多东西没有用到，这里将分情况逐一讨论。特别是生成器的三个重要方法，一个是next()、一个是send()，一个是throw()，他们到底有什么样的作用。本文参考 https://mp.weixin.qq.com/s/Nh7w81DqOIrqMqISsbl-zg\n并对其做了些修改和完善。\n声明：本文将详细讲解python协程的实现机理，为了彻底的弄明白它到底是怎么一回事，鉴于篇幅较长，将彻底从最简单的yield说起从最简单的生成器开始说起，因为很多看到这样一句话的时候很懵，即“yield也是一种简单的协程”，这到底是为什么呢？本次系列文章“python协程系列文章”将从最简单的生成器、yield、yield from说起，然后详细讲解asyncio的实现方式。本文主要讲解Python的生成器的各种详细操作，以及yield表达式的详细应用。\n\n目录\n生成器generator以及yield表达式详解\n\n1、最简单的生成器\n\n2、send()方法的使用\n\n3、yield语句的用法总结\n\n4、迭代器(生成器)的send方法详解\n\n     ——主要目的是“交互”\n\n5、生成器throw的方法用法\n\n6、生成器的启动与关闭close\n\n     6.1、 生成器的启动\n\n     6.2、生成器的关闭——通过close()方法\n\n7、生成器的终止迭代——StopIteration\n\n注意：关于什么是可迭代对象、什么是生成器、什么是迭代器这里不再赘述。\nyield是实现生成器的重要关键字，但是yield语句有一些非常重要的小细节需要注意，可能我们在写一个简单的生成器的时候有很多东西没有用到，这里将分情况逐一讨论。特别是生成器的三个重要方法，一个是next()、一个是send()，一个是throw()，他们到底有什么样的作用。"
    },
    {
      "metadata": {
        "trusted": true
      },
      "cell_type": "code",
      "source": "def my_generator(n):\n    for i in range(n):\n        yield i",
      "execution_count": 4,
      "outputs": []
    },
    {
      "metadata": {
        "trusted": true
      },
      "cell_type": "code",
      "source": "def my_generator(n):\n    for i in range(n):\n        temp = yield i\n        print('我是', temp)\n\n\ng = my_generator(5)\n\nprint('------第一次迭代------')\nprint(next(g))  # 输出0\nprint('------第二次迭代------')\nprint(next(g))  # 输出1\nprint('------第三次迭代------')\nm = g.send(100)\nprint(m)        # 输出2\nprint('------第四次迭代------')\nprint(next(g))  # 输出3\nprint('------第五次迭代------')\nprint(next(g))  # 输出4",
      "execution_count": 5,
      "outputs": [
        {
          "output_type": "stream",
          "text": "------第一次迭代------\n0\n------第二次迭代------\n我是 None\n1\n------第三次迭代------\n我是 100\n2\n------第四次迭代------\n我是 None\n3\n------第五次迭代------\n我是 None\n4\n",
          "name": "stdout"
        }
      ]
    },
    {
      "metadata": {},
      "cell_type": "markdown",
      "source": "###\n从上面可以看出yield语句与普通函数的return语句的区别在哪里了，主要集中在以下几点：\n（1）return 不能写成“temp=return xxxx”的形式，会提示语法错误，但是yield可以写成“temp=yield xxxx”的形式, 不过temp被赋值为None。\n（2）普通函数return后面的语句都是不会再执行的，但是yield语句后面的依然会执行，但是需要注意的是，由于“延迟加载”特性，yield后面的代码并不是在第一次迭代的时候执行的，而是第二次迭代的时候才执行第一次yield后面没有执行的代码。\n也正是这个特性，构成了yield为什么是实现协程的最简单实现。\n（3）使用send()方法传进去的值，实际上就是yield表达式返回的值，即temp的值，\n这就是为什么前面每次输出print(temp)都打印出None，因为没有send值，所以temp为None，但是send（100）之后却打印100，因为此时temp就是100了。但在下次迭代时，temp又被yield语句赋值为None。\n我甚至还可以在yield后面不放任何东西，如下代码："
    },
    {
      "metadata": {
        "trusted": true
      },
      "cell_type": "code",
      "source": "def my_generator(n):\n    for i in range(n):\n        temp = yield  # yield后面没有任何东西，这时候无法迭代值，每次都返回None\n        print('我是', temp)\n\n\ng = my_generator(5)\n\nprint('------第一次迭代------')\nprint(next(g))  # 输出None\nprint('------第二次迭代------')\nprint(next(g))  # 输出None\nprint('------第三次迭代------')\nm = g.send(100)\nprint(m)        # 输出None\nprint('------第四次迭代------')\nprint(next(g))  # 输出None\nprint('------第五次迭代------')\nprint(next(g))  # 输出None",
      "execution_count": 6,
      "outputs": [
        {
          "output_type": "stream",
          "text": "------第一次迭代------\nNone\n------第二次迭代------\n我是 None\nNone\n------第三次迭代------\n我是 100\nNone\n------第四次迭代------\n我是 None\nNone\n------第五次迭代------\n我是 None\nNone\n",
          "name": "stdout"
        }
      ]
    },
    {
      "metadata": {},
      "cell_type": "markdown",
      "source": "###\nyield语句的用法总结\nyield的一般形式为：\ntemp=yield 表达式(每次迭代要返回的值）\n（1）如果要返回确定的值，后面的表达式不可省略，绝大部分情况下我们也不省略，否则只能返回None；\n（2）如果使用了send(value),传递进去的那个value回取代那个表达式的值，并且会将传递进去的那个值返回给yield表达式的结果temp，所以如果想在yield后面使用传递进去的那个值，必须要有使用send，否则无法使用；\n（3）yield语句的一般形式\n         temp=yield expression (推荐：既可以返回迭代的值，也可以接受send进去的参数并使用)\n\n         yield expression（也可以使用：）\n\n         temp=yield (不推荐）\n\n         yield （不推荐）\n\n迭代器(生成器)的send方法详解\nsend(arg)方法总结：\n\n（1）它的主要作用是，当我需要手动更改生成器里面的某一个值并且使用它，则send发送进去一个数据，然后保存到yield语句的返回值，以提供使用\n（2）send(arg)的返回值就是那个本来应该被迭代出来的那个值。这样既可以保证我能够传入新的值，原来的值也不会弄丢\n\n生成器throw的方法用法\n\n这个函数相比较于前面的next()、send()来说更加复杂，先看一下它的函数描述：\n\nraise exception in generator，return next yielded value or StopIteration，\n即在生成器中抛出异常，并且这个throw函数会返回下一个要迭代的值或者是StopIteration。还是通过几个例子来看吧！"
    },
    {
      "metadata": {
        "trusted": true
      },
      "cell_type": "code",
      "source": "'''运行结果为：\na\nb\n-------------------------\nStopIteration\n''''''运行结果为：\na\nb\n-------------------------\nStopIteration\n'''\ndef my_generator():\n    yield 'a'\n    yield 'b'\n    yield 'c'\n\n\ng = my_generator()\nprint(next(g))\nprint(next(g))\nprint('-------------------------')\nprint(g.throw(StopIteration))\nprint(next(g))\n",
      "execution_count": 9,
      "outputs": [
        {
          "output_type": "stream",
          "text": "a\nb\n-------------------------\n",
          "name": "stdout"
        },
        {
          "output_type": "stream",
          "text": "/home/nbuser/anaconda3_501/lib/python3.6/site-packages/ipykernel/__main__.py:22: DeprecationWarning: generator 'my_generator' raised StopIteration\n",
          "name": "stderr"
        },
        {
          "output_type": "error",
          "ename": "StopIteration",
          "evalue": "",
          "traceback": [
            "\u001b[0;31m---------------------------------------------------------------------------\u001b[0m",
            "\u001b[0;31mStopIteration\u001b[0m                             Traceback (most recent call last)",
            "\u001b[0;32m<ipython-input-9-abc7a519fab3>\u001b[0m in \u001b[0;36m<module>\u001b[0;34m\u001b[0m\n\u001b[1;32m     20\u001b[0m \u001b[0mprint\u001b[0m\u001b[0;34m(\u001b[0m\u001b[0mnext\u001b[0m\u001b[0;34m(\u001b[0m\u001b[0mg\u001b[0m\u001b[0;34m)\u001b[0m\u001b[0;34m)\u001b[0m\u001b[0;34m\u001b[0m\u001b[0m\n\u001b[1;32m     21\u001b[0m \u001b[0mprint\u001b[0m\u001b[0;34m(\u001b[0m\u001b[0;34m'-------------------------'\u001b[0m\u001b[0;34m)\u001b[0m\u001b[0;34m\u001b[0m\u001b[0m\n\u001b[0;32m---> 22\u001b[0;31m \u001b[0mprint\u001b[0m\u001b[0;34m(\u001b[0m\u001b[0mg\u001b[0m\u001b[0;34m.\u001b[0m\u001b[0mthrow\u001b[0m\u001b[0;34m(\u001b[0m\u001b[0mStopIteration\u001b[0m\u001b[0;34m)\u001b[0m\u001b[0;34m)\u001b[0m\u001b[0;34m\u001b[0m\u001b[0m\n\u001b[0m\u001b[1;32m     23\u001b[0m \u001b[0mprint\u001b[0m\u001b[0;34m(\u001b[0m\u001b[0mnext\u001b[0m\u001b[0;34m(\u001b[0m\u001b[0mg\u001b[0m\u001b[0;34m)\u001b[0m\u001b[0;34m)\u001b[0m\u001b[0;34m\u001b[0m\u001b[0m\n",
            "\u001b[0;32m<ipython-input-9-abc7a519fab3>\u001b[0m in \u001b[0;36mmy_generator\u001b[0;34m()\u001b[0m\n\u001b[1;32m     12\u001b[0m \u001b[0;32mdef\u001b[0m \u001b[0mmy_generator\u001b[0m\u001b[0;34m(\u001b[0m\u001b[0;34m)\u001b[0m\u001b[0;34m:\u001b[0m\u001b[0;34m\u001b[0m\u001b[0m\n\u001b[1;32m     13\u001b[0m     \u001b[0;32myield\u001b[0m \u001b[0;34m'a'\u001b[0m\u001b[0;34m\u001b[0m\u001b[0m\n\u001b[0;32m---> 14\u001b[0;31m     \u001b[0;32myield\u001b[0m \u001b[0;34m'b'\u001b[0m\u001b[0;34m\u001b[0m\u001b[0m\n\u001b[0m\u001b[1;32m     15\u001b[0m     \u001b[0;32myield\u001b[0m \u001b[0;34m'c'\u001b[0m\u001b[0;34m\u001b[0m\u001b[0m\n\u001b[1;32m     16\u001b[0m \u001b[0;34m\u001b[0m\u001b[0m\n",
            "\u001b[0;31mStopIteration\u001b[0m: "
          ]
        }
      ]
    },
    {
      "metadata": {},
      "cell_type": "markdown",
      "source": "###\n因为在迭代完 b 之后，就触发了StopIteration异常，这相当于后面的 ‘c’ 已经没用了，跳过了c ,c再也不会执行，就中断了，所以后面的 'c’再也不会迭代，所以这里不会再返回任何值，返回的是StopIteration。\n\n再看一个例子："
    },
    {
      "metadata": {
        "trusted": true
      },
      "cell_type": "code",
      "source": "def my_generator():\n    try:\n        yield 'a'\n        yield 'b'\n        yield 'c'\n        yield 'd'\n        yield 'e'\n    except ValueError:\n        print('触发“ValueError\"了')\n    except TypeError:\n        print('触发“TypeError\"了')\n\ng=my_generator()\nprint(next(g))\nprint(next(g))\nprint('-------------------------')\nprint(g.throw(ValueError))\nprint('-------------------------')\nprint(next(g))\nprint(next(g))\nprint('-------------------------')\nprint(g.throw(TypeError))\nprint('-------------------------')\nprint(next(g))\n'''运行结果为：\na\nb\n-------------------------\n触发“ValueError\"了\nStopIteration\n'''",
      "execution_count": 10,
      "outputs": [
        {
          "output_type": "stream",
          "text": "a\nb\n-------------------------\n触发“ValueError\"了\n",
          "name": "stdout"
        },
        {
          "output_type": "error",
          "ename": "StopIteration",
          "evalue": "",
          "traceback": [
            "\u001b[0;31m---------------------------------------------------------------------------\u001b[0m",
            "\u001b[0;31mStopIteration\u001b[0m                             Traceback (most recent call last)",
            "\u001b[0;32m<ipython-input-10-1cd9900f0a71>\u001b[0m in \u001b[0;36m<module>\u001b[0;34m\u001b[0m\n\u001b[1;32m     15\u001b[0m \u001b[0mprint\u001b[0m\u001b[0;34m(\u001b[0m\u001b[0mnext\u001b[0m\u001b[0;34m(\u001b[0m\u001b[0mg\u001b[0m\u001b[0;34m)\u001b[0m\u001b[0;34m)\u001b[0m\u001b[0;34m\u001b[0m\u001b[0m\n\u001b[1;32m     16\u001b[0m \u001b[0mprint\u001b[0m\u001b[0;34m(\u001b[0m\u001b[0;34m'-------------------------'\u001b[0m\u001b[0;34m)\u001b[0m\u001b[0;34m\u001b[0m\u001b[0m\n\u001b[0;32m---> 17\u001b[0;31m \u001b[0mprint\u001b[0m\u001b[0;34m(\u001b[0m\u001b[0mg\u001b[0m\u001b[0;34m.\u001b[0m\u001b[0mthrow\u001b[0m\u001b[0;34m(\u001b[0m\u001b[0mValueError\u001b[0m\u001b[0;34m)\u001b[0m\u001b[0;34m)\u001b[0m\u001b[0;34m\u001b[0m\u001b[0m\n\u001b[0m\u001b[1;32m     18\u001b[0m \u001b[0mprint\u001b[0m\u001b[0;34m(\u001b[0m\u001b[0;34m'-------------------------'\u001b[0m\u001b[0;34m)\u001b[0m\u001b[0;34m\u001b[0m\u001b[0m\n\u001b[1;32m     19\u001b[0m \u001b[0mprint\u001b[0m\u001b[0;34m(\u001b[0m\u001b[0mnext\u001b[0m\u001b[0;34m(\u001b[0m\u001b[0mg\u001b[0m\u001b[0;34m)\u001b[0m\u001b[0;34m)\u001b[0m\u001b[0;34m\u001b[0m\u001b[0m\n",
            "\u001b[0;31mStopIteration\u001b[0m: "
          ]
        }
      ]
    },
    {
      "metadata": {},
      "cell_type": "markdown",
      "source": "###\n当前面两次执行了a和b之后，向生成器扔进去一个异常，触发ValueError异常，这时候意味着try后面的c、d、e已经作废了，不会再有用，这个生成器已经终止了，因此g.throw()会返回StopIteration。\n\n再看一个例子："
    },
    {
      "metadata": {
        "trusted": true
      },
      "cell_type": "code",
      "source": "def my_generator():\n    while True:\n        try:\n            yield 'a'\n            yield 'b'\n            yield 'c'\n            yield 'd'\n            yield 'e'\n        except ValueError:\n            print('触发“ValueError\"了')\n        except TypeError:\n            print('触发“TypeError\"了')\n\ng=my_generator()\nprint(next(g))\nprint(next(g))\nprint('-------------------------')\nprint(g.throw(ValueError))\nprint('-------------------------')\nprint(next(g))\nprint(next(g))\nprint('-------------------------')\nprint(g.throw(TypeError))\nprint('-------------------------')\nprint(next(g))\n'''运行结果为：\na\nb\n-------------------------\n触发“ValueError\"了\na\n-------------------------\nb\nc\n-------------------------\n触发“TypeError\"了\na\n-------------------------\nb\n'''",
      "execution_count": null,
      "outputs": []
    },
    {
      "metadata": {},
      "cell_type": "markdown",
      "source": "###\n解释：\n出现这样的结果是不是很意外？它和上面的那个例子只有一个while只差，为什么结果差这么多，解释如下：\n首先print(next(g))两次：会输出a、b，并停留在c之前。\n然后由于执行了g.throw(ValueError)，所以会跳过所有后续的try语句，也就是说yield ‘c’、yield ‘d’、yield 'e’不会被执行，然后进入到except语句，打印出 触发“ValueError\"了。然后再次进入到while语句部分，消耗一个yield，此时因为是重新进入的while，小号的依然是第一个yield ‘a’，所以会输出a。实际上这里的a也就是g.throw()的返回值，因为它返回的是下一个迭代的数；\n然后在print(next(g))两次，会执行yield b’、yield 'c’语句，打印出b、c，并停留在执行完该语句后的位置，即yield 'd’之前。\n\n然后再g.throw(TypeError)：会跳出try语句，从而后面的d,e不会被执行，下次自一次进入while，依然打印出a。\n\n最后，执行了一次print(next(g))，打印出b。\n\n生成器的启动与关闭close\n6.1 生成器的启动\n\n使用close（）方法手动关闭生成器函数，后面的调用会直接返回StopIteration异常\n这里所讨论的启动不是使用for循环迭代，我们在使用for循环迭代的时候可能没有去考虑“启动”与“关闭”这些事情，这里指的是使用next()内置方法一个一个迭代的情形。在第一次迭代的时候，一定要先启动生成器，启动的两种方法为：\n第一：直接使用next(g)，这会直接开始迭代第一个元素（推荐使用这个启动）\n第二：使用g.send(None)进行启动，注意第一次启动的时候只能传入None，如果传入其他具体的指则会报错哦！"
    },
    {
      "metadata": {},
      "cell_type": "markdown",
      "source": "###\n6.2 生成器的关闭\n如果一个生成器被中途关闭之后，在此调用next()方法，则会显示错误，如下："
    },
    {
      "metadata": {
        "trusted": true
      },
      "cell_type": "code",
      "source": "def my_generator():\n    yield 1\n    yield 2\n    yield 3\n    yield 4\n\ng = my_generator()\nprint(next(g))\nprint(next(g))\ng.close()\nprint(next(g))   #在此处会显示错误\nprint(next(g))\n'''运行结果为：\n1\n2\n显示StopIteration\n'''",
      "execution_count": null,
      "outputs": []
    },
    {
      "metadata": {},
      "cell_type": "markdown",
      "source": "###\n生成器的终止迭代——StopIteration\n前面讲的手动关闭生成器，使用close（）方法，后面的迭代或抛出StopIteration异常。另外\n\n在一个生成器中，如果没有return，则默认执行到函数完毕时返回StopIteration；"
    },
    {
      "metadata": {
        "trusted": true
      },
      "cell_type": "code",
      "source": "def g1():\n    yield 1\ng=g1()\nnext(g)    #第一次调用next(g)时，会在执行完yield语句后挂起，所以此时程序并没有执行结束。\nnext(g)    #程序试图从yield语句的下一条语句开始执行，发现已经到了结尾，所以抛出StopIteration异常。\n'''运行结果为：\n1\nTraceback (most recent call last):\n  File \"<stdin>\", line 1, in <module>\nStopIteration\n'''",
      "execution_count": null,
      "outputs": []
    },
    {
      "metadata": {},
      "cell_type": "markdown",
      "source": "###\n如果在return后返回一个值，那么这个值为StopIteration异常的说明，不是程序的返回值。\n"
    },
    {
      "metadata": {
        "trusted": true
      },
      "cell_type": "code",
      "source": "def g3():\n    yield 'a'\n    return '这是错误说明'\n    yield 'b'   #有一些编辑器会提示错误，此处为unreachable code，即不可到达的代码\ng=g3()\nprint(next(g))\nprint(next(g))\n'''运行结果为：\na\nTraceback (most recent call last):\n  File \"<stdin>\", line 1, in <module>\nStopIteration: 这是错误说明\n'''",
      "execution_count": null,
      "outputs": []
    },
    {
      "metadata": {},
      "cell_type": "markdown",
      "source": "###\n注意：生成器没有办法使用return来返回值。因为return返回的那个值是通过StopIteration的异常信息返回的，所以我没办法直接获取这个return返回的值。\n当然上面所说的无法获取return返回值，我们指的是没有办法通过result=g3()这种形式获取return的返回值。实际上还是有相依欧诺个的手段获取这个return的值的，有两种方法：\n方法一：使用后面的yield from 语句（下文在讲解）\n方法二：因为return返回的值是作为StopIteration的一个value属性存在的，StopIteration本质上是一个类，所以可以通过访问它的value属性获取这个return返回的值。使用下面的代码："
    },
    {
      "metadata": {
        "trusted": true
      },
      "cell_type": "code",
      "source": "def g3():\n    yield 'a'\n    return '这是错误说明'\n    yield 'b'\ng=g3()\n\ntry:   \n    print(next(g))  #a\n    print(next(g))  #触发异常\nexcept StopIteration as exc:\n    result=exc.value\n    print(result)\n'''运行结果为：\na\n这是错误说明\n'''",
      "execution_count": null,
      "outputs": []
    },
    {
      "metadata": {},
      "cell_type": "markdown",
      "source": "###\n总结：上面详细讲解了关于python生成器的各个方法的详细使用情况，还没有正式进入到协程的部分，关于协程的详细讲解将会在后续的系列文章中逐渐讲解，有兴趣的小伙伴可以关注一下。"
    }
  ],
  "metadata": {
    "kernelspec": {
      "name": "python36",
      "display_name": "Python 3.6",
      "language": "python"
    },
    "language_info": {
      "mimetype": "text/x-python",
      "nbconvert_exporter": "python",
      "name": "python",
      "pygments_lexer": "ipython3",
      "version": "3.6.6",
      "file_extension": ".py",
      "codemirror_mode": {
        "version": 3,
        "name": "ipython"
      }
    }
  },
  "nbformat": 4,
  "nbformat_minor": 2
}