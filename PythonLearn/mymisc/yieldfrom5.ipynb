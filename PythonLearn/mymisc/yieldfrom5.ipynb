{
  "cells": [
    {
      "metadata": {
        "collapsed": true
      },
      "cell_type": "markdown",
      "source": "###\npython协程系列（五）——asyncio的核心概念与基本架构"
    },
    {
      "metadata": {},
      "cell_type": "markdown",
      "source": "###\n声明：本文针对的是python3.4以后的版本的，因为从3.4开始才引入asyncio，后面的3.5 3.6 3.7版本是向前兼容的，只不过语法上面有稍微的改变。比如在3.4版本中使用@asyncio.coroutine装饰器和yield from语句，但是在3.5以后的版本中使用async、await两个关键字代替，虽然语法上稍微有所差异，但是原理是一样的。本文用最通俗的语言解释了pythonasyncio背后的一些核心概念，简要解析了asyncio的设计架构，并给出了使用python进行asyncio异步编程的一般模板。\n\n一、一些最重要的概念\n1、协程（coroutine）——本质就是一个函数\n\n所谓的“协程”就是一个函数，这个函数需要有两个基本的组成要素，第一，需要使用@asyncio.coroutine进行装饰；第二，函数体内一定要有yield from 返回的的generator，或者是说使用yield from 返回另一个协程对象。\n\n当然，这两个条件并不是硬性规定的，如果没有这两个条件，依然是函数，只不过是普通函数而已。\n\n怎么判断一个函数是不是协程？通过asyncio.iscoroutine（obj）和asyncio.iscoroutinefunction(func)加以判断，返回true，则是。\n\n那么协程函数有什么作用呢？\n\n（1）result = yield from future\n\n作用一：返回future的结果。什么是future？后面会讲到。当协程函数执行到这一句，协程会被悬挂起来，知道future的结果被返回。如果是future被中途取消，则会触发CancelledError异常。由于task是future的子类，后面也会介绍，关于future的所有应用，都同样适用于task\n\n（2）result = yield from coroutine\n\n等候另一个协程函数返回结果或者是触发异常 \n\n（3）result= yield from task\n\n返回一个task的结果\n\n（4）return expression\n\n作为一个函数，他本身也是可以返回某一个结果的\n\n（5）raise exception \n\n2、事件循环——event_loop\n\n协程函数，不是像普通函数那样直接调用运行的，必须添加到事件循环中，然后由事件循环去运行，单独运行协程函数是不会有结果的，看一个简单的例子：\n————————————————\n版权声明：本文为CSDN博主「LoveMIss-Y」的原创文章，遵循 CC 4.0 BY-SA 版权协议，转载请附上原文出处链接及本声明。\n原文链接：https://blog.csdn.net/qq_27825451/article/details/86218230"
    },
    {
      "metadata": {
        "trusted": true
      },
      "cell_type": "code",
      "source": "import time\nimport asyncio\nasync def say_after_time(delay,what):\n        await asyncio.sleep(delay)\n        print(what)\n \nasync def main():\n        print(f\"开始时间为： {time.time()}\")\n        await say_after_time(1,\"hello\")\n        await say_after_time(2,\"world\")\n        print(f\"结束时间为： {time.time()}\")\n \nloop=asyncio.get_event_loop()    #创建事件循环对象\n#loop=asyncio.new_event_loop()   #与上面等价，创建新的事件循环\nloop.run_until_complete(main())  #通过事件循环对象运行协程函数\nloop.close()\n",
      "execution_count": 2,
      "outputs": [
        {
          "output_type": "error",
          "ename": "RuntimeError",
          "evalue": "Event loop is closed",
          "traceback": [
            "\u001b[0;31m---------------------------------------------------------------------------\u001b[0m",
            "\u001b[0;31mRuntimeError\u001b[0m                              Traceback (most recent call last)",
            "\u001b[0;32m<ipython-input-2-020ba0172d24>\u001b[0m in \u001b[0;36m<module>\u001b[0;34m\u001b[0m\n\u001b[1;32m     13\u001b[0m \u001b[0mloop\u001b[0m\u001b[0;34m=\u001b[0m\u001b[0masyncio\u001b[0m\u001b[0;34m.\u001b[0m\u001b[0mget_event_loop\u001b[0m\u001b[0;34m(\u001b[0m\u001b[0;34m)\u001b[0m    \u001b[0;31m#创建事件循环对象\u001b[0m\u001b[0;34m\u001b[0m\u001b[0m\n\u001b[1;32m     14\u001b[0m \u001b[0;31m#loop=asyncio.new_event_loop()   #与上面等价，创建新的事件循环\u001b[0m\u001b[0;34m\u001b[0m\u001b[0;34m\u001b[0m\u001b[0m\n\u001b[0;32m---> 15\u001b[0;31m \u001b[0mloop\u001b[0m\u001b[0;34m.\u001b[0m\u001b[0mrun_until_complete\u001b[0m\u001b[0;34m(\u001b[0m\u001b[0mmain\u001b[0m\u001b[0;34m(\u001b[0m\u001b[0;34m)\u001b[0m\u001b[0;34m)\u001b[0m  \u001b[0;31m#通过事件循环对象运行协程函数\u001b[0m\u001b[0;34m\u001b[0m\u001b[0m\n\u001b[0m\u001b[1;32m     16\u001b[0m \u001b[0mloop\u001b[0m\u001b[0;34m.\u001b[0m\u001b[0mclose\u001b[0m\u001b[0;34m(\u001b[0m\u001b[0;34m)\u001b[0m\u001b[0;34m\u001b[0m\u001b[0m\n",
            "\u001b[0;32m~/anaconda3_501/lib/python3.6/asyncio/base_events.py\u001b[0m in \u001b[0;36mrun_until_complete\u001b[0;34m(self, future)\u001b[0m\n\u001b[1;32m    442\u001b[0m         \u001b[0mReturn\u001b[0m \u001b[0mthe\u001b[0m \u001b[0mFuture\u001b[0m\u001b[0;31m'\u001b[0m\u001b[0ms\u001b[0m \u001b[0mresult\u001b[0m\u001b[0;34m,\u001b[0m \u001b[0;32mor\u001b[0m \u001b[0;32mraise\u001b[0m \u001b[0mits\u001b[0m \u001b[0mexception\u001b[0m\u001b[0;34m.\u001b[0m\u001b[0;34m\u001b[0m\u001b[0m\n\u001b[1;32m    443\u001b[0m         \"\"\"\n\u001b[0;32m--> 444\u001b[0;31m         \u001b[0mself\u001b[0m\u001b[0;34m.\u001b[0m\u001b[0m_check_closed\u001b[0m\u001b[0;34m(\u001b[0m\u001b[0;34m)\u001b[0m\u001b[0;34m\u001b[0m\u001b[0m\n\u001b[0m\u001b[1;32m    445\u001b[0m \u001b[0;34m\u001b[0m\u001b[0m\n\u001b[1;32m    446\u001b[0m         \u001b[0mnew_task\u001b[0m \u001b[0;34m=\u001b[0m \u001b[0;32mnot\u001b[0m \u001b[0mfutures\u001b[0m\u001b[0;34m.\u001b[0m\u001b[0misfuture\u001b[0m\u001b[0;34m(\u001b[0m\u001b[0mfuture\u001b[0m\u001b[0;34m)\u001b[0m\u001b[0;34m\u001b[0m\u001b[0m\n",
            "\u001b[0;32m~/anaconda3_501/lib/python3.6/asyncio/base_events.py\u001b[0m in \u001b[0;36m_check_closed\u001b[0;34m(self)\u001b[0m\n\u001b[1;32m    356\u001b[0m     \u001b[0;32mdef\u001b[0m \u001b[0m_check_closed\u001b[0m\u001b[0;34m(\u001b[0m\u001b[0mself\u001b[0m\u001b[0;34m)\u001b[0m\u001b[0;34m:\u001b[0m\u001b[0;34m\u001b[0m\u001b[0m\n\u001b[1;32m    357\u001b[0m         \u001b[0;32mif\u001b[0m \u001b[0mself\u001b[0m\u001b[0;34m.\u001b[0m\u001b[0m_closed\u001b[0m\u001b[0;34m:\u001b[0m\u001b[0;34m\u001b[0m\u001b[0m\n\u001b[0;32m--> 358\u001b[0;31m             \u001b[0;32mraise\u001b[0m \u001b[0mRuntimeError\u001b[0m\u001b[0;34m(\u001b[0m\u001b[0;34m'Event loop is closed'\u001b[0m\u001b[0;34m)\u001b[0m\u001b[0;34m\u001b[0m\u001b[0m\n\u001b[0m\u001b[1;32m    359\u001b[0m \u001b[0;34m\u001b[0m\u001b[0m\n\u001b[1;32m    360\u001b[0m     \u001b[0;32mdef\u001b[0m \u001b[0m_asyncgen_finalizer_hook\u001b[0m\u001b[0;34m(\u001b[0m\u001b[0mself\u001b[0m\u001b[0;34m,\u001b[0m \u001b[0magen\u001b[0m\u001b[0;34m)\u001b[0m\u001b[0;34m:\u001b[0m\u001b[0;34m\u001b[0m\u001b[0m\n",
            "\u001b[0;31mRuntimeError\u001b[0m: Event loop is closed"
          ]
        }
      ]
    },
    {
      "metadata": {},
      "cell_type": "markdown",
      "source": "###  在python3.6版本中，如果我们单独像执行普通函数那样执行一个协程函数，只会返回一个coroutine对象（python3.7）如下所示：\n\n### >>> main()\n### <coroutine object main at 0x1053bb7c8>"
    },
    {
      "metadata": {},
      "cell_type": "markdown",
      "source": "###\n###\n（1）获取事件循环对象的几种方式：\n\n下面几种方式可以用来获取、设置、创建事件循环对象loop\n\nloop=asyncio.get_running_loop() 返回（获取）在当前线程中正在运行的事件循环，如果没有正在运行的事件循环，则会显示错误；它是python3.7中新添加的\n\nloop=asyncio.get_event_loop() 获得一个事件循环，如果当前线程还没有事件循环，则创建一个新的事件循环loop；\n\nloop=asyncio.set_event_loop(loop) 设置一个事件循环为当前线程的事件循环；\n\nloop=asyncio.new_event_loop() 创建一个新的事件循环\n\n（2）通过事件循环运行协程函数的两种方式：\n\n（1）方式一：创建事件循环对象loop，即asyncio.get_event_loop()，通过事件循环运行协程函数\n\n（2）方式二：直接通过asyncio.run(function_name)运行协程函数。但是需要注意的是，首先run函数是python3.7版本新添加的，前面的版本是没有的；其次，这个run函数总是会创建一个新的事件循环并在run结束之后关闭事件循环，所以，如果在同一个线程中已经有了一个事件循环，则不能再使用这个函数了，因为同一个线程不能有两个事件循环，而且这个run函数不能同时运行两次，因为他已经创建一个了。即同一个线程中是不允许有多个事件循环loop的。\n\nasyncio.run（）是python3.7 新添加的内容，也是后面推荐的运行任务的方式，因为它是高层API，后面会讲到它与asyncio.run_until_complete()的差异性，run_until_complete()是相对较低层的API。\n\n注意：到底什么是事件循环？如何理解？\n\n可以这样理解：线程一直在各个协程方法之间永不停歇的游走，遇到一个yield from 或者await就悬挂起来，然后又走到另外一个方法，依次进行下去，知道事件循环所有的方法执行完毕。实际上loop是BaseEventLoop的一个实例，我们可以查看定义，它到底有哪些方法可调用。\n\n3、什么是awaitable对象——即可暂停等待的对象\n\n有三类对象是可等待的，即 coroutines, Tasks, and Futures.\n\ncoroutine：本质上就是一个函数，一前面的生成器yield和yield from为基础，不再赘述；\n\nTasks: 任务，顾名思义，就是要完成某件事情，其实就是对协程函数进一步的封装；\n\nFuture：它是一个“更底层”的概念，他代表一个一步操作的最终结果，因为一步操作一般用于耗时操作，结果不会立即得到，会在“将来”得到异步运行的结果，故而命名为Future。\n\n三者的关系，coroutine可以自动封装成task，而Task是Future的子类。\n\n4、什么是task任务\n\n如前所述，Task用来 并发调度的协程，即对协程函数的进一步包装？那为什么还需要包装呢？因为单纯的协程函数仅仅是一个函数而已，将其包装成任务，任务是可以包含各种状态的，异步编程最重要的就是对异步操作状态的把控了。\n\n（1）创建任务（两种方法）：\n\n方法一：task = asyncio.create_task(coro())   # 这是3.7版本新添加的\n\n方法二：task = asyncio.ensure_future(coro())\n\n也可以使用\n\nloop.create_future()\n\nloop.create_task(coro)\n\n也是可以的。\n\n备注：关于任务的详解，会在后面的系列文章继续讲解，本文只是概括性的说明。\n\n（2）获取某一个任务的方法：\n\n方法一：task=asyncio.current_task(loop=None)\n\n返回在某一个指定的loop中，当前正在运行的任务，如果没有任务正在运行，则返回None；\n\n如果loop为None，则默认为在当前的事件循环中获取，\n\n方法二：asyncio.all_tasks(loop=None)\n\n返回某一个loop中还没有结束的任务\n\n5、什么是future？\n\nFuture是一个较低层的可等待（awaitable）对象，他表示的是异步操作的最终结果，当一个Future对象被等待的时候，协程会一直等待，直到Future已经运算完毕。\n\nFuture是Task的父类，一般情况下，已不用去管它们两者的详细区别，也没有必要去用Future，用Task就可以了，\n\n返回 future 对象的低级函数的一个很好的例子是 loop.run_in_executor().\n\n二、asyncio的基本架构\n前面介绍了asyncio里面最为核心的几个概念，如果能够很好地理解这些概念，对于学习协程是非常有帮助的，但是按照我个人的风格，我会先说asyncio的架构，理解asyncio的设计架构有助于更好地应用和理解。\n\nasyncio分为高层API和低层API，我们都可以使用，就像我前面在讲matplotlib的架构的时候所讲的一样，我们前面所讲的Coroutine和Tasks属于高层API，而Event Loop 和Future属于低层API。当然asyncio所涉及到的功能远不止于此，我们只看这么多。下面是是高层API和低层API的概览：\n\nHigh-level APIs\n\nCoroutines and Tasks（本文要写的）\nStreams\nSynchronization Primitives\nSubprocesses\nQueues\nExceptions\nLow-level APIs\n\nEvent Loop（下一篇要写的）\nFutures\nTransports and Protocols\nPolicies\nPlatform Support\n所谓的高层API主要是指那些asyncio.xxx()的方法，\n\n1、常见的一些高层API方法\n\n（1）运行异步协程\n\nasyncio.run(coro, *, debug=False)  #运行一个一步程序，参见上面\n\n（2）创建任务\n\ntask=asyncio.create_task(coro)  #python3.7  ,参见上面\n\ntask = asyncio.ensure_future(coro()) \n\n（3）睡眠\n\nawait asyncio.sleep(delay, result=None, *, loop=None)\n\n这个函数表示的是：当前的那个任务（协程函数）睡眠多长时间，而允许其他任务执行。这是它与time.sleep()的区别，time.sleep()是当前线程休息，注意他们的区别哦。\n\n另外如果提供了参数result，当当前任务（协程）结束的时候，它会返回；\n\nloop参数将会在3.10中移除，这里就不再说了。\n\n（4）并发运行多个任务\nawait asyncio.gather(*coros_or_futures, loop=None, return_exceptions=False)\n\n它本身也是awaitable的。\n\n*coros_or_futures是一个序列拆分操作，如果是以个协程函数，则会自动转换成Task。\n\n当所有的任务都完成之后，返回的结果是一个列表的形式，列表中值的顺序和*coros_or_futures完成的顺序是一样的。\n\nreturn_exceptions:False,这是他的默认值，第一个出发异常的任务会立即返回，然后其他的任务继续执行；\n\n                             True，对于已经发生了异常的任务，也会像成功执行了任务那样，等到所有的任务执行结束一起将错误的结果返回到最终的结果列表里面。\n\n如果gather()本身被取消了，那么绑定在它里面的任务也就取消了。\n\n（5）防止任务取消\n\nawait asyncio.shield(*arg, *, loop=None)\n\n它本身也是awaitable的。顾名思义，shield为屏蔽、保护的意思，即保护一个awaitable 对象防止取消，一般情况下不推荐使用，而且在使用的过程中，最好使用try语句块更好。\n————————————————\n版权声明：本文为CSDN博主「LoveMIss-Y」的原创文章，遵循 CC 4.0 BY-SA 版权协议，转载请附上原文出处链接及本声明。\n原文链接：https://blog.csdn.net/qq_27825451/article/details/86218230"
    },
    {
      "metadata": {
        "trusted": true
      },
      "cell_type": "code",
      "source": "try:\n    res = await shield(something())\nexcept CancelledError:\n    res = None",
      "execution_count": 2,
      "outputs": [
        {
          "output_type": "error",
          "ename": "RuntimeError",
          "evalue": "Event loop is closed",
          "traceback": [
            "\u001b[0;31m---------------------------------------------------------------------------\u001b[0m",
            "\u001b[0;31mRuntimeError\u001b[0m                              Traceback (most recent call last)",
            "\u001b[0;32m~/anaconda3_501/lib/python3.6/site-packages/IPython/core/async_helpers.py\u001b[0m in \u001b[0;36m__call__\u001b[0;34m(self, coro)\u001b[0m\n\u001b[1;32m     25\u001b[0m         \u001b[0;32mimport\u001b[0m \u001b[0masyncio\u001b[0m\u001b[0;34m\u001b[0m\u001b[0m\n\u001b[1;32m     26\u001b[0m \u001b[0;34m\u001b[0m\u001b[0m\n\u001b[0;32m---> 27\u001b[0;31m         \u001b[0;32mreturn\u001b[0m \u001b[0masyncio\u001b[0m\u001b[0;34m.\u001b[0m\u001b[0mget_event_loop\u001b[0m\u001b[0;34m(\u001b[0m\u001b[0;34m)\u001b[0m\u001b[0;34m.\u001b[0m\u001b[0mrun_until_complete\u001b[0m\u001b[0;34m(\u001b[0m\u001b[0mcoro\u001b[0m\u001b[0;34m)\u001b[0m\u001b[0;34m\u001b[0m\u001b[0m\n\u001b[0m\u001b[1;32m     28\u001b[0m \u001b[0;34m\u001b[0m\u001b[0m\n\u001b[1;32m     29\u001b[0m     \u001b[0;32mdef\u001b[0m \u001b[0m__str__\u001b[0m\u001b[0;34m(\u001b[0m\u001b[0mself\u001b[0m\u001b[0;34m)\u001b[0m\u001b[0;34m:\u001b[0m\u001b[0;34m\u001b[0m\u001b[0m\n",
            "\u001b[0;32m~/anaconda3_501/lib/python3.6/asyncio/base_events.py\u001b[0m in \u001b[0;36mrun_until_complete\u001b[0;34m(self, future)\u001b[0m\n\u001b[1;32m    442\u001b[0m         \u001b[0mReturn\u001b[0m \u001b[0mthe\u001b[0m \u001b[0mFuture\u001b[0m\u001b[0;31m'\u001b[0m\u001b[0ms\u001b[0m \u001b[0mresult\u001b[0m\u001b[0;34m,\u001b[0m \u001b[0;32mor\u001b[0m \u001b[0;32mraise\u001b[0m \u001b[0mits\u001b[0m \u001b[0mexception\u001b[0m\u001b[0;34m.\u001b[0m\u001b[0;34m\u001b[0m\u001b[0m\n\u001b[1;32m    443\u001b[0m         \"\"\"\n\u001b[0;32m--> 444\u001b[0;31m         \u001b[0mself\u001b[0m\u001b[0;34m.\u001b[0m\u001b[0m_check_closed\u001b[0m\u001b[0;34m(\u001b[0m\u001b[0;34m)\u001b[0m\u001b[0;34m\u001b[0m\u001b[0m\n\u001b[0m\u001b[1;32m    445\u001b[0m \u001b[0;34m\u001b[0m\u001b[0m\n\u001b[1;32m    446\u001b[0m         \u001b[0mnew_task\u001b[0m \u001b[0;34m=\u001b[0m \u001b[0;32mnot\u001b[0m \u001b[0mfutures\u001b[0m\u001b[0;34m.\u001b[0m\u001b[0misfuture\u001b[0m\u001b[0;34m(\u001b[0m\u001b[0mfuture\u001b[0m\u001b[0;34m)\u001b[0m\u001b[0;34m\u001b[0m\u001b[0m\n",
            "\u001b[0;32m~/anaconda3_501/lib/python3.6/asyncio/base_events.py\u001b[0m in \u001b[0;36m_check_closed\u001b[0;34m(self)\u001b[0m\n\u001b[1;32m    356\u001b[0m     \u001b[0;32mdef\u001b[0m \u001b[0m_check_closed\u001b[0m\u001b[0;34m(\u001b[0m\u001b[0mself\u001b[0m\u001b[0;34m)\u001b[0m\u001b[0;34m:\u001b[0m\u001b[0;34m\u001b[0m\u001b[0m\n\u001b[1;32m    357\u001b[0m         \u001b[0;32mif\u001b[0m \u001b[0mself\u001b[0m\u001b[0;34m.\u001b[0m\u001b[0m_closed\u001b[0m\u001b[0;34m:\u001b[0m\u001b[0;34m\u001b[0m\u001b[0m\n\u001b[0;32m--> 358\u001b[0;31m             \u001b[0;32mraise\u001b[0m \u001b[0mRuntimeError\u001b[0m\u001b[0;34m(\u001b[0m\u001b[0;34m'Event loop is closed'\u001b[0m\u001b[0;34m)\u001b[0m\u001b[0;34m\u001b[0m\u001b[0m\n\u001b[0m\u001b[1;32m    359\u001b[0m \u001b[0;34m\u001b[0m\u001b[0m\n\u001b[1;32m    360\u001b[0m     \u001b[0;32mdef\u001b[0m \u001b[0m_asyncgen_finalizer_hook\u001b[0m\u001b[0;34m(\u001b[0m\u001b[0mself\u001b[0m\u001b[0;34m,\u001b[0m \u001b[0magen\u001b[0m\u001b[0;34m)\u001b[0m\u001b[0;34m:\u001b[0m\u001b[0;34m\u001b[0m\u001b[0m\n",
            "\u001b[0;31mRuntimeError\u001b[0m: Event loop is closed"
          ]
        }
      ]
    },
    {
      "metadata": {},
      "cell_type": "markdown",
      "source": "###\n（6）设置timeout——一定要好好理解\n\nawait asyncio.wait_for(aw, timeout, *, loop=None)\n\n如果aw是一个协程函数，会自动包装成一个任务task。参见下面的例子："
    },
    {
      "metadata": {
        "trusted": true
      },
      "cell_type": "code",
      "source": "import asyncio\n \nasync def eternity():\n    print('我马上开始执行')\n    await asyncio.sleep(3600)  #当前任务休眠1小时，即3600秒\n    print('终于轮到我了')\n \nasync def main():\n    # Wait for at most 1 second\n    try:\n        print('等你3秒钟哦')\n        await asyncio.wait_for(eternity(), timeout=3)  #休息3秒钟了执行任务\n    except asyncio.TimeoutError:\n        print('超时了！')\n \nasyncio.run(main())\n \n'''运行结果为：\n等你3秒钟哦\n我马上开始执行\n超时了！\n'''\n",
      "execution_count": 3,
      "outputs": [
        {
          "output_type": "error",
          "ename": "AttributeError",
          "evalue": "module 'asyncio' has no attribute 'run'",
          "traceback": [
            "\u001b[0;31m---------------------------------------------------------------------------\u001b[0m",
            "\u001b[0;31mAttributeError\u001b[0m                            Traceback (most recent call last)",
            "\u001b[0;32m<ipython-input-3-447a0725b0cd>\u001b[0m in \u001b[0;36m<module>\u001b[0;34m\u001b[0m\n\u001b[1;32m     14\u001b[0m         \u001b[0mprint\u001b[0m\u001b[0;34m(\u001b[0m\u001b[0;34m'超时了！'\u001b[0m\u001b[0;34m)\u001b[0m\u001b[0;34m\u001b[0m\u001b[0m\n\u001b[1;32m     15\u001b[0m \u001b[0;34m\u001b[0m\u001b[0m\n\u001b[0;32m---> 16\u001b[0;31m \u001b[0masyncio\u001b[0m\u001b[0;34m.\u001b[0m\u001b[0mrun\u001b[0m\u001b[0;34m(\u001b[0m\u001b[0mmain\u001b[0m\u001b[0;34m(\u001b[0m\u001b[0;34m)\u001b[0m\u001b[0;34m)\u001b[0m\u001b[0;34m\u001b[0m\u001b[0m\n\u001b[0m\u001b[1;32m     17\u001b[0m \u001b[0;34m\u001b[0m\u001b[0m\n\u001b[1;32m     18\u001b[0m '''运行结果为：\n",
            "\u001b[0;31mAttributeError\u001b[0m: module 'asyncio' has no attribute 'run'"
          ]
        }
      ]
    },
    {
      "metadata": {},
      "cell_type": "markdown",
      "source": "###\n为什么？首先调用main()函数，作为入口函数，当输出‘等你3秒钟哦’之后，main挂起，执行eternity，然后打印‘我马上开始执行’，然后eternity挂起，而且要挂起3600秒，大于3，这时候出发TimeoutError。修改一下：‘’"
    },
    {
      "metadata": {
        "trusted": true
      },
      "cell_type": "code",
      "source": "import asyncio\n \nasync def eternity():\n    print('我马上开始执行')\n    await asyncio.sleep(2)  #当前任务休眠2秒钟，2<3\n    print('终于轮到我了')\n \nasync def main():\n    # Wait for at most 1 second\n    try:\n        print('等你3秒钟哦')\n        await asyncio.wait_for(eternity(), timeout=3)  #给你3秒钟执行你的任务\n    except asyncio.TimeoutError:\n        print('超时了！')\n \nasyncio.run(main())\n \n'''运行结果为：\n等你3秒钟哦\n我马上开始执行\n终于轮到我了\n'''\n",
      "execution_count": 4,
      "outputs": [
        {
          "output_type": "error",
          "ename": "AttributeError",
          "evalue": "module 'asyncio' has no attribute 'run'",
          "traceback": [
            "\u001b[0;31m---------------------------------------------------------------------------\u001b[0m",
            "\u001b[0;31mAttributeError\u001b[0m                            Traceback (most recent call last)",
            "\u001b[0;32m<ipython-input-4-0324cf2fa37f>\u001b[0m in \u001b[0;36m<module>\u001b[0;34m\u001b[0m\n\u001b[1;32m     14\u001b[0m         \u001b[0mprint\u001b[0m\u001b[0;34m(\u001b[0m\u001b[0;34m'超时了！'\u001b[0m\u001b[0;34m)\u001b[0m\u001b[0;34m\u001b[0m\u001b[0m\n\u001b[1;32m     15\u001b[0m \u001b[0;34m\u001b[0m\u001b[0m\n\u001b[0;32m---> 16\u001b[0;31m \u001b[0masyncio\u001b[0m\u001b[0;34m.\u001b[0m\u001b[0mrun\u001b[0m\u001b[0;34m(\u001b[0m\u001b[0mmain\u001b[0m\u001b[0;34m(\u001b[0m\u001b[0;34m)\u001b[0m\u001b[0;34m)\u001b[0m\u001b[0;34m\u001b[0m\u001b[0m\n\u001b[0m\u001b[1;32m     17\u001b[0m \u001b[0;34m\u001b[0m\u001b[0m\n\u001b[1;32m     18\u001b[0m '''运行结果为：\n",
            "\u001b[0;31mAttributeError\u001b[0m: module 'asyncio' has no attribute 'run'"
          ]
        }
      ]
    },
    {
      "metadata": {},
      "cell_type": "markdown",
      "source": "###\n总结：当异步操作需要执行的时间超过waitfor设置的timeout，就会触发异常，所以在编写程序的时候，如果要给异步操作设置timeout，一定要选择合适，如果异步操作本身的耗时较长，而你设置的timeout太短，会涉及到她还没做完，就抛出异常了。\n\n（7）多个协程函数时候的等候\n\nawait asyncio.wait(aws, *, loop=None, timeout=None, return_when=ALL_COMPLETED)\n\n与上面的区别是，第一个参数aws是一个集合，要写成集合set的形式，比如：\n\n{func（），func（），func3（）}\n\n表示的是一系列的协程函数或者是任务，其中协程会自动包装成任务。事实上，写成列表的形式也是可以的。\n\n注意：该函数的返回值是两个Tasks/Futures的集合：\n\n(done, pending)\n\n其中done是一个集合，表示已经完成的任务tasks；pending也是一个集合，表示还没有完成的任务。\n\n常见的使用方法为：done, pending = await asyncio.wait(aws)\n\n参数解释：\n\ntimeout (a float or int), 同上面的含义一样，需要注意的是，这个不会触发asyncio.TimeoutError异常，如果到了timeout还有任务没有执行完，那些没有执行完的tasks和futures会被返回到第二个集合pending里面。\n\nreturn_when参数，顾名思义，他表示的是，什么时候wait函数该返回值。只能够去下面的几个值。 \n\nConstant\tDescription\nFIRST_COMPLETED\tfirst_completes.当任何一个task或者是future完成或者是取消，wait函数就返回\nFIRST_EXCEPTION\t当任何一个task或者是future触发了某一个异常，就返回，.如果是所有的task和future都没有触发异常，则等价与下面的 ALL_COMPLETED.\nALL_COMPLETED\t当所有的task或者是future都完成或者是都取消的时候，再返回。\n如下面例子所示：\n\n\n————————————————\n版权声明：本文为CSDN博主「LoveMIss-Y」的原创文章，遵循 CC 4.0 BY-SA 版权协议，转载请附上原文出处链接及本声明。\n原文链接：https://blog.csdn.net/qq_27825451/article/details/86218230"
    },
    {
      "metadata": {
        "trusted": true
      },
      "cell_type": "code",
      "source": "\nimport asyncio\nimport time\n \na=time.time()\n \nasync def hello1():  #大约2秒\n    print(\"Hello world 01 begin\")\n    yield from asyncio.sleep(2)\n    print(\"Hello again 01 end\")\n \nasync def hello2():  #大约3秒\n    print(\"Hello world 02 begin\")\n    yield from asyncio.sleep(3)\n    print(\"Hello again 02 end\")\n \nasync def hello3():  #大约4秒\n    print(\"Hello world 03 begin\")\n    yield from asyncio.sleep(4)\n    print(\"Hello again 03 end\")\n \nasync def main():   #入口函数\n    done,pending=await asyncio.wait({hello1(),hello2(),hello3()},return_when=asyncio.FIRST_COMPLETED)\n    for i in done:\n        print(i)\n    for j in pending:\n        print(j)\n \nasyncio.run(main()) #运行入口函数\n \nb=time.time()\nprint('---------------------------------------')\nprint(b-a)\n \n'''运行结果为：\nHello world 02 begin\nHello world 01 begin\nHello world 03 begin\nHello again 01 end\n<Task finished coro=<hello1() done, defined at e:\\Python学习\\基础入门\\asyncio3.4详解\\test11.py:46> result=None>\n<Task pending coro=<hello3() running at e:\\Python学习\\基础入门\\asyncio3.4详解\\test11.py:61> wait_for=<Future pending cb=[<TaskWakeupMethWrapper object\nat 0x000001FA8D394438>()]>>\n<Task pending coro=<hello2() running at e:\\Python学习\\基础入门\\asyncio3.4详解\\test11.py:55> wait_for=<Future pending cb=[<TaskWakeupMethWrapper object\nat 0x000001FA8D394378>()]>>\n---------------------------------------\n2.033155679702759\n'''\n",
      "execution_count": 4,
      "outputs": [
        {
          "output_type": "error",
          "ename": "RuntimeError",
          "evalue": "Event loop is closed",
          "traceback": [
            "\u001b[0;31m---------------------------------------------------------------------------\u001b[0m",
            "\u001b[0;31mRuntimeError\u001b[0m                              Traceback (most recent call last)",
            "\u001b[0;32m~/anaconda3_501/lib/python3.6/site-packages/IPython/core/async_helpers.py\u001b[0m in \u001b[0;36m__call__\u001b[0;34m(self, coro)\u001b[0m\n\u001b[1;32m     25\u001b[0m         \u001b[0;32mimport\u001b[0m \u001b[0masyncio\u001b[0m\u001b[0;34m\u001b[0m\u001b[0m\n\u001b[1;32m     26\u001b[0m \u001b[0;34m\u001b[0m\u001b[0m\n\u001b[0;32m---> 27\u001b[0;31m         \u001b[0;32mreturn\u001b[0m \u001b[0masyncio\u001b[0m\u001b[0;34m.\u001b[0m\u001b[0mget_event_loop\u001b[0m\u001b[0;34m(\u001b[0m\u001b[0;34m)\u001b[0m\u001b[0;34m.\u001b[0m\u001b[0mrun_until_complete\u001b[0m\u001b[0;34m(\u001b[0m\u001b[0mcoro\u001b[0m\u001b[0;34m)\u001b[0m\u001b[0;34m\u001b[0m\u001b[0m\n\u001b[0m\u001b[1;32m     28\u001b[0m \u001b[0;34m\u001b[0m\u001b[0m\n\u001b[1;32m     29\u001b[0m     \u001b[0;32mdef\u001b[0m \u001b[0m__str__\u001b[0m\u001b[0;34m(\u001b[0m\u001b[0mself\u001b[0m\u001b[0;34m)\u001b[0m\u001b[0;34m:\u001b[0m\u001b[0;34m\u001b[0m\u001b[0m\n",
            "\u001b[0;32m~/anaconda3_501/lib/python3.6/asyncio/base_events.py\u001b[0m in \u001b[0;36mrun_until_complete\u001b[0;34m(self, future)\u001b[0m\n\u001b[1;32m    442\u001b[0m         \u001b[0mReturn\u001b[0m \u001b[0mthe\u001b[0m \u001b[0mFuture\u001b[0m\u001b[0;31m'\u001b[0m\u001b[0ms\u001b[0m \u001b[0mresult\u001b[0m\u001b[0;34m,\u001b[0m \u001b[0;32mor\u001b[0m \u001b[0;32mraise\u001b[0m \u001b[0mits\u001b[0m \u001b[0mexception\u001b[0m\u001b[0;34m.\u001b[0m\u001b[0;34m\u001b[0m\u001b[0m\n\u001b[1;32m    443\u001b[0m         \"\"\"\n\u001b[0;32m--> 444\u001b[0;31m         \u001b[0mself\u001b[0m\u001b[0;34m.\u001b[0m\u001b[0m_check_closed\u001b[0m\u001b[0;34m(\u001b[0m\u001b[0;34m)\u001b[0m\u001b[0;34m\u001b[0m\u001b[0m\n\u001b[0m\u001b[1;32m    445\u001b[0m \u001b[0;34m\u001b[0m\u001b[0m\n\u001b[1;32m    446\u001b[0m         \u001b[0mnew_task\u001b[0m \u001b[0;34m=\u001b[0m \u001b[0;32mnot\u001b[0m \u001b[0mfutures\u001b[0m\u001b[0;34m.\u001b[0m\u001b[0misfuture\u001b[0m\u001b[0;34m(\u001b[0m\u001b[0mfuture\u001b[0m\u001b[0;34m)\u001b[0m\u001b[0;34m\u001b[0m\u001b[0m\n",
            "\u001b[0;32m~/anaconda3_501/lib/python3.6/asyncio/base_events.py\u001b[0m in \u001b[0;36m_check_closed\u001b[0;34m(self)\u001b[0m\n\u001b[1;32m    356\u001b[0m     \u001b[0;32mdef\u001b[0m \u001b[0m_check_closed\u001b[0m\u001b[0;34m(\u001b[0m\u001b[0mself\u001b[0m\u001b[0;34m)\u001b[0m\u001b[0;34m:\u001b[0m\u001b[0;34m\u001b[0m\u001b[0m\n\u001b[1;32m    357\u001b[0m         \u001b[0;32mif\u001b[0m \u001b[0mself\u001b[0m\u001b[0;34m.\u001b[0m\u001b[0m_closed\u001b[0m\u001b[0;34m:\u001b[0m\u001b[0;34m\u001b[0m\u001b[0m\n\u001b[0;32m--> 358\u001b[0;31m             \u001b[0;32mraise\u001b[0m \u001b[0mRuntimeError\u001b[0m\u001b[0;34m(\u001b[0m\u001b[0;34m'Event loop is closed'\u001b[0m\u001b[0;34m)\u001b[0m\u001b[0;34m\u001b[0m\u001b[0m\n\u001b[0m\u001b[1;32m    359\u001b[0m \u001b[0;34m\u001b[0m\u001b[0m\n\u001b[1;32m    360\u001b[0m     \u001b[0;32mdef\u001b[0m \u001b[0m_asyncgen_finalizer_hook\u001b[0m\u001b[0;34m(\u001b[0m\u001b[0mself\u001b[0m\u001b[0;34m,\u001b[0m \u001b[0magen\u001b[0m\u001b[0;34m)\u001b[0m\u001b[0;34m:\u001b[0m\u001b[0;34m\u001b[0m\u001b[0m\n",
            "\u001b[0;31mRuntimeError\u001b[0m: Event loop is closed"
          ]
        }
      ]
    },
    {
      "metadata": {},
      "cell_type": "markdown",
      "source": "###\n从上面可以看出，hello1（）试运行结束了的，hello2（）和hello3（）还没结束。\n（8）asyncio.as_completed()函数\n\n这个函数我没有找到合适的中文名称去描述，所以哪位大神如果知道，望告知，不胜感激！它的函数原型如下：\n\nasyncio.as_completed(aws, *, loop=None, timeout=None)\n\n第一个参数aws：同上面一样，是一个集合{}集合里面的元素是coroutine、task或者future\n\n第三个参数timeout：意义和上面讲的的一样\n\n那到底什么作用呢？其实很简单，个人感觉有点鸡肋，从一个例子看起：\n————————————————\n版权声明：本文为CSDN博主「LoveMIss-Y」的原创文章，遵循 CC 4.0 BY-SA 版权协议，转载请附上原文出处链接及本声明。\n原文链接：https://blog.csdn.net/qq_27825451/article/details/86218230"
    },
    {
      "metadata": {
        "trusted": true
      },
      "cell_type": "code",
      "source": "import asyncio\nimport time\nimport threading\n \na=time.time()\n \n@asyncio.coroutine\ndef hello1():\n    print(\"Hello world 01 begin\")\n    yield from asyncio.sleep(5)  #大约5秒\n    print(\"Hello again 01 end\")\n    return '哈哈1'\n \n@asyncio.coroutine\ndef hello2():\n    print(\"Hello world 02 begin\")\n    yield from asyncio.sleep(3) #大约3秒\n    print(\"Hello again 02 end\")\n    return '哈哈2'\n \n@asyncio.coroutine\ndef hello3():\n    print(\"Hello world 03 begin\")\n    yield from asyncio.sleep(4) #大约4秒\n    print(\"Hello again 03 end\")\n    return '哈哈3'\n \nasync def main():\n    s=asyncio.as_completed({hello1(),hello2(),hello3()})\n    for f in s:\n        result=await f\n        print(result)\n    \nasyncio.run(main())\n \nb=time.time()\nprint('---------------------------------------')\nprint(b-a)\n \n'''运行结果为：\nHello world 03 begin\nHello world 01 begin\nHello world 02 begin\nHello again 01 end\n哈哈1\nHello again 02 end\n哈哈2\nHello again 03 end\n哈哈3\n---------------------------------------\n4.0225794315338135\n'''\n",
      "execution_count": 5,
      "outputs": [
        {
          "output_type": "error",
          "ename": "AttributeError",
          "evalue": "module 'asyncio' has no attribute 'run'",
          "traceback": [
            "\u001b[0;31m---------------------------------------------------------------------------\u001b[0m",
            "\u001b[0;31mAttributeError\u001b[0m                            Traceback (most recent call last)",
            "\u001b[0;32m<ipython-input-5-2cf6d8e4d4d1>\u001b[0m in \u001b[0;36m<module>\u001b[0;34m\u001b[0m\n\u001b[1;32m     32\u001b[0m         \u001b[0mprint\u001b[0m\u001b[0;34m(\u001b[0m\u001b[0mresult\u001b[0m\u001b[0;34m)\u001b[0m\u001b[0;34m\u001b[0m\u001b[0m\n\u001b[1;32m     33\u001b[0m \u001b[0;34m\u001b[0m\u001b[0m\n\u001b[0;32m---> 34\u001b[0;31m \u001b[0masyncio\u001b[0m\u001b[0;34m.\u001b[0m\u001b[0mrun\u001b[0m\u001b[0;34m(\u001b[0m\u001b[0mmain\u001b[0m\u001b[0;34m(\u001b[0m\u001b[0;34m)\u001b[0m\u001b[0;34m)\u001b[0m\u001b[0;34m\u001b[0m\u001b[0m\n\u001b[0m\u001b[1;32m     35\u001b[0m \u001b[0;34m\u001b[0m\u001b[0m\n\u001b[1;32m     36\u001b[0m \u001b[0mb\u001b[0m\u001b[0;34m=\u001b[0m\u001b[0mtime\u001b[0m\u001b[0;34m.\u001b[0m\u001b[0mtime\u001b[0m\u001b[0;34m(\u001b[0m\u001b[0;34m)\u001b[0m\u001b[0;34m\u001b[0m\u001b[0m\n",
            "\u001b[0;31mAttributeError\u001b[0m: module 'asyncio' has no attribute 'run'"
          ]
        }
      ]
    },
    {
      "metadata": {},
      "cell_type": "markdown",
      "source": "###\n结论：asyncio.as_completed()函数返回的是一个可迭代（iterator）的对象，对象的每个元素就是一个future对象，很多小伙伴说，这不是相当于没变吗？其实返回的future集合是对参数的future集合重新组合，组合的顺序就是，最先执行完的协程函数（coroutine、task、future）最先返回，从上面的代码可知，参数为\n\naws={hello1(),hello2(),hello3()},因为hello1大约花费5秒、hello2大约花费3秒、hello3大约花费4秒。返回的结果为\n\ns={hello2()、hello3()、hello(1)}，因为hello2时间最短，故而放在前面，hello1时间最长，故而放在最后面。然后对返回的集合s开始迭代。\n\n2、Task 类详解\n\n先来看一下Task类的简单介绍（英文原文文档）。\n\nclass asyncio.Task(coro, *, loop=None)\n\nA Future-like object that runs a Python coroutine. Not thread-safe.\n\nTasks are used to run coroutines in event loops. If a coroutine awaits on a Future, the Task suspends the execution of the coroutine and waits for the completion of the Future. When the Future is done, the execution of the wrapped coroutine resumes.\n\nEvent loops use cooperative scheduling: an event loop runs one Task at a time. While a Task awaits for the completion of a Future, the event loop runs other Tasks, callbacks, or performs IO operations.\n\nUse the high-level asyncio.create_task() function to create Tasks, or the low-level loop.create_task() or ensure_future() functions. Manual instantiation of Tasks is discouraged.\n\nTo cancel a running Task use the cancel() method. Calling it will cause the Task to throw a CancelledError exception into the wrapped coroutine. If a coroutine is awaiting on a Future object during cancellation, the Future object will be cancelled.\n\ncancelled() can be used to check if the Task was cancelled. The method returns True if the wrapped coroutine did not suppress the CancelledError exception and was actually cancelled.\n\nasyncio.Task inherits from Future all of its APIs except Future.set_result() and Future.set_exception().\n\nTasks support the contextvars module. When a Task is created it copies the current context and later runs its coroutine in the copied context.\n\n上面的文字描述中推出了几个非常重要的信息，特在此总结如下：\n\n（1）他是作为一个python协程对象，和Future对象很像的这么一个对象，但不是线程安全的；他继承了Future所有的API，，除了Future.set_result()和Future.set_Exception()；\n\n（2）使用高层API  asyncio.ccreate_task()创建任务，或者是使用低层API loop.create_task()或者是loop.ensure_future()创建任务对象；\n\n（3）相比于协程函数，任务时有状态的，可以使用Task.cancel()进行取消，这会触发CancelledError异常，使用cancelled()检查是否取消。\n\n下面介绍Task类常见的一些使用函数\n\n（1）cancel()\n\nRequest the Task to be cancelled.\n\n其实前面已经有所介绍，最好是使用他会出发CancelledError异常，所以需要取消的协程函数里面的代码最好在try-except语句块中进行，这样方便触发异常，打印相关信息，但是Task.cancel()没有办法保证任务一定会取消，而Future.cancel()是可以保证任务一定取消的。可以参见下面的一个例子：\n\n\n————————————————\n版权声明：本文为CSDN博主「LoveMIss-Y」的原创文章，遵循 CC 4.0 BY-SA 版权协议，转载请附上原文出处链接及本声明。\n原文链接：https://blog.csdn.net/qq_27825451/article/details/86218230"
    },
    {
      "metadata": {
        "trusted": true
      },
      "cell_type": "code",
      "source": "import asyncio\n \nasync def cancel_me():\n    print('cancel_me(): before sleep')\n    try:\n        await asyncio.sleep(3600) #模拟一个耗时任务\n    except asyncio.CancelledError:\n        print('cancel_me(): cancel sleep')\n        raise\n    finally:\n        print('cancel_me(): after sleep')\n \nasync def main():\n    #通过协程创建一个任务，需要注意的是，在创建任务的时候，就会跳入到异步开始执行\n    #因为是3.7版本，创建一个任务就相当于是运行了异步函数cancel_me\n    task = asyncio.create_task(cancel_me()) \n    #等待一秒钟\n    await asyncio.sleep(1)\n    print('main函数休息完了')\n    #发出取消任务的请求\n    task.cancel()  \n    try:\n        await task  #因为任务被取消，触发了异常\n    except asyncio.CancelledError:\n        print(\"main(): cancel_me is cancelled now\")\n \nasyncio.run(main())\n \n'''运行结果为：\ncancel_me(): before sleep\nmain函数休息完了\ncancel_me(): cancel sleep\ncancel_me(): after sleep\nmain(): cancel_me is cancelled now\n'''\n",
      "execution_count": 6,
      "outputs": [
        {
          "output_type": "error",
          "ename": "AttributeError",
          "evalue": "module 'asyncio' has no attribute 'run'",
          "traceback": [
            "\u001b[0;31m---------------------------------------------------------------------------\u001b[0m",
            "\u001b[0;31mAttributeError\u001b[0m                            Traceback (most recent call last)",
            "\u001b[0;32m<ipython-input-6-f77a010f85a7>\u001b[0m in \u001b[0;36m<module>\u001b[0;34m\u001b[0m\n\u001b[1;32m     25\u001b[0m         \u001b[0mprint\u001b[0m\u001b[0;34m(\u001b[0m\u001b[0;34m\"main(): cancel_me is cancelled now\"\u001b[0m\u001b[0;34m)\u001b[0m\u001b[0;34m\u001b[0m\u001b[0m\n\u001b[1;32m     26\u001b[0m \u001b[0;34m\u001b[0m\u001b[0m\n\u001b[0;32m---> 27\u001b[0;31m \u001b[0masyncio\u001b[0m\u001b[0;34m.\u001b[0m\u001b[0mrun\u001b[0m\u001b[0;34m(\u001b[0m\u001b[0mmain\u001b[0m\u001b[0;34m(\u001b[0m\u001b[0;34m)\u001b[0m\u001b[0;34m)\u001b[0m\u001b[0;34m\u001b[0m\u001b[0m\n\u001b[0m\u001b[1;32m     28\u001b[0m \u001b[0;34m\u001b[0m\u001b[0m\n\u001b[1;32m     29\u001b[0m '''运行结果为：\n",
            "\u001b[0;31mAttributeError\u001b[0m: module 'asyncio' has no attribute 'run'"
          ]
        }
      ]
    },
    {
      "metadata": {},
      "cell_type": "markdown",
      "source": "###\n运行过程分析：\n\n首先run函数启动主函数入口main，在main中，因为第一句话就是调用异步函数cancel_me()函数，所以先打印出了第一句话；\n\n然后进入cancel_me中的try语句，遇到await，暂停，这时候返回main中执行，但是有在main中遇到了await，也会暂停，但是由于main中只需要暂停1秒，而cancel_me中要暂停3600秒，所以等到main的暂停结束后，接着运行main，所以打印出第二句话；\n\n接下来遇到取消任务的请求task.cancel()，然后继续执行main里面的try，又遇到了await，接着main进入暂停，接下来进入到cancel_me函数中，但是由于main中请求了取消任务，所以那个耗时3600秒的任务就不再执行了，直接触发了Cancelled_Error异常，打印出第三句话，接下来又raise一个异常信息；\n\n接下来执行cancel_me的finally，打印出第四句话，此时cancel_me执行完毕，由于他抛出了一个异常，返回到主程序main中，触发异常，打印出第五句话。\n\n（2）done()\n\n当一个被包装得协程既没有触发异常、也没有被取消的时候，意味着它是done的，返回true。\n\n（3）result()\n\n返回任务的执行结果，\n\n当任务被正常执行完毕，则返回结果；\n\n当任务被取消了，调用这个方法，会触发CancelledError异常；\n\n当任务返回的结果是无用的时候，则调用这个方法会触发InvalidStateError；\n\n当任务出发了一个异常而中断，调用这个方法还会再次触发这个使程序中断的异常。\n\n（4）exception()\n\n返回任务的异常信息，触发了什么异常，就返回什么异常，如果任务是正常执行的无异常，则返回None；\n\n当任务被取消了，调用这个方法会触发CancelledError异常；\n\n当任务没有做完，调用这个方法会触发InvalidStateError异常。\n\n下面还有一些不常用的方法，如下：\n\n（5）add_done_callback(callback, *, context=None)\n\n（6）remove_done_callback(callback)\n\n（7）get_stack(*, limit=None)\n\n（8）print_stack(*, limit=None, file=None)\n\n（9）all_tasks(loop=None)，这是一个类方法\n\n（10）current_task(loop=None)，这是一个类方法\n\n3、异步函数的结果获取\n\n对于异步编程、异步函数而言，最重要的就是异步函数调用结束之后，获取异步函数的返回值，我们可以有以下几种方式来获取函数的返回值，第一是直接通过Task.result()来获取；第二种是绑定一个回调函数来获取，即函数执行完毕后调用一个函数来获取异步函数的返回值。\n\n（1）直接通过result来获取\n————————————————\n版权声明：本文为CSDN博主「LoveMIss-Y」的原创文章，遵循 CC 4.0 BY-SA 版权协议，转载请附上原文出处链接及本声明。\n原文链接：https://blog.csdn.net/qq_27825451/article/details/86218230"
    },
    {
      "metadata": {
        "trusted": true
      },
      "cell_type": "code",
      "source": "\nimport asyncio\nimport time\n \n \nasync def hello1(a,b):\n    print(\"Hello world 01 begin\")\n    await asyncio.sleep(3)  #模拟耗时任务3秒\n    print(\"Hello again 01 end\")\n    return a+b\n \ncoroutine=hello1(10,5)\nloop = asyncio.get_event_loop()                #第一步：创建事件循环\ntask=asyncio.ensure_future(coroutine)         #第二步:将多个协程函数包装成任务列表\nloop.run_until_complete(task)                  #第三步：通过事件循环运行\nprint('-------------------------------------')\nprint(task.result())\nloop.close() \n \n'''运行结果为\nHello world 01 begin\nHello again 01 end\n-------------------------------------\n15\n'''\n",
      "execution_count": 7,
      "outputs": [
        {
          "output_type": "error",
          "ename": "RuntimeError",
          "evalue": "Event loop is closed",
          "traceback": [
            "\u001b[0;31m---------------------------------------------------------------------------\u001b[0m",
            "\u001b[0;31mRuntimeError\u001b[0m                              Traceback (most recent call last)",
            "\u001b[0;32m<ipython-input-7-1bb42ace4d4a>\u001b[0m in \u001b[0;36m<module>\u001b[0;34m\u001b[0m\n\u001b[1;32m     12\u001b[0m \u001b[0mcoroutine\u001b[0m\u001b[0;34m=\u001b[0m\u001b[0mhello1\u001b[0m\u001b[0;34m(\u001b[0m\u001b[0;36m10\u001b[0m\u001b[0;34m,\u001b[0m\u001b[0;36m5\u001b[0m\u001b[0;34m)\u001b[0m\u001b[0;34m\u001b[0m\u001b[0m\n\u001b[1;32m     13\u001b[0m \u001b[0mloop\u001b[0m \u001b[0;34m=\u001b[0m \u001b[0masyncio\u001b[0m\u001b[0;34m.\u001b[0m\u001b[0mget_event_loop\u001b[0m\u001b[0;34m(\u001b[0m\u001b[0;34m)\u001b[0m                \u001b[0;31m#第一步：创建事件循环\u001b[0m\u001b[0;34m\u001b[0m\u001b[0m\n\u001b[0;32m---> 14\u001b[0;31m \u001b[0mtask\u001b[0m\u001b[0;34m=\u001b[0m\u001b[0masyncio\u001b[0m\u001b[0;34m.\u001b[0m\u001b[0mensure_future\u001b[0m\u001b[0;34m(\u001b[0m\u001b[0mcoroutine\u001b[0m\u001b[0;34m)\u001b[0m         \u001b[0;31m#第二步:将多个协程函数包装成任务列表\u001b[0m\u001b[0;34m\u001b[0m\u001b[0m\n\u001b[0m\u001b[1;32m     15\u001b[0m \u001b[0mloop\u001b[0m\u001b[0;34m.\u001b[0m\u001b[0mrun_until_complete\u001b[0m\u001b[0;34m(\u001b[0m\u001b[0mtask\u001b[0m\u001b[0;34m)\u001b[0m                  \u001b[0;31m#第三步：通过事件循环运行\u001b[0m\u001b[0;34m\u001b[0m\u001b[0m\n\u001b[1;32m     16\u001b[0m \u001b[0mprint\u001b[0m\u001b[0;34m(\u001b[0m\u001b[0;34m'-------------------------------------'\u001b[0m\u001b[0;34m)\u001b[0m\u001b[0;34m\u001b[0m\u001b[0m\n",
            "\u001b[0;32m~/anaconda3_501/lib/python3.6/asyncio/tasks.py\u001b[0m in \u001b[0;36mensure_future\u001b[0;34m(coro_or_future, loop)\u001b[0m\n\u001b[1;32m    517\u001b[0m         \u001b[0;32mif\u001b[0m \u001b[0mloop\u001b[0m \u001b[0;32mis\u001b[0m \u001b[0;32mNone\u001b[0m\u001b[0;34m:\u001b[0m\u001b[0;34m\u001b[0m\u001b[0m\n\u001b[1;32m    518\u001b[0m             \u001b[0mloop\u001b[0m \u001b[0;34m=\u001b[0m \u001b[0mevents\u001b[0m\u001b[0;34m.\u001b[0m\u001b[0mget_event_loop\u001b[0m\u001b[0;34m(\u001b[0m\u001b[0;34m)\u001b[0m\u001b[0;34m\u001b[0m\u001b[0m\n\u001b[0;32m--> 519\u001b[0;31m         \u001b[0mtask\u001b[0m \u001b[0;34m=\u001b[0m \u001b[0mloop\u001b[0m\u001b[0;34m.\u001b[0m\u001b[0mcreate_task\u001b[0m\u001b[0;34m(\u001b[0m\u001b[0mcoro_or_future\u001b[0m\u001b[0;34m)\u001b[0m\u001b[0;34m\u001b[0m\u001b[0m\n\u001b[0m\u001b[1;32m    520\u001b[0m         \u001b[0;32mif\u001b[0m \u001b[0mtask\u001b[0m\u001b[0;34m.\u001b[0m\u001b[0m_source_traceback\u001b[0m\u001b[0;34m:\u001b[0m\u001b[0;34m\u001b[0m\u001b[0m\n\u001b[1;32m    521\u001b[0m             \u001b[0;32mdel\u001b[0m \u001b[0mtask\u001b[0m\u001b[0;34m.\u001b[0m\u001b[0m_source_traceback\u001b[0m\u001b[0;34m[\u001b[0m\u001b[0;34m-\u001b[0m\u001b[0;36m1\u001b[0m\u001b[0;34m]\u001b[0m\u001b[0;34m\u001b[0m\u001b[0m\n",
            "\u001b[0;32m~/anaconda3_501/lib/python3.6/asyncio/base_events.py\u001b[0m in \u001b[0;36mcreate_task\u001b[0;34m(self, coro)\u001b[0m\n\u001b[1;32m    281\u001b[0m         \u001b[0mReturn\u001b[0m \u001b[0ma\u001b[0m \u001b[0mtask\u001b[0m \u001b[0mobject\u001b[0m\u001b[0;34m.\u001b[0m\u001b[0;34m\u001b[0m\u001b[0m\n\u001b[1;32m    282\u001b[0m         \"\"\"\n\u001b[0;32m--> 283\u001b[0;31m         \u001b[0mself\u001b[0m\u001b[0;34m.\u001b[0m\u001b[0m_check_closed\u001b[0m\u001b[0;34m(\u001b[0m\u001b[0;34m)\u001b[0m\u001b[0;34m\u001b[0m\u001b[0m\n\u001b[0m\u001b[1;32m    284\u001b[0m         \u001b[0;32mif\u001b[0m \u001b[0mself\u001b[0m\u001b[0;34m.\u001b[0m\u001b[0m_task_factory\u001b[0m \u001b[0;32mis\u001b[0m \u001b[0;32mNone\u001b[0m\u001b[0;34m:\u001b[0m\u001b[0;34m\u001b[0m\u001b[0m\n\u001b[1;32m    285\u001b[0m             \u001b[0mtask\u001b[0m \u001b[0;34m=\u001b[0m \u001b[0mtasks\u001b[0m\u001b[0;34m.\u001b[0m\u001b[0mTask\u001b[0m\u001b[0;34m(\u001b[0m\u001b[0mcoro\u001b[0m\u001b[0;34m,\u001b[0m \u001b[0mloop\u001b[0m\u001b[0;34m=\u001b[0m\u001b[0mself\u001b[0m\u001b[0;34m)\u001b[0m\u001b[0;34m\u001b[0m\u001b[0m\n",
            "\u001b[0;32m~/anaconda3_501/lib/python3.6/asyncio/base_events.py\u001b[0m in \u001b[0;36m_check_closed\u001b[0;34m(self)\u001b[0m\n\u001b[1;32m    356\u001b[0m     \u001b[0;32mdef\u001b[0m \u001b[0m_check_closed\u001b[0m\u001b[0;34m(\u001b[0m\u001b[0mself\u001b[0m\u001b[0;34m)\u001b[0m\u001b[0;34m:\u001b[0m\u001b[0;34m\u001b[0m\u001b[0m\n\u001b[1;32m    357\u001b[0m         \u001b[0;32mif\u001b[0m \u001b[0mself\u001b[0m\u001b[0;34m.\u001b[0m\u001b[0m_closed\u001b[0m\u001b[0;34m:\u001b[0m\u001b[0;34m\u001b[0m\u001b[0m\n\u001b[0;32m--> 358\u001b[0;31m             \u001b[0;32mraise\u001b[0m \u001b[0mRuntimeError\u001b[0m\u001b[0;34m(\u001b[0m\u001b[0;34m'Event loop is closed'\u001b[0m\u001b[0;34m)\u001b[0m\u001b[0;34m\u001b[0m\u001b[0m\n\u001b[0m\u001b[1;32m    359\u001b[0m \u001b[0;34m\u001b[0m\u001b[0m\n\u001b[1;32m    360\u001b[0m     \u001b[0;32mdef\u001b[0m \u001b[0m_asyncgen_finalizer_hook\u001b[0m\u001b[0;34m(\u001b[0m\u001b[0mself\u001b[0m\u001b[0;34m,\u001b[0m \u001b[0magen\u001b[0m\u001b[0;34m)\u001b[0m\u001b[0;34m:\u001b[0m\u001b[0;34m\u001b[0m\u001b[0m\n",
            "\u001b[0;31mRuntimeError\u001b[0m: Event loop is closed"
          ]
        }
      ]
    },
    {
      "metadata": {},
      "cell_type": "markdown",
      "source": "###\n（2）通过定义回调函数来获取"
    },
    {
      "metadata": {
        "trusted": true
      },
      "cell_type": "code",
      "source": "import asyncio\nimport time\n \n \nasync def hello1(a,b):\n    print(\"Hello world 01 begin\")\n    await asyncio.sleep(3)  #模拟耗时任务3秒\n    print(\"Hello again 01 end\")\n    return a+b\n \ndef callback(future):   #定义的回调函数\n    print(future.result())\n \nloop = asyncio.get_event_loop()                #第一步：创建事件循环\ntask=asyncio.ensure_future(hello1(10,5))       #第二步:将多个协程函数包装成任务\ntask.add_done_callback(callback)                      #并被任务绑定一个回调函数\n \nloop.run_until_complete(task)                  #第三步：通过事件循环运行\nloop.close()                                   #第四步：关闭事件循环\n \n \n'''运行结果为：\nHello world 01 begin\nHello again 01 end\n15\n'''\n",
      "execution_count": 8,
      "outputs": [
        {
          "output_type": "error",
          "ename": "RuntimeError",
          "evalue": "Event loop is closed",
          "traceback": [
            "\u001b[0;31m---------------------------------------------------------------------------\u001b[0m",
            "\u001b[0;31mRuntimeError\u001b[0m                              Traceback (most recent call last)",
            "\u001b[0;32m<ipython-input-8-72906cdb90b0>\u001b[0m in \u001b[0;36m<module>\u001b[0;34m\u001b[0m\n\u001b[1;32m     13\u001b[0m \u001b[0;34m\u001b[0m\u001b[0m\n\u001b[1;32m     14\u001b[0m \u001b[0mloop\u001b[0m \u001b[0;34m=\u001b[0m \u001b[0masyncio\u001b[0m\u001b[0;34m.\u001b[0m\u001b[0mget_event_loop\u001b[0m\u001b[0;34m(\u001b[0m\u001b[0;34m)\u001b[0m                \u001b[0;31m#第一步：创建事件循环\u001b[0m\u001b[0;34m\u001b[0m\u001b[0m\n\u001b[0;32m---> 15\u001b[0;31m \u001b[0mtask\u001b[0m\u001b[0;34m=\u001b[0m\u001b[0masyncio\u001b[0m\u001b[0;34m.\u001b[0m\u001b[0mensure_future\u001b[0m\u001b[0;34m(\u001b[0m\u001b[0mhello1\u001b[0m\u001b[0;34m(\u001b[0m\u001b[0;36m10\u001b[0m\u001b[0;34m,\u001b[0m\u001b[0;36m5\u001b[0m\u001b[0;34m)\u001b[0m\u001b[0;34m)\u001b[0m       \u001b[0;31m#第二步:将多个协程函数包装成任务\u001b[0m\u001b[0;34m\u001b[0m\u001b[0m\n\u001b[0m\u001b[1;32m     16\u001b[0m \u001b[0mtask\u001b[0m\u001b[0;34m.\u001b[0m\u001b[0madd_done_callback\u001b[0m\u001b[0;34m(\u001b[0m\u001b[0mcallback\u001b[0m\u001b[0;34m)\u001b[0m                      \u001b[0;31m#并被任务绑定一个回调函数\u001b[0m\u001b[0;34m\u001b[0m\u001b[0m\n\u001b[1;32m     17\u001b[0m \u001b[0;34m\u001b[0m\u001b[0m\n",
            "\u001b[0;32m~/anaconda3_501/lib/python3.6/asyncio/tasks.py\u001b[0m in \u001b[0;36mensure_future\u001b[0;34m(coro_or_future, loop)\u001b[0m\n\u001b[1;32m    517\u001b[0m         \u001b[0;32mif\u001b[0m \u001b[0mloop\u001b[0m \u001b[0;32mis\u001b[0m \u001b[0;32mNone\u001b[0m\u001b[0;34m:\u001b[0m\u001b[0;34m\u001b[0m\u001b[0m\n\u001b[1;32m    518\u001b[0m             \u001b[0mloop\u001b[0m \u001b[0;34m=\u001b[0m \u001b[0mevents\u001b[0m\u001b[0;34m.\u001b[0m\u001b[0mget_event_loop\u001b[0m\u001b[0;34m(\u001b[0m\u001b[0;34m)\u001b[0m\u001b[0;34m\u001b[0m\u001b[0m\n\u001b[0;32m--> 519\u001b[0;31m         \u001b[0mtask\u001b[0m \u001b[0;34m=\u001b[0m \u001b[0mloop\u001b[0m\u001b[0;34m.\u001b[0m\u001b[0mcreate_task\u001b[0m\u001b[0;34m(\u001b[0m\u001b[0mcoro_or_future\u001b[0m\u001b[0;34m)\u001b[0m\u001b[0;34m\u001b[0m\u001b[0m\n\u001b[0m\u001b[1;32m    520\u001b[0m         \u001b[0;32mif\u001b[0m \u001b[0mtask\u001b[0m\u001b[0;34m.\u001b[0m\u001b[0m_source_traceback\u001b[0m\u001b[0;34m:\u001b[0m\u001b[0;34m\u001b[0m\u001b[0m\n\u001b[1;32m    521\u001b[0m             \u001b[0;32mdel\u001b[0m \u001b[0mtask\u001b[0m\u001b[0;34m.\u001b[0m\u001b[0m_source_traceback\u001b[0m\u001b[0;34m[\u001b[0m\u001b[0;34m-\u001b[0m\u001b[0;36m1\u001b[0m\u001b[0;34m]\u001b[0m\u001b[0;34m\u001b[0m\u001b[0m\n",
            "\u001b[0;32m~/anaconda3_501/lib/python3.6/asyncio/base_events.py\u001b[0m in \u001b[0;36mcreate_task\u001b[0;34m(self, coro)\u001b[0m\n\u001b[1;32m    281\u001b[0m         \u001b[0mReturn\u001b[0m \u001b[0ma\u001b[0m \u001b[0mtask\u001b[0m \u001b[0mobject\u001b[0m\u001b[0;34m.\u001b[0m\u001b[0;34m\u001b[0m\u001b[0m\n\u001b[1;32m    282\u001b[0m         \"\"\"\n\u001b[0;32m--> 283\u001b[0;31m         \u001b[0mself\u001b[0m\u001b[0;34m.\u001b[0m\u001b[0m_check_closed\u001b[0m\u001b[0;34m(\u001b[0m\u001b[0;34m)\u001b[0m\u001b[0;34m\u001b[0m\u001b[0m\n\u001b[0m\u001b[1;32m    284\u001b[0m         \u001b[0;32mif\u001b[0m \u001b[0mself\u001b[0m\u001b[0;34m.\u001b[0m\u001b[0m_task_factory\u001b[0m \u001b[0;32mis\u001b[0m \u001b[0;32mNone\u001b[0m\u001b[0;34m:\u001b[0m\u001b[0;34m\u001b[0m\u001b[0m\n\u001b[1;32m    285\u001b[0m             \u001b[0mtask\u001b[0m \u001b[0;34m=\u001b[0m \u001b[0mtasks\u001b[0m\u001b[0;34m.\u001b[0m\u001b[0mTask\u001b[0m\u001b[0;34m(\u001b[0m\u001b[0mcoro\u001b[0m\u001b[0;34m,\u001b[0m \u001b[0mloop\u001b[0m\u001b[0;34m=\u001b[0m\u001b[0mself\u001b[0m\u001b[0;34m)\u001b[0m\u001b[0;34m\u001b[0m\u001b[0m\n",
            "\u001b[0;32m~/anaconda3_501/lib/python3.6/asyncio/base_events.py\u001b[0m in \u001b[0;36m_check_closed\u001b[0;34m(self)\u001b[0m\n\u001b[1;32m    356\u001b[0m     \u001b[0;32mdef\u001b[0m \u001b[0m_check_closed\u001b[0m\u001b[0;34m(\u001b[0m\u001b[0mself\u001b[0m\u001b[0;34m)\u001b[0m\u001b[0;34m:\u001b[0m\u001b[0;34m\u001b[0m\u001b[0m\n\u001b[1;32m    357\u001b[0m         \u001b[0;32mif\u001b[0m \u001b[0mself\u001b[0m\u001b[0;34m.\u001b[0m\u001b[0m_closed\u001b[0m\u001b[0;34m:\u001b[0m\u001b[0;34m\u001b[0m\u001b[0m\n\u001b[0;32m--> 358\u001b[0;31m             \u001b[0;32mraise\u001b[0m \u001b[0mRuntimeError\u001b[0m\u001b[0;34m(\u001b[0m\u001b[0;34m'Event loop is closed'\u001b[0m\u001b[0;34m)\u001b[0m\u001b[0;34m\u001b[0m\u001b[0m\n\u001b[0m\u001b[1;32m    359\u001b[0m \u001b[0;34m\u001b[0m\u001b[0m\n\u001b[1;32m    360\u001b[0m     \u001b[0;32mdef\u001b[0m \u001b[0m_asyncgen_finalizer_hook\u001b[0m\u001b[0;34m(\u001b[0m\u001b[0mself\u001b[0m\u001b[0;34m,\u001b[0m \u001b[0magen\u001b[0m\u001b[0;34m)\u001b[0m\u001b[0;34m:\u001b[0m\u001b[0;34m\u001b[0m\u001b[0m\n",
            "\u001b[0;31mRuntimeError\u001b[0m: Event loop is closed"
          ]
        }
      ]
    },
    {
      "metadata": {},
      "cell_type": "markdown",
      "source": "###\n注意：所谓的回调函数，就是指协程函数coroutine执行结束时候会调用回调函数。并通过参数future获取协程执行的结果。我们创建的task和回调里的future对象，实际上是同一个对象，因为task是future的子类。\n\n三、asyncio异步编程的基本模板\n事实上，在使用asyncio进行异步编程的时候，语法形式往往是多样性的，虽然理解异步编程的核心思想很重要，但是实现的时候终究还是要编写语句的，本次给出的模板，是两个不同的例子，例子一是三个异步方法，它们都没有参数，没有返回值，都模拟一个耗时任务；例子二是三个异步方法，都有参数，都有返回值。\n\n1、python3.7之前的版本\n\n（1）例子一：无参数、无返回值\n————————————————\n版权声明：本文为CSDN博主「LoveMIss-Y」的原创文章，遵循 CC 4.0 BY-SA 版权协议，转载请附上原文出处链接及本声明。\n原文链接：https://blog.csdn.net/qq_27825451/article/details/86218230"
    },
    {
      "metadata": {
        "trusted": true
      },
      "cell_type": "code",
      "source": "\nimport asyncio\nimport time\n \na=time.time()\n \nasync def hello1():\n    print(\"Hello world 01 begin\")\n    await asyncio.sleep(3)  #模拟耗时任务3秒\n    print(\"Hello again 01 end\")\n \nasync def hello2():\n    print(\"Hello world 02 begin\")\n    await asyncio.sleep(2)   #模拟耗时任务2秒\n    print(\"Hello again 02 end\")\n \nasync def hello3():\n    print(\"Hello world 03 begin\")\n    await asyncio.sleep(4)   #模拟耗时任务4秒\n    print(\"Hello again 03 end\")\n \nloop = asyncio.get_event_loop()                #第一步：创建事件循环\ntasks = [hello1(), hello2(),hello3()]          #第二步:将多个协程函数包装成任务列表\nloop.run_until_complete(asyncio.wait(tasks))   #第三步：通过事件循环运行\nloop.close()                                   #第四步：取消事件循环\n \n'''运行结果为：\nHello world 02 begin\nHello world 03 begin\nHello world 01 begin\nHello again 02 end\nHello again 01 end\nHello again 03 end\n'''\n",
      "execution_count": 9,
      "outputs": [
        {
          "output_type": "error",
          "ename": "RuntimeError",
          "evalue": "Event loop is closed",
          "traceback": [
            "\u001b[0;31m---------------------------------------------------------------------------\u001b[0m",
            "\u001b[0;31mRuntimeError\u001b[0m                              Traceback (most recent call last)",
            "\u001b[0;32m<ipython-input-9-0da21d7be444>\u001b[0m in \u001b[0;36m<module>\u001b[0;34m\u001b[0m\n\u001b[1;32m     22\u001b[0m \u001b[0mloop\u001b[0m \u001b[0;34m=\u001b[0m \u001b[0masyncio\u001b[0m\u001b[0;34m.\u001b[0m\u001b[0mget_event_loop\u001b[0m\u001b[0;34m(\u001b[0m\u001b[0;34m)\u001b[0m                \u001b[0;31m#第一步：创建事件循环\u001b[0m\u001b[0;34m\u001b[0m\u001b[0m\n\u001b[1;32m     23\u001b[0m \u001b[0mtasks\u001b[0m \u001b[0;34m=\u001b[0m \u001b[0;34m[\u001b[0m\u001b[0mhello1\u001b[0m\u001b[0;34m(\u001b[0m\u001b[0;34m)\u001b[0m\u001b[0;34m,\u001b[0m \u001b[0mhello2\u001b[0m\u001b[0;34m(\u001b[0m\u001b[0;34m)\u001b[0m\u001b[0;34m,\u001b[0m\u001b[0mhello3\u001b[0m\u001b[0;34m(\u001b[0m\u001b[0;34m)\u001b[0m\u001b[0;34m]\u001b[0m          \u001b[0;31m#第二步:将多个协程函数包装成任务列表\u001b[0m\u001b[0;34m\u001b[0m\u001b[0m\n\u001b[0;32m---> 24\u001b[0;31m \u001b[0mloop\u001b[0m\u001b[0;34m.\u001b[0m\u001b[0mrun_until_complete\u001b[0m\u001b[0;34m(\u001b[0m\u001b[0masyncio\u001b[0m\u001b[0;34m.\u001b[0m\u001b[0mwait\u001b[0m\u001b[0;34m(\u001b[0m\u001b[0mtasks\u001b[0m\u001b[0;34m)\u001b[0m\u001b[0;34m)\u001b[0m   \u001b[0;31m#第三步：通过事件循环运行\u001b[0m\u001b[0;34m\u001b[0m\u001b[0m\n\u001b[0m\u001b[1;32m     25\u001b[0m \u001b[0mloop\u001b[0m\u001b[0;34m.\u001b[0m\u001b[0mclose\u001b[0m\u001b[0;34m(\u001b[0m\u001b[0;34m)\u001b[0m                                   \u001b[0;31m#第四步：取消事件循环\u001b[0m\u001b[0;34m\u001b[0m\u001b[0m\n\u001b[1;32m     26\u001b[0m \u001b[0;34m\u001b[0m\u001b[0m\n",
            "\u001b[0;32m~/anaconda3_501/lib/python3.6/asyncio/base_events.py\u001b[0m in \u001b[0;36mrun_until_complete\u001b[0;34m(self, future)\u001b[0m\n\u001b[1;32m    442\u001b[0m         \u001b[0mReturn\u001b[0m \u001b[0mthe\u001b[0m \u001b[0mFuture\u001b[0m\u001b[0;31m'\u001b[0m\u001b[0ms\u001b[0m \u001b[0mresult\u001b[0m\u001b[0;34m,\u001b[0m \u001b[0;32mor\u001b[0m \u001b[0;32mraise\u001b[0m \u001b[0mits\u001b[0m \u001b[0mexception\u001b[0m\u001b[0;34m.\u001b[0m\u001b[0;34m\u001b[0m\u001b[0m\n\u001b[1;32m    443\u001b[0m         \"\"\"\n\u001b[0;32m--> 444\u001b[0;31m         \u001b[0mself\u001b[0m\u001b[0;34m.\u001b[0m\u001b[0m_check_closed\u001b[0m\u001b[0;34m(\u001b[0m\u001b[0;34m)\u001b[0m\u001b[0;34m\u001b[0m\u001b[0m\n\u001b[0m\u001b[1;32m    445\u001b[0m \u001b[0;34m\u001b[0m\u001b[0m\n\u001b[1;32m    446\u001b[0m         \u001b[0mnew_task\u001b[0m \u001b[0;34m=\u001b[0m \u001b[0;32mnot\u001b[0m \u001b[0mfutures\u001b[0m\u001b[0;34m.\u001b[0m\u001b[0misfuture\u001b[0m\u001b[0;34m(\u001b[0m\u001b[0mfuture\u001b[0m\u001b[0;34m)\u001b[0m\u001b[0;34m\u001b[0m\u001b[0m\n",
            "\u001b[0;32m~/anaconda3_501/lib/python3.6/asyncio/base_events.py\u001b[0m in \u001b[0;36m_check_closed\u001b[0;34m(self)\u001b[0m\n\u001b[1;32m    356\u001b[0m     \u001b[0;32mdef\u001b[0m \u001b[0m_check_closed\u001b[0m\u001b[0;34m(\u001b[0m\u001b[0mself\u001b[0m\u001b[0;34m)\u001b[0m\u001b[0;34m:\u001b[0m\u001b[0;34m\u001b[0m\u001b[0m\n\u001b[1;32m    357\u001b[0m         \u001b[0;32mif\u001b[0m \u001b[0mself\u001b[0m\u001b[0;34m.\u001b[0m\u001b[0m_closed\u001b[0m\u001b[0;34m:\u001b[0m\u001b[0;34m\u001b[0m\u001b[0m\n\u001b[0;32m--> 358\u001b[0;31m             \u001b[0;32mraise\u001b[0m \u001b[0mRuntimeError\u001b[0m\u001b[0;34m(\u001b[0m\u001b[0;34m'Event loop is closed'\u001b[0m\u001b[0;34m)\u001b[0m\u001b[0;34m\u001b[0m\u001b[0m\n\u001b[0m\u001b[1;32m    359\u001b[0m \u001b[0;34m\u001b[0m\u001b[0m\n\u001b[1;32m    360\u001b[0m     \u001b[0;32mdef\u001b[0m \u001b[0m_asyncgen_finalizer_hook\u001b[0m\u001b[0;34m(\u001b[0m\u001b[0mself\u001b[0m\u001b[0;34m,\u001b[0m \u001b[0magen\u001b[0m\u001b[0;34m)\u001b[0m\u001b[0;34m:\u001b[0m\u001b[0;34m\u001b[0m\u001b[0m\n",
            "\u001b[0;31mRuntimeError\u001b[0m: Event loop is closed"
          ]
        }
      ]
    },
    {
      "metadata": {},
      "cell_type": "markdown",
      "source": "（2）例子二：有参数、有返回值"
    },
    {
      "metadata": {
        "trusted": true
      },
      "cell_type": "code",
      "source": "import asyncio\nimport time\n \n \nasync def hello1(a,b):\n    print(\"Hello world 01 begin\")\n    await asyncio.sleep(3)  #模拟耗时任务3秒\n    print(\"Hello again 01 end\")\n    return a+b\n \nasync def hello2(a,b):\n    print(\"Hello world 02 begin\")\n    await asyncio.sleep(2)   #模拟耗时任务2秒\n    print(\"Hello again 02 end\")\n    return a-b\n \nasync def hello3(a,b):\n    print(\"Hello world 03 begin\")\n    await asyncio.sleep(4)   #模拟耗时任务4秒\n    print(\"Hello again 03 end\")\n    return a*b\n \nloop = asyncio.get_event_loop()                #第一步：创建事件循环\ntask1=asyncio.ensure_future(hello1(10,5))\ntask2=asyncio.ensure_future(hello2(10,5))\ntask3=asyncio.ensure_future(hello3(10,5))\ntasks = [task1,task2,task3]                    #第二步:将多个协程函数包装成任务列表\nloop.run_until_complete(asyncio.wait(tasks))   #第三步:通过事件循环运行\nprint(task1.result())                               #并且在所有的任务完成之后，获取异步函数的返回值   \nprint(task2.result())\nprint(task3.result())\nloop.close()                                   #第四步：关闭事件循环\n \n'''运行结果为：\nHello world 01 begin\nHello world 02 begin\nHello world 03 begin\nHello again 02 end\nHello again 01 end\nHello again 03 end\n15\n5\n50\n\n",
      "execution_count": 10,
      "outputs": [
        {
          "output_type": "error",
          "ename": "SyntaxError",
          "evalue": "EOF while scanning triple-quoted string literal (<ipython-input-10-cd3ed06fb915>, line 44)",
          "traceback": [
            "\u001b[0;36m  File \u001b[0;32m\"<ipython-input-10-cd3ed06fb915>\"\u001b[0;36m, line \u001b[0;32m44\u001b[0m\n\u001b[0;31m    \u001b[0m\n\u001b[0m    ^\u001b[0m\n\u001b[0;31mSyntaxError\u001b[0m\u001b[0;31m:\u001b[0m EOF while scanning triple-quoted string literal\n"
          ]
        }
      ]
    },
    {
      "metadata": {},
      "cell_type": "markdown",
      "source": "###\n（3）总结：四步走（针对python3.7之前的版本）\n\n第一步·：构造事件循环"
    },
    {
      "metadata": {},
      "cell_type": "markdown",
      "source": "###\nloop=asyncio.get_running_loop() #返回（获取）在当前线程中正在运行的事件循环，如果没有正在运行的事件循环，则会显示错误；它是python3.7中新添加的\n \nloop=asyncio.get_event_loop() #获得一个事件循环，如果当前线程还没有事件循环，则创建一个新的事件循环loop；\n \nloop=asyncio.set_event_loop(loop) #设置一个事件循环为当前线程的事件循环；\n \nloop=asyncio.new_event_loop()  #创建一个新的事件循环\n————————————————\n版权声明：本文为CSDN博主「LoveMIss-Y」的原创文章，遵循 CC 4.0 BY-SA 版权协议，转载请附上原文出处链接及本声明。\n原文链接：https://blog.csdn.net/qq_27825451/article/details/86218230"
    },
    {
      "metadata": {},
      "cell_type": "markdown",
      "source": "###\n第二步：将一个或者是多个协程函数包装成任务Task"
    },
    {
      "metadata": {
        "trusted": true
      },
      "cell_type": "code",
      "source": "#高层API\ntask = asyncio.create_task(coro(参数列表))   # 这是3.7版本新添加的\ntask = asyncio.ensure_future(coro(参数列表)) \n \n#低层API\nloop.create_future(coro)\nloop.create_task(coro)\n \n'''需要注意的是，在使用Task.result()获取协程函数结果的时候，使用asyncio.create_task()却会显示错\n但是使用asyncio.ensure_future却正确，本人暂时不知道原因，哪位大神知道，望告知，不胜感激！'''\n————————————————\n",
      "execution_count": 11,
      "outputs": [
        {
          "output_type": "error",
          "ename": "SyntaxError",
          "evalue": "invalid character in identifier (<ipython-input-11-1b9f92380251>, line 2)",
          "traceback": [
            "\u001b[0;36m  File \u001b[0;32m\"<ipython-input-11-1b9f92380251>\"\u001b[0;36m, line \u001b[0;32m2\u001b[0m\n\u001b[0;31m    task = asyncio.create_task(coro(参数列表))   # 这是3.7版本新添加的\u001b[0m\n\u001b[0m                                            ^\u001b[0m\n\u001b[0;31mSyntaxError\u001b[0m\u001b[0;31m:\u001b[0m invalid character in identifier\n"
          ]
        }
      ]
    },
    {
      "metadata": {},
      "cell_type": "markdown",
      "source": "###\n第三步：通过事件循环运行"
    },
    {
      "metadata": {
        "trusted": true
      },
      "cell_type": "code",
      "source": "loop.run_until_complete(asyncio.wait(tasks))  #通过asyncio.wait()整合多个task\n \nloop.run_until_complete(asyncio.gather(tasks))  #通过asyncio.gather()整合多个task\n \nloop.run_until_complete(task_1)  #单个任务则不需要整合\n \nloop.run_forever()  #但是这个方法在新版本已经取消，不再推荐使用，因为使用起来不简洁\n \n'''\n使用gather或者wait可以同时注册多个任务，实现并发,但他们的设计是完全不一样的，在前面的2.1.(4)中已经讨论过了，主要区别如下：\n（1）参数形式不一样\ngather的参数为 *coroutines_or_futures,即如这种形式\n      tasks = asyncio.gather(*[task1,task2,task3])或者\n      tasks = asyncio.gather(task1,task2,task3)\n      loop.run_until_complete(tasks)\nwait的参数为列表或者集合的形式，如下\n      tasks = asyncio.wait([task1,task2,task3])\n      loop.run_until_complete(tasks)\n（2）返回的值不一样\ngather的定义如下，gather返回的是每一个任务运行的结果，\n      results = await asyncio.gather(*tasks) \nwait的定义如下,返回dones是已经完成的任务，pending是未完成的任务，都是集合类型\n done, pending = yield from asyncio.wait(fs)\n（3）后面还会讲到他们的进一步使用\n'''\n",
      "execution_count": 12,
      "outputs": [
        {
          "output_type": "error",
          "ename": "RuntimeError",
          "evalue": "Event loop is closed",
          "traceback": [
            "\u001b[0;31m---------------------------------------------------------------------------\u001b[0m",
            "\u001b[0;31mRuntimeError\u001b[0m                              Traceback (most recent call last)",
            "\u001b[0;32m<ipython-input-12-49989b75f9c2>\u001b[0m in \u001b[0;36m<module>\u001b[0;34m\u001b[0m\n\u001b[0;32m----> 1\u001b[0;31m \u001b[0mloop\u001b[0m\u001b[0;34m.\u001b[0m\u001b[0mrun_until_complete\u001b[0m\u001b[0;34m(\u001b[0m\u001b[0masyncio\u001b[0m\u001b[0;34m.\u001b[0m\u001b[0mwait\u001b[0m\u001b[0;34m(\u001b[0m\u001b[0mtasks\u001b[0m\u001b[0;34m)\u001b[0m\u001b[0;34m)\u001b[0m  \u001b[0;31m#通过asyncio.wait()整合多个task\u001b[0m\u001b[0;34m\u001b[0m\u001b[0m\n\u001b[0m\u001b[1;32m      2\u001b[0m \u001b[0;34m\u001b[0m\u001b[0m\n\u001b[1;32m      3\u001b[0m \u001b[0mloop\u001b[0m\u001b[0;34m.\u001b[0m\u001b[0mrun_until_complete\u001b[0m\u001b[0;34m(\u001b[0m\u001b[0masyncio\u001b[0m\u001b[0;34m.\u001b[0m\u001b[0mgather\u001b[0m\u001b[0;34m(\u001b[0m\u001b[0mtasks\u001b[0m\u001b[0;34m)\u001b[0m\u001b[0;34m)\u001b[0m  \u001b[0;31m#通过asyncio.gather()整合多个task\u001b[0m\u001b[0;34m\u001b[0m\u001b[0m\n\u001b[1;32m      4\u001b[0m \u001b[0;34m\u001b[0m\u001b[0m\n\u001b[1;32m      5\u001b[0m \u001b[0mloop\u001b[0m\u001b[0;34m.\u001b[0m\u001b[0mrun_until_complete\u001b[0m\u001b[0;34m(\u001b[0m\u001b[0mtask_1\u001b[0m\u001b[0;34m)\u001b[0m  \u001b[0;31m#单个任务则不需要整合\u001b[0m\u001b[0;34m\u001b[0m\u001b[0m\n",
            "\u001b[0;32m~/anaconda3_501/lib/python3.6/asyncio/base_events.py\u001b[0m in \u001b[0;36mrun_until_complete\u001b[0;34m(self, future)\u001b[0m\n\u001b[1;32m    442\u001b[0m         \u001b[0mReturn\u001b[0m \u001b[0mthe\u001b[0m \u001b[0mFuture\u001b[0m\u001b[0;31m'\u001b[0m\u001b[0ms\u001b[0m \u001b[0mresult\u001b[0m\u001b[0;34m,\u001b[0m \u001b[0;32mor\u001b[0m \u001b[0;32mraise\u001b[0m \u001b[0mits\u001b[0m \u001b[0mexception\u001b[0m\u001b[0;34m.\u001b[0m\u001b[0;34m\u001b[0m\u001b[0m\n\u001b[1;32m    443\u001b[0m         \"\"\"\n\u001b[0;32m--> 444\u001b[0;31m         \u001b[0mself\u001b[0m\u001b[0;34m.\u001b[0m\u001b[0m_check_closed\u001b[0m\u001b[0;34m(\u001b[0m\u001b[0;34m)\u001b[0m\u001b[0;34m\u001b[0m\u001b[0m\n\u001b[0m\u001b[1;32m    445\u001b[0m \u001b[0;34m\u001b[0m\u001b[0m\n\u001b[1;32m    446\u001b[0m         \u001b[0mnew_task\u001b[0m \u001b[0;34m=\u001b[0m \u001b[0;32mnot\u001b[0m \u001b[0mfutures\u001b[0m\u001b[0;34m.\u001b[0m\u001b[0misfuture\u001b[0m\u001b[0;34m(\u001b[0m\u001b[0mfuture\u001b[0m\u001b[0;34m)\u001b[0m\u001b[0;34m\u001b[0m\u001b[0m\n",
            "\u001b[0;32m~/anaconda3_501/lib/python3.6/asyncio/base_events.py\u001b[0m in \u001b[0;36m_check_closed\u001b[0;34m(self)\u001b[0m\n\u001b[1;32m    356\u001b[0m     \u001b[0;32mdef\u001b[0m \u001b[0m_check_closed\u001b[0m\u001b[0;34m(\u001b[0m\u001b[0mself\u001b[0m\u001b[0;34m)\u001b[0m\u001b[0;34m:\u001b[0m\u001b[0;34m\u001b[0m\u001b[0m\n\u001b[1;32m    357\u001b[0m         \u001b[0;32mif\u001b[0m \u001b[0mself\u001b[0m\u001b[0;34m.\u001b[0m\u001b[0m_closed\u001b[0m\u001b[0;34m:\u001b[0m\u001b[0;34m\u001b[0m\u001b[0m\n\u001b[0;32m--> 358\u001b[0;31m             \u001b[0;32mraise\u001b[0m \u001b[0mRuntimeError\u001b[0m\u001b[0;34m(\u001b[0m\u001b[0;34m'Event loop is closed'\u001b[0m\u001b[0;34m)\u001b[0m\u001b[0;34m\u001b[0m\u001b[0m\n\u001b[0m\u001b[1;32m    359\u001b[0m \u001b[0;34m\u001b[0m\u001b[0m\n\u001b[1;32m    360\u001b[0m     \u001b[0;32mdef\u001b[0m \u001b[0m_asyncgen_finalizer_hook\u001b[0m\u001b[0;34m(\u001b[0m\u001b[0mself\u001b[0m\u001b[0;34m,\u001b[0m \u001b[0magen\u001b[0m\u001b[0;34m)\u001b[0m\u001b[0;34m:\u001b[0m\u001b[0;34m\u001b[0m\u001b[0m\n",
            "\u001b[0;31mRuntimeError\u001b[0m: Event loop is closed"
          ]
        }
      ]
    },
    {
      "metadata": {},
      "cell_type": "markdown",
      "source": "###\n简单来说：async.wait会返回两个值:done和pending，done为已完成的协程Task，pending为超时未完成的协程Task，需通过future.result调用Task的result。而async.gather返回的是已完成Task的result。\n\n第四步：关闭事件循环\n————————————————\n版权声明：本文为CSDN博主「LoveMIss-Y」的原创文章，遵循 CC 4.0 BY-SA 版权协议，转载请附上原文出处链接及本声明。\n原文链接：https://blog.csdn.net/qq_27825451/article/details/86218230"
    },
    {
      "metadata": {
        "trusted": true
      },
      "cell_type": "code",
      "source": "loop.close()\n \n'''\n以上示例都没有调用 loop.close，好像也没有什么问题。所以到底要不要调 loop.close 呢？\n简单来说，loop 只要不关闭，就还可以再运行：\nloop.run_until_complete(do_some_work(loop, 1))\nloop.run_until_complete(do_some_work(loop, 3))\nloop.close()\n但是如果关闭了，就不能再运行了：\nloop.run_until_complete(do_some_work(loop, 1))\nloop.close()\nloop.run_until_complete(do_some_work(loop, 3))  # 此处异常\n建议调用 loop.close，以彻底清理 loop 对象防止误用\n'''\n",
      "execution_count": 13,
      "outputs": [
        {
          "output_type": "execute_result",
          "execution_count": 13,
          "data": {
            "text/plain": "'\\n以上示例都没有调用 loop.close，好像也没有什么问题。所以到底要不要调 loop.close 呢？\\n简单来说，loop 只要不关闭，就还可以再运行：\\nloop.run_until_complete(do_some_work(loop, 1))\\nloop.run_until_complete(do_some_work(loop, 3))\\nloop.close()\\n但是如果关闭了，就不能再运行了：\\nloop.run_until_complete(do_some_work(loop, 1))\\nloop.close()\\nloop.run_until_complete(do_some_work(loop, 3))  # 此处异常\\n建议调用 loop.close，以彻底清理 loop 对象防止误用\\n'"
          },
          "metadata": {}
        }
      ]
    },
    {
      "metadata": {},
      "cell_type": "markdown",
      "source": "###\n2、python3.7版本\n\n在最新的python3.7版本中，asyncio又引进了一些新的特性和API，\n\n（1）例子一：无参数、无返回值"
    },
    {
      "metadata": {
        "trusted": true
      },
      "cell_type": "code",
      "source": "import asyncio\nimport time\n \n \nasync def hello1():\n    print(\"Hello world 01 begin\")\n    await asyncio.sleep(3)  #模拟耗时任务3秒\n    print(\"Hello again 01 end\")\n \nasync def hello2():\n    print(\"Hello world 02 begin\")\n    await asyncio.sleep(2)   #模拟耗时任务2秒\n    print(\"Hello again 02 end\")\n \nasync def hello3():\n    print(\"Hello world 03 begin\")\n    await asyncio.sleep(4)   #模拟耗时任务4秒\n    print(\"Hello again 03 end\")\n \nasync def main():\n    results=await asyncio.gather(hello1(),hello2(),hello3())\n    for result in results:\n        print(result)     #因为没返回值，故而返回None\n \nasyncio.run(main())\n \n'''运行结果为：\nHello world 01 begin\nHello world 02 begin\nHello world 03 begin\nHello again 02 end\nHello again 01 end\nHello again 03 end\nNone\nNone\nNone\n'''\n",
      "execution_count": 14,
      "outputs": [
        {
          "output_type": "stream",
          "text": "namedtuple_TokenInfo:14: RuntimeWarning: coroutine 'hello1' was never awaited\n",
          "name": "stderr"
        },
        {
          "output_type": "error",
          "ename": "AttributeError",
          "evalue": "module 'asyncio' has no attribute 'run'",
          "traceback": [
            "\u001b[0;31m---------------------------------------------------------------------------\u001b[0m",
            "\u001b[0;31mAttributeError\u001b[0m                            Traceback (most recent call last)",
            "\u001b[0;32m<ipython-input-14-a7ab9d391cf0>\u001b[0m in \u001b[0;36m<module>\u001b[0;34m\u001b[0m\n\u001b[1;32m     23\u001b[0m         \u001b[0mprint\u001b[0m\u001b[0;34m(\u001b[0m\u001b[0mresult\u001b[0m\u001b[0;34m)\u001b[0m     \u001b[0;31m#因为没返回值，故而返回None\u001b[0m\u001b[0;34m\u001b[0m\u001b[0m\n\u001b[1;32m     24\u001b[0m \u001b[0;34m\u001b[0m\u001b[0m\n\u001b[0;32m---> 25\u001b[0;31m \u001b[0masyncio\u001b[0m\u001b[0;34m.\u001b[0m\u001b[0mrun\u001b[0m\u001b[0;34m(\u001b[0m\u001b[0mmain\u001b[0m\u001b[0;34m(\u001b[0m\u001b[0;34m)\u001b[0m\u001b[0;34m)\u001b[0m\u001b[0;34m\u001b[0m\u001b[0m\n\u001b[0m\u001b[1;32m     26\u001b[0m \u001b[0;34m\u001b[0m\u001b[0m\n\u001b[1;32m     27\u001b[0m '''运行结果为：\n",
            "\u001b[0;31mAttributeError\u001b[0m: module 'asyncio' has no attribute 'run'"
          ]
        }
      ]
    },
    {
      "metadata": {},
      "cell_type": "markdown",
      "source": "###\n（2）例子二：有参数、有返回值"
    },
    {
      "metadata": {
        "trusted": true
      },
      "cell_type": "code",
      "source": "import asyncio\nimport time\n \n \nasync def hello1(a,b):\n    print(\"Hello world 01 begin\")\n    await asyncio.sleep(3)  #模拟耗时任务3秒\n    print(\"Hello again 01 end\")\n    return a+b\n \nasync def hello2(a,b):\n    print(\"Hello world 02 begin\")\n    await asyncio.sleep(2)   #模拟耗时任务2秒\n    print(\"Hello again 02 end\")\n    return a-b\n \nasync def hello3(a,b):\n    print(\"Hello world 03 begin\")\n    await asyncio.sleep(4)   #模拟耗时任务4秒\n    print(\"Hello again 03 end\")\n    return a*b\n \nasync def main():\n    results=await asyncio.gather(hello1(10,5),hello2(10,5),hello3(10,5))\n    for result in results:\n        print(result)\n \nasyncio.run(main())\n \n'''运行结果为：\nHello world 01 begin\nHello world 02 begin\nHello world 03 begin\nHello again 02 end\nHello again 01 end\nHello again 03 end\n15\n5\n50\n'''\n",
      "execution_count": 15,
      "outputs": [
        {
          "output_type": "error",
          "ename": "AttributeError",
          "evalue": "module 'asyncio' has no attribute 'run'",
          "traceback": [
            "\u001b[0;31m---------------------------------------------------------------------------\u001b[0m",
            "\u001b[0;31mAttributeError\u001b[0m                            Traceback (most recent call last)",
            "\u001b[0;32m<ipython-input-15-2447f54cd951>\u001b[0m in \u001b[0;36m<module>\u001b[0;34m\u001b[0m\n\u001b[1;32m     26\u001b[0m         \u001b[0mprint\u001b[0m\u001b[0;34m(\u001b[0m\u001b[0mresult\u001b[0m\u001b[0;34m)\u001b[0m\u001b[0;34m\u001b[0m\u001b[0m\n\u001b[1;32m     27\u001b[0m \u001b[0;34m\u001b[0m\u001b[0m\n\u001b[0;32m---> 28\u001b[0;31m \u001b[0masyncio\u001b[0m\u001b[0;34m.\u001b[0m\u001b[0mrun\u001b[0m\u001b[0;34m(\u001b[0m\u001b[0mmain\u001b[0m\u001b[0;34m(\u001b[0m\u001b[0;34m)\u001b[0m\u001b[0;34m)\u001b[0m\u001b[0;34m\u001b[0m\u001b[0m\n\u001b[0m\u001b[1;32m     29\u001b[0m \u001b[0;34m\u001b[0m\u001b[0m\n\u001b[1;32m     30\u001b[0m '''运行结果为：\n",
            "\u001b[0;31mAttributeError\u001b[0m: module 'asyncio' has no attribute 'run'"
          ]
        }
      ]
    },
    {
      "metadata": {},
      "cell_type": "markdown",
      "source": "###\n（3）总结：两步走（针对python3.7）\n\n第一步：构建一个入口函数main\n\n他也是一个异步协程函数，即通过async定义，并且要在main函数里面await一个或者是多个协程，同前面一样，我可以通过gather或者是wait进行组合，对于有返回值的协程函数，一般就在main里面进行结果的获取。\n\n第二步：启动主函数main\n\n这是python3.7新添加的函数，就一句话，即\n\nasyncio.run(main())\n\n注意：\n\n不再需要显式的创建事件循环，因为在启动run函数的时候，就会自动创建一个新的事件循环。而且在main中也不需要通过事件循环去掉用被包装的协程函数，只需要向普通函数那样调用即可 ，只不过使用了await关键字而已。\n\n四、协程编程的优点：\n1、无cpu分时切换线程保存上下文问题（协程上下文怎么保存）\n\n2、遇到io阻塞切换（怎么实现的）\n\n3、无需共享数据的保护锁（为什么）\n\n4、系列文章下篇预告——介绍低层的API，事件循环到底是怎么实现的以及future类的实现。\n————————————————\n版权声明：本文为CSDN博主「LoveMIss-Y」的原创文章，遵循 CC 4.0 BY-SA 版权协议，转载请附上原文出处链接及本声明。\n原文链接：https://blog.csdn.net/qq_27825451/article/details/86218230"
    },
    {
      "metadata": {
        "trusted": true
      },
      "cell_type": "code",
      "source": "",
      "execution_count": null,
      "outputs": []
    }
  ],
  "metadata": {
    "kernelspec": {
      "name": "python36",
      "display_name": "Python 3.6",
      "language": "python"
    },
    "language_info": {
      "mimetype": "text/x-python",
      "nbconvert_exporter": "python",
      "name": "python",
      "pygments_lexer": "ipython3",
      "version": "3.6.6",
      "file_extension": ".py",
      "codemirror_mode": {
        "version": 3,
        "name": "ipython"
      }
    }
  },
  "nbformat": 4,
  "nbformat_minor": 2
}