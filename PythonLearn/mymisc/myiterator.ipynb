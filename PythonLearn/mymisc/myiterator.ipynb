{
  "cells": [
    {
      "metadata": {
        "trusted": true
      },
      "cell_type": "code",
      "source": "def Foo():  #  ipython qtconsole --pylab=inline\n    for i in range(1, 10):  \n        yield i   # 生成器只能被使用一次!!!  default return for None\n        \nfoo = Foo()\nprint(type(foo))\nfor i in foo:\n    print(i, end=\"\")",
      "execution_count": null,
      "outputs": []
    },
    {
      "metadata": {
        "trusted": true
      },
      "cell_type": "code",
      "source": "def Foo():      #生成器特殊迭代器 不需要自己定义__next__ Python 解释器完成\n    print(111)\n    yield 222\n    print(333)\n    yield 444\n    print(555)\n    yield 666   # Python 解释器遇到yiled 会把正个函数体包装起来，以对象返回\n    print(777)  # 会被执行但会抛出异常(StopIteration)\n    \nfoo = Foo()\nx = next(foo)   # 执行这句会打印出 111,并把yiled 222 的222返回给x   (next(), object.__next__() 等效)\nx \n'china'.__iter__() # 转成了迭代器\n",
      "execution_count": null,
      "outputs": []
    },
    {
      "metadata": {
        "trusted": true
      },
      "cell_type": "code",
      "source": "from collections import Iterable, Iterator  # __iter__() iter()\nclass Foo:\n    def __init__(self):  # 使用生成实例调用PYthon 自动传入self\n        self.count = 10\n    \n    def __iter__(self):\n        return self\n    \n    def __next__(self):  # 只要实现了__iter__ and __next__ 就是迭代器， 只实现__iter__ 就是可迭代对象\n        if self.count > 0:\n            self.count -= 1\n            return \"abc\"# 也能返回但是会死循环 通过StopIteration 控制\n        else:\n            print('Iterration end')\n            raise StopIteration\n    \nfoo = Foo()\nprint(type(foo))\nprint(isinstance(foo, Iterable))\nprint(isinstance(foo, Iterator))\nfor f in foo:\n    print(f)",
      "execution_count": null,
      "outputs": []
    },
    {
      "metadata": {
        "trusted": true
      },
      "cell_type": "code",
      "source": "class Range(object):  # 自己实现range()\n    def __init__(self, start, end = None, step = 1):\n        if end is None:\n            self.start = end \n            self.end = 0\n        else:\n            self.start = start\n            selff.end = end\n        self.step = step\n        \n    def __iter__(self):\n        return self \n    \n    def __next__(self):\n        if self.start < self.end:\n            result = self.start     # 处理为零的情况\n            self.start += self.end\n            return result\n        else:\n            raise StopIteration()\nr = Range(1000)\nr.__sizeof__() #内存占用大小",
      "execution_count": null,
      "outputs": []
    },
    {
      "metadata": {
        "trusted": true
      },
      "cell_type": "code",
      "source": "class Fib(object):   # 迭代器实现Fib 数列\n    def __init__(self, prev, curr, count):\n        self.prev = 0\n        self.curr = 1\n        self.count = count\n        \n    def __iter__(self):  # for 语句依赖这句\n        return self\n    \n    def __next__(self):\n        if self.count > 0:\n            self.count -= 1\n            result = self.prev\n            prev, curr = self.curr, self.prev + self.curr\n            return result\n        else:\n            raise StopIteration()",
      "execution_count": null,
      "outputs": []
    },
    {
      "metadata": {
        "trusted": true
      },
      "cell_type": "code",
      "source": "def Fib(count): #生成器实现 Fib 数列\n    prev = 0\n    curr = 1\n    for fib in range(count):\n        yield prev   # 到这里会挂起(sleep)\n        prev, curr = curr, prev + curr\n        \nfor i in Fib(20):\n    print(i)",
      "execution_count": null,
      "outputs": []
    },
    {
      "metadata": {
        "trusted": true
      },
      "cell_type": "code",
      "source": "",
      "execution_count": null,
      "outputs": []
    }
  ],
  "metadata": {
    "kernelspec": {
      "name": "python36",
      "display_name": "Python 3.6",
      "language": "python"
    },
    "language_info": {
      "mimetype": "text/x-python",
      "nbconvert_exporter": "python",
      "name": "python",
      "pygments_lexer": "ipython3",
      "version": "3.6.6",
      "file_extension": ".py",
      "codemirror_mode": {
        "version": 3,
        "name": "ipython"
      }
    }
  },
  "nbformat": 4,
  "nbformat_minor": 2
}