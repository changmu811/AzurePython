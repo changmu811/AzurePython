{
  "cells": [
    {
      "metadata": {
        "trusted": true
      },
      "cell_type": "code",
      "source": "import os\nimport sys\nimport json\nimport pickle\nimport shelve",
      "execution_count": 10,
      "outputs": []
    },
    {
      "metadata": {},
      "cell_type": "markdown",
      "source": "### json module 可以序列化的类型很少（number, string, list, tuple, dict) 集合set不可以\n### pickle 4 start\n### shelve 句柄操作"
    },
    {
      "metadata": {},
      "cell_type": "markdown",
      "source": "### 1: json dumps loads 序列化\n### dumps serialize 把字典的key变成了双引号"
    },
    {
      "metadata": {
        "trusted": true
      },
      "cell_type": "code",
      "source": "dict_citys = {'shanKghai':1000, 'beijing':10001}\ndict_str =  json.dumps(dict_citys)\nprint('----------------serialize---------------------')\nprint(type(dict_str))\nprint(dict_str)\nprint('-------------------deserialize------------------')\nstr_dict = json.loads(dict_str)\nprint(type(str_dict))\nprint(str_dict)",
      "execution_count": 11,
      "outputs": [
        {
          "output_type": "stream",
          "text": "----------------serialize---------------------\n<class 'str'>\n{\"beijing\": 10001, \"shanKghai\": 1000}\n-------------------deserialize------------------\n<class 'dict'>\n{'beijing': 10001, 'shanKghai': 1000}\n",
          "name": "stdout"
        }
      ]
    },
    {
      "metadata": {},
      "cell_type": "markdown",
      "source": "### 2: json dump load deserialize 对文件操作"
    },
    {
      "metadata": {
        "trusted": true
      },
      "cell_type": "code",
      "source": "dict_citys_write_file = {'beijing':1000, 'shanghai':1001}\nwith open('citys', 'w') as  fp:\n    write_dict_file = json.dump(dict_citys_write_file, fp)",
      "execution_count": 12,
      "outputs": []
    },
    {
      "metadata": {
        "trusted": true
      },
      "cell_type": "code",
      "source": "with open('citys', 'r') as fp:\n    read_dict_to_memory = json.load(fp)\n    print(read_dict_to_memory)",
      "execution_count": 13,
      "outputs": [
        {
          "output_type": "stream",
          "text": "{'shanghai': 1001, 'beijing': 1000}\n",
          "name": "stdout"
        }
      ]
    },
    {
      "metadata": {},
      "cell_type": "markdown",
      "source": "### json dump load 一行一行写入文件，一行一行读到内存 (只能使用dumps, loads)"
    },
    {
      "metadata": {
        "trusted": true
      },
      "cell_type": "code",
      "source": "dict_str_list = [{'beijing':1000}, {'shanghai':1001}, {'tianjing':1003}, {'无锡':2000}]\nfp = open('writelinecitys', 'w', encoding = 'utf-8')\nfor line_city in dict_str_list:\n    fp.write(json.dumps(line_city, ensure_ascii=False) + '\\n')\nfp.close()\n",
      "execution_count": 14,
      "outputs": []
    },
    {
      "metadata": {
        "trusted": true
      },
      "cell_type": "code",
      "source": "fp = open('writelinecitys', 'r', encoding = 'utf-8')\nstr_dict_list = []\nfor line in fp:  # file stream obejct also is iterable\n    str_dict_list.append(json.loads(line.strip()))\nfp.close()\nprint(str_dict_list)",
      "execution_count": 15,
      "outputs": [
        {
          "output_type": "stream",
          "text": "[{'beijing': 1000}, {'shanghai': 1001}, {'tianjing': 1003}, {'无锡': 2000}]\n",
          "name": "stdout"
        }
      ]
    },
    {
      "metadata": {},
      "cell_type": "markdown",
      "source": "### pickle learn\n### pickle is dumps loads 使用方法和 json 的dumps loads 相同\n### 不同的是pickle的dumps转换为了bytes类型\n### pickle 使用 dump load 打开文件写入文件必须使用 二进制模式打开(b\n### pickle 可以分步的dump 分步的load,但是  json 模块就不可以"
    },
    {
      "metadata": {
        "trusted": true
      },
      "cell_type": "code",
      "source": "pickle_dict = {'beijing':1000, 'shanghai':1001}\ndict_str_pickle = pickle.dumps(pickle_dict, protocol =  2)\nprint(dict_str_pickle)\nprint(pickle.loads(dict_str_pickle))",
      "execution_count": 16,
      "outputs": [
        {
          "output_type": "stream",
          "text": "b'\\x80\\x02}q\\x00(X\\x08\\x00\\x00\\x00shanghaiq\\x01M\\xe9\\x03X\\x07\\x00\\x00\\x00beijingq\\x02M\\xe8\\x03u.'\n{'shanghai': 1001, 'beijing': 1000}\n",
          "name": "stdout"
        }
      ]
    },
    {
      "metadata": {
        "trusted": true
      },
      "cell_type": "code",
      "source": "import time\n# pickle_dict2 = {'beijing':1000, 'shanghai':1001}\nstruct_time1 = time.localtime(100000000)\nstruct_time2 = time.localtime(200000000)\nwith open('time', 'wb') as fp:\n    pickle.dump(struct_time1, fp)\n    pickle.dump(struct_time2, fp)\n    \nwith open('time', 'rb') as fp:\n    struct_time3 = pickle.load(fp)\n    struct_time4 = pickle.load(fp)\n    print(struct_time3.tm_year)\n    print(struct_time4.tm_year)\n    print(struct_time1.tm_hour)\n    ",
      "execution_count": 17,
      "outputs": [
        {
          "output_type": "stream",
          "text": "1973\n1976\n9\n",
          "name": "stdout"
        }
      ]
    },
    {
      "metadata": {},
      "cell_type": "markdown",
      "source": "### shelve 不同 json pickle \n### shelve 只有open (handle)\n### 不支持多个应用同一时间，向同一个文件中写数据(db)数据库\n### 如果我们知道应用是读操作，我们可以使用shelve只读模式打开文件操作 (flags = 'r') 只读模式打开还是\n### 能操作shelve文件\n### writeback = 'True' 增删改才会起作用 修改能感知到，缺点open（）时增加内存和开销\n### shelve_hanle['keys']['添加的健'] = '添加的值’"
    },
    {
      "metadata": {
        "trusted": true
      },
      "cell_type": "code",
      "source": "shelve_dict = {'beijing':1000, 'shanghai':1001}\nshelve_handle = shelve.open('shelve_file')\nprint(shelve_handle)\nshelve_handle['keys'] = shelve_dict\nshelve_handle.close()\nprint('------------shelve-------------')\nshelve_handle1 = shelve.open('shelve_file')\nreturn_shelve_dict = shelve_handle1['keys']\nprint(return_shelve_dict)\nshelve_handle1.close()\n",
      "execution_count": 18,
      "outputs": [
        {
          "output_type": "stream",
          "text": "<shelve.DbfilenameShelf object at 0x7f63dbfadf98>\n------------shelve-------------\n{'shanghai': 1001, 'beijing': 1000}\n",
          "name": "stdout"
        }
      ]
    },
    {
      "metadata": {
        "trusted": true
      },
      "cell_type": "code",
      "source": "",
      "execution_count": null,
      "outputs": []
    }
  ],
  "metadata": {
    "kernelspec": {
      "name": "python3",
      "display_name": "Python 3",
      "language": "python"
    },
    "language_info": {
      "mimetype": "text/x-python",
      "nbconvert_exporter": "python",
      "name": "python",
      "file_extension": ".py",
      "version": "3.5.4",
      "pygments_lexer": "ipython3",
      "codemirror_mode": {
        "version": 3,
        "name": "ipython"
      }
    }
  },
  "nbformat": 4,
  "nbformat_minor": 4
}