{
  "cells": [
    {
      "metadata": {
        "trusted": true
      },
      "cell_type": "code",
      "source": "import os\nimport sys\n",
      "execution_count": null,
      "outputs": []
    },
    {
      "metadata": {},
      "cell_type": "markdown",
      "source": "### 容器类型\n###  len   contains  getitem  setitem\n"
    },
    {
      "metadata": {
        "trusted": true
      },
      "cell_type": "code",
      "source": "l = [1, 2, 3, 4, 5]\n# 1 in l  #  这个的本质是在类中实现了了 __contains__() 魔法方法\nclass Foo(object):\n    def __init__(self):\n        self.x = 123\n        self.y = 456\n        print('Foo constructor')\n        \n    def __contains__(self, value):\n        return self.x == value or self.y == value\n     \nfoo = Foo() \n123 in foo ",
      "execution_count": null,
      "outputs": []
    },
    {
      "metadata": {},
      "cell_type": "markdown",
      "source": "### 取索引操作 list tuple str bytes set(不支持) dict"
    },
    {
      "metadata": {
        "trusted": true
      },
      "cell_type": "code",
      "source": "# l[0] 本质就是__getitem__()\nl.__getitem__(1)\n# dict 特殊，取的是key\n# list dict 支持修改 所以可以使用__setitem__()",
      "execution_count": null,
      "outputs": []
    },
    {
      "metadata": {},
      "cell_type": "markdown",
      "source": "### contextmanguage  __enter__() __exit__()   with语句"
    },
    {
      "metadata": {
        "trusted": true
      },
      "cell_type": "code",
      "source": "import traceback\n\nerrors = []\nclass myabc(object):\n    def __enter__(self):\n        print('I am enter')\n        return self  #添加了 return self 的效果 = <__main__.myabc object at 0x7faeac44a6a0> 也就是返回对象\n        \n    def close(self):\n        print('context close')\n        \n    def __exit__(self, exc_type, exc_val, exc_tb): #traceback exc_type对应异常类型，exc_value是异常值（ValueError的实例），exc_tb是那个对象发生异常。\n        print('I am exit')\n        print(f'exc_type={exc_type} exc_val={exc_val} exc_tb={exc_tb}')\n        errors.extend([exc_type, exc_val, exc_tb])\n        # self.close()  # 文件操作在这里执行这句  fp.__enter__() fp.__exit__()  fp.closed() 以关闭(文件状态打开关闭)\n        # lck = Lock() 最好用 with Lock() as lck  acquire release\n\n",
      "execution_count": null,
      "outputs": []
    },
    {
      "metadata": {
        "trusted": true
      },
      "cell_type": "code",
      "source": "with myabc() as abc:   # 不要放在一个cell 里。\n    print(abc)\n    raise ValueError('手动抛出异常') # 加了这句__exit__()函数中的三个值以不返回None,而是有内容了。\n\n",
      "execution_count": null,
      "outputs": []
    },
    {
      "metadata": {
        "trusted": true
      },
      "cell_type": "code",
      "source": "a, b, c = errors  # 不要放在一个cell 里。\nprint(a) \nprint(b)\nprint(c)\ntraceback.print_exception?\ntraceback.print_exception(a, b, c)",
      "execution_count": null,
      "outputs": []
    },
    {
      "metadata": {
        "trusted": true
      },
      "cell_type": "code",
      "source": "setattr(abc, 'china', 'I like china')\nprint(abc.china)\nres_str = getattr(abc, \"china\")\nprint(res_str)\nbool_res = hasattr(abc, \"china\")\nprint(bool_res)",
      "execution_count": null,
      "outputs": []
    },
    {
      "metadata": {
        "trusted": true
      },
      "cell_type": "code",
      "source": "abc.city = 'shanghai' # 添加对象属性的本质是调用了类中__setattr__() 我们自己写的类中可以覆盖父类中的。\n# __getattribute__() 比如abc.city(底层操作)  (没有__getattr__()） __dict__()\n\n",
      "execution_count": null,
      "outputs": []
    },
    {
      "metadata": {
        "trusted": true
      },
      "cell_type": "code",
      "source": "class Test:\n    l = [6, 7, 8]\n    \n    def __init__(self):\n        self.mony = 10000\n        self.x = 666\n        self.y = 'china'\n        print('Test constructor')\n        \n    def __setattr__(self, name, value):  # 用于类型检查,判断（监听属性的变化）相当与(HOOK)。\n        if name == 'money' and value < 0:\n            raise ValueError('money: %s < 0 ' % value)\n            \n        print(f'__setattr__ name={name}, value={value}')\n        object.__setattr__(self, name, value)\n    \n    def __getattribute__(self, name):\n        print(f'getattribute name={name}')\n        return object.__getattribute__(self, name)  # 在本机ipython 运行正常，在线不知道为什么错误。(!!!!!!!!!使用 %reset 清空正常)\n    \n    def __getattr__(self, name):\n        '''处理属性和方法不存在时的默认行为'''\n        print(\"__getattr__= %s\" % (name))\n        return -1\n    \n    def __delattr__(self, name):\n        if name == 'age':\n            print('delete...%s' % name)\n            object.__delattr__(self, name)\n    \n    def myadd(self, x, y):\n        return x + y",
      "execution_count": null,
      "outputs": []
    },
    {
      "metadata": {
        "trusted": true
      },
      "cell_type": "code",
      "source": "test = Test() # 调用__init__(self) 打印出来ipy\n",
      "execution_count": null,
      "outputs": []
    },
    {
      "metadata": {
        "trusted": true
      },
      "cell_type": "code",
      "source": "test.x -= 10 # 本质是调用Test类的__setattr__(self)  等价与= test.x = test.x - 10 先取了一次 在赋值 共2次 __getattribute__ __setattr__\n#print(test.__dict__)\ntest.y  # 本质是调用Test类的__getattribute__(self,kyename)\nTest.l # 获取类属性l 也是通过 __getattribute__\ntest.myadd(3, 5) #  调用类的实例属性也调用了 __getattribut__() \n# 所有实例对象点的操作都调用了 __getattribute__()\n# __getattr__() 的触发。\ntest.z # 调用一个不存在的属性触发。__getattr__()  如果类中没是实现魔法方法__getattr__() 就会抛出异常。",
      "execution_count": null,
      "outputs": []
    },
    {
      "metadata": {
        "trusted": true
      },
      "cell_type": "markdown",
      "source": "### 开发中使用__getattr__() 方法，有点向HOOK 钩子。"
    },
    {
      "metadata": {
        "trusted": true
      },
      "cell_type": "code",
      "source": "# 类 __slots__() = [] or () 把类的属性确定下来 属性字典也给删除了 __dict__[] = '123' 也不行了 内存节省，对象内存分配，加快了__new__构造。",
      "execution_count": null,
      "outputs": []
    }
  ],
  "metadata": {
    "kernelspec": {
      "name": "python36",
      "display_name": "Python 3.6",
      "language": "python"
    },
    "language_info": {
      "mimetype": "text/x-python",
      "nbconvert_exporter": "python",
      "name": "python",
      "pygments_lexer": "ipython3",
      "version": "3.6.6",
      "file_extension": ".py",
      "codemirror_mode": {
        "version": 3,
        "name": "ipython"
      }
    }
  },
  "nbformat": 4,
  "nbformat_minor": 2
}