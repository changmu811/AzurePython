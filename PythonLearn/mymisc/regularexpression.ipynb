{
  "cells": [
    {
      "metadata": {
        "collapsed": true
      },
      "cell_type": "markdown",
      "source": "### Regular expression"
    },
    {
      "metadata": {
        "trusted": true
      },
      "cell_type": "code",
      "source": "import os \nimport re ",
      "execution_count": null,
      "outputs": []
    },
    {
      "metadata": {
        "trusted": true
      },
      "cell_type": "code",
      "source": "citys = '北京上海天津'\npattern = re.compile('北京')  # re.match()里面包含了re.compile()\nres_city = pattern.match(citys)\nprint(res_city)",
      "execution_count": null,
      "outputs": []
    },
    {
      "metadata": {
        "trusted": true
      },
      "cell_type": "code",
      "source": "res_city = re.match('北京', citys)  # pattern 正则匹配规则（也成正则表达式）， citys要匹配的字符串  从头开始没有就错误\nprint(res_city)\nprint(res_city.span())\nres = res_city.group() # -> str or tuple\nprint(type(res))\nprint(res)",
      "execution_count": null,
      "outputs": []
    },
    {
      "metadata": {
        "trusted": true
      },
      "cell_type": "code",
      "source": "res_city = re.search('上海', citys)  # 搜索到最后没有才会出错\nprint(res_city)\nprint(res_city.span())\nres = res_city.group() # -> str or tuple\nprint(type(res))\nprint(res)",
      "execution_count": null,
      "outputs": []
    },
    {
      "metadata": {
        "trusted": true
      },
      "cell_type": "code",
      "source": "### 正则符号:\n### '[]'  表示范围\n### 用于表示一组字符，如果^是第一个字符，则表示的是一个补集\n### 比如【0-9】表示所有的数字 [^0-9]表示除了数字外的字符",
      "execution_count": null,
      "outputs": []
    },
    {
      "metadata": {
        "trusted": true
      },
      "cell_type": "code",
      "source": "s = '哈哈3a'\nresult = re.search('[0-9][a-z]', s)  # '[123456]' 匹配数字和字母 如果改成33就不能匹配\nprint(result)",
      "execution_count": null,
      "outputs": []
    },
    {
      "metadata": {
        "trusted": true
      },
      "cell_type": "code",
      "source": "msg = 'abcd7vjkfd8hdf00'\nresult = re.search('[a-z][0-9][a-z]', msg) # 匹配规则 字母 数字 字母\nprint(result)  # re.search()匹配到一个就不进行下去了，剩下的还有也不进行下去了。",
      "execution_count": null,
      "outputs": []
    },
    {
      "metadata": {
        "trusted": true
      },
      "cell_type": "code",
      "source": "msg = 'abcd7vjkfd8hdf00'\nresult = re.findall('[a-z][0-9][a-z]', msg) # 匹配规则 字母 数字 字母 findall()找所有的以列表返回，找到所有的满足条件的匹配。\nprint(result)",
      "execution_count": null,
      "outputs": []
    },
    {
      "metadata": {
        "trusted": true
      },
      "cell_type": "code",
      "source": "### \n'.' 用于匹配除换行符（\\n)之外的所有字符。\n'^'用于匹配字符串的开始，即行首。\n'$' 用于匹配字符串的末尾（末尾如果用换行符\\n,就匹配\\n前面的那个字符）即行尾。",
      "execution_count": null,
      "outputs": []
    },
    {
      "metadata": {
        "trusted": true
      },
      "cell_type": "code",
      "source": "### 定义正则验证次数:\n'*' 用于将前面的模式匹配零次或多次（贪婪模式， 即尽可能多的匹配） >= 0\n'+' 用于将前面的模式匹配一次或多次（贪婪模式） >= 1\n'?' 用于将前面的模式匹配零次或一次（贪婪模式）\n'{m}' 用于将前面的模式匹配m次   固定多少次用{}表示\n'{m,}'用于验证将前面的模式匹配m次或者多次 >= m\n'{m,n}' 用于验证将前面的模式匹配大于等于m次并且小于等于n次\n'*?', +? , ??' 即上面三种特殊字符的非贪婪模式（尽可能少的匹配）。\n'{m, n}' 用于将前面的模式匹配m次到n次（贪婪模式），即最小匹配m次，最大匹配n次\n'{m, n}?' 即上面'{m,n}'的非贪婪版本。\n### a7a  a88a a7878a",
      "execution_count": null,
      "outputs": []
    },
    {
      "metadata": {
        "trusted": true
      },
      "cell_type": "code",
      "source": "msg = 'a7aopa88akigka7878a'\nresult = re.findall('[a-z][0-9]+[a-z]', msg)  # 跟在[0-9]之后的+ 表示和0-9有关(>= 1)\nprint(result) ",
      "execution_count": null,
      "outputs": []
    },
    {
      "metadata": {},
      "cell_type": "markdown",
      "source": "### QQ 号码验证 5~11 首不能为零"
    },
    {
      "metadata": {
        "trusted": true
      },
      "cell_type": "code",
      "source": "qq = '45743759066'\n# res = re.match('[1-9][0-9]{4}', qq) # [1-9]以占一位 所以有后面{4}位。\nres = re.match('^[1-9][0-9]{4,10}$', qq) # 从头到尾匹配\nprint(res)\n",
      "execution_count": null,
      "outputs": []
    },
    {
      "metadata": {},
      "cell_type": "markdown",
      "source": "###\n\\A: 表示从字符串的开始处匹配 \n\\Z: 表示从字符串的结束出匹配，如果存在换行，只匹配换行前的结束字符串。\n\\b: 匹配一个单词边界，也就是指单词和空格间的位置。例如，'py\\b'可以匹配\"python\"中的'py',但不能匹配\"openpyx1\"中的'py'\n\\B 匹配非单词边界，'py\\b'可以匹配\"openpyxl\"中的'py',单不能匹配\"python\"中的'py'.\n\\d 匹配任意数字，等价于[0-9].   digit\n\\D 匹配任意非数字字符，等价于[^\\d].  这个符号（^) 出现在[]中表示取非。  not digit   \n\\s: 匹配任意空白字符，等价于[\\t\\n\\r\\f].\n\\S: 匹配任意非空白字符，等价于[^\\s].\n\\w: 匹配任意字母数字及下滑线，等价于[a-zA-Z0-9].\n\\W: 匹配任意非z字母数字及下滑线，等价于[^\\w].\n\\\\: 匹配原义的反斜杠。"
    },
    {
      "metadata": {
        "trusted": true
      },
      "cell_type": "code",
      "source": "# 用户可以是字母数字或下滑线\nusername = 'admin001'  #验证整体匹配\n# result = re.match('[a-zA-Z][0-9a-zA-Z]{5,}$', username)\n#result = re.match('^[a-zA-Z][0-9a-zA-Z]{5,}$', username)\nresult = re.match('^[a-zA-Z]\\w{5,}$', username)\nprint(result)",
      "execution_count": null,
      "outputs": []
    },
    {
      "metadata": {
        "trusted": true
      },
      "cell_type": "code",
      "source": "import re \nmsg = 'a*a.py ab.txt bb.py kk.png uu.py'  #空白就是边界。\n# result = re.findall('py\\\\b', msg)   #正则中的\\b  要写成\\\\b r'\\b'也行。\nresult = re.findall('\\w*\\.py\\\\b', msg) #限制位。转移成字符串的点 3.6加r不能限制转义符。\nprint(result)",
      "execution_count": null,
      "outputs": []
    },
    {
      "metadata": {
        "trusted": true
      },
      "cell_type": "code",
      "source": "%reset",
      "execution_count": 119,
      "outputs": [
        {
          "output_type": "stream",
          "name": "stdout",
          "text": "Once deleted, variables cannot be recovered. Proceed (y/[n])? y\n"
        }
      ]
    },
    {
      "metadata": {},
      "cell_type": "markdown",
      "source": "#####\n总结：\n. 任意字符除(\\n)\n^ 开头\n$ 结尾\n【】 范围 【abc】 [a-z] [a-z*&$] 或者的意思 * & $\n\n正则预定义：\n\\s 空白 （空格）\n\\b 边界\n\\d 数字\n\\w word [0-9a-zA-Z]\n大写反面 \\S 非空格 \\D 非数字\n'\\w [0-9]' -> 一个匹配 \\w 只能匹配一个字母\n量词:\n* >= 0\n+ >= 1\n? 0, 1\n手机号码的正则\nre.match('1[35789]\\d{9}$', phone) # 卡死9位\n{m} 表示范围\n{m, } >= m\n{m,n} phone >= m phone <= n"
    },
    {
      "metadata": {
        "trusted": true
      },
      "cell_type": "code",
      "source": "import re\n# 分组:\n# 匹配数字  0 -> 100\nn = '100' #就是一位 \n#res = re.match('[1-9]?\\d', n)\nres = re.match(r'[1-9]?\\d?$|100$', n) # 改进版  加符号 或者( | )\nprint(res)",
      "execution_count": null,
      "outputs": []
    },
    {
      "metadata": {
        "trusted": true
      },
      "cell_type": "code",
      "source": "import re   #  ?贪婪\n# mail 163 126 qq\nemail = '738473800@qq.com'\nres = re.match(r'\\w{5,20}@(163|126|qq)\\.(com|cn)$', email)  # (整体的或者)    [单个字母的或者]\nprint(res)",
      "execution_count": null,
      "outputs": []
    },
    {
      "metadata": {
        "trusted": true
      },
      "cell_type": "code",
      "source": "# 不是以4 ，7结尾的手机号码（11位）\nphone = '15901018869'\nres = re.match('1\\d{9}[0-35-689]$', phone)\nprint(res)",
      "execution_count": 109,
      "outputs": [
        {
          "output_type": "stream",
          "text": "<_sre.SRE_Match object; span=(0, 11), match='15901018869'>\n",
          "name": "stdout"
        }
      ]
    },
    {
      "metadata": {
        "trusted": true
      },
      "cell_type": "code",
      "source": "# 爬虫\nphone = '010-12345678'\nres = re.match(r'(\\d{3}|\\d{4})-(\\d{8})$', phone)\nprint(res)\n# 分别提取  ()表示分组    group(1) 第一组 group(2) 第二组\nprint(res.group())\nprint(res.group(1))\nprint(res.group(2))",
      "execution_count": 128,
      "outputs": [
        {
          "output_type": "stream",
          "text": "<_sre.SRE_Match object; span=(0, 12), match='010-12345678'>\n010-12345678\n010\n12345678\n",
          "name": "stdout"
        }
      ]
    },
    {
      "metadata": {
        "trusted": true
      },
      "cell_type": "code",
      "source": "# 爬虫 \n#%reset\nimport re\nmsg = '<html>abc</html>'\nmsg1 = '<h1>hello</h1>'\nres  = re.match(r'<[0-9a-zA-Z]+>(.+)</[0-9a-zA-Z]+>$',msg)\nprint(res)\nprint(res.group(1))",
      "execution_count": 139,
      "outputs": [
        {
          "output_type": "stream",
          "text": "<_sre.SRE_Match object; span=(0, 16), match='<html>abc</html>'>\nabc\n",
          "name": "stdout"
        }
      ]
    },
    {
      "metadata": {
        "trusted": true
      },
      "cell_type": "code",
      "source": "import re\nmsg = '<html><h1>abc<h1></html>'\nmsg1 = '<h1>hello</h1>'\nres  = re.match(r'<[0-9a-zA-Z]+>(.+)</[0-9a-zA-Z]+>',msg) # 去掉$ 也能匹配到 （贪婪模式）\nprint(res)\nprint(res.group(1))",
      "execution_count": 140,
      "outputs": [
        {
          "output_type": "stream",
          "text": "<_sre.SRE_Match object; span=(0, 24), match='<html><h1>abc<h1></html>'>\n<h1>abc<h1>\n",
          "name": "stdout"
        }
      ]
    },
    {
      "metadata": {
        "trusted": true
      },
      "cell_type": "code",
      "source": "# number 多的情况会乱\nimport re\nmsg = '<html><h1>abc<h1>'\nmsg1 = '<h1>hello</h1>'\nmsg1 = '<h1>hello</h1>'\nres  = re.match(r'<([0-9a-zA-Z]+)>(.+)</\\1>$',msg1) #  <\\/1> 数字1 第一组匹配 引用第一组，第一组拿到这里来\nprint(res)\nprint(res.group(1))\nprint(res.group(2))",
      "execution_count": 146,
      "outputs": [
        {
          "output_type": "stream",
          "text": "<_sre.SRE_Match object; span=(0, 14), match='<h1>hello</h1>'>\nh1\nhello\n",
          "name": "stdout"
        }
      ]
    },
    {
      "metadata": {
        "trusted": true
      },
      "cell_type": "code",
      "source": "import re #分组引用\nmsg = '<html><h1>abc</h1></html>'\nres  = re.match(r'<([0-9a-zA-Z]+)><([0-9a-zA-Z]+)>(.+)</\\2></\\1>$',msg)\nprint(res)\nprint(res.group(1))\nprint(res.group(2))\nprint(res.group(3))",
      "execution_count": 152,
      "outputs": [
        {
          "output_type": "stream",
          "text": "<_sre.SRE_Match object; span=(0, 25), match='<html><h1>abc</h1></html>'>\nhtml\nh1\nabc\n",
          "name": "stdout"
        }
      ]
    },
    {
      "metadata": {
        "trusted": true
      },
      "cell_type": "code",
      "source": "# 起名的方式  (?P<名字>正则） (?P=名字)\nimport re #分组引用\nmsg = '<html><h1>abc</h1></html>'\nres  = re.match(r'<(?P<name1>\\w+)><(?P<name2>\\w+)>(.+)</(?P=name2)></(?P=name1)>',msg) # () 分组\nprint(res)\nprint(res.group(1))\nprint(res.group(2))\nprint(res.group(3))",
      "execution_count": 153,
      "outputs": [
        {
          "output_type": "stream",
          "text": "<_sre.SRE_Match object; span=(0, 25), match='<html><h1>abc</h1></html>'>\nhtml\nh1\nabc\n",
          "name": "stdout"
        }
      ]
    },
    {
      "metadata": {},
      "cell_type": "markdown",
      "source": "# 总结:\n# 分组 涉及到分阻就用()\n# 不需要引用分组内容\n# 标签前后一致 分组匹配 :\n1 number   引用第number组的内容  \n2 ?P<名字>\n\n# re 模块  方法\nmatch\nsearch\nfindall\nsub  替换"
    },
    {
      "metadata": {
        "trusted": true
      },
      "cell_type": "code",
      "source": "import re \nres = re.sub(r'\\d+', '99', 'java:99,python:100') #  正则表达是，新内容  旧的内容 -> 替换结果\nprint(res)",
      "execution_count": 154,
      "outputs": [
        {
          "output_type": "stream",
          "text": "java:99,python:99\n",
          "name": "stdout"
        }
      ]
    },
    {
      "metadata": {
        "trusted": true
      },
      "cell_type": "code",
      "source": "def func(temp): \n    num = temp.group()\n    num1 = int(num)+1\n    return str(num1)\n\nimport re \nres = re.sub(r'\\d+', func, 'java:99,python:100') #  正则表达是，新内容  旧的内容 -> 替换结果\nprint(res)",
      "execution_count": 155,
      "outputs": [
        {
          "output_type": "stream",
          "text": "java:100,python:101\n",
          "name": "stdout"
        }
      ]
    },
    {
      "metadata": {
        "trusted": true
      },
      "cell_type": "code",
      "source": "import re \nres = re.split(r'[,:]', 'java:99,python:95') # r''就是拿什么去切割 -> to list table in\nprint(res)",
      "execution_count": 156,
      "outputs": [
        {
          "output_type": "stream",
          "text": "['java', '99', 'python', '95']\n",
          "name": "stdout"
        }
      ]
    },
    {
      "metadata": {},
      "cell_type": "markdown",
      "source": "### Python 里数量词默认是贪婪的(在少数语言里也可能是默认非贪婪），总是尝试匹配尽可能多的字符：\n### 非贪婪则相反，总是尝试匹配尽可能少的字符。\n### 在 \"*\" , \"?\", \"+\", \"{m,n} 后面加上？， 是贪婪变成非贪婪。\n### 基础：\n### . 任意字符\n### [] 范围\n### | 或者\n### () 一组\n### 量词:\n### * >= 0\n### + >= 1\n### ? 0, 1 \n### {m} = m\n### {m,} >=m\n### {m,n} >=m <=n\n\n### 预定义： \n### \\s space \n### \\S not space \n### \\d digit\n### \\D not digit\n### \\w  word [0-9a-zA-z]\n### \\W not word [^0-9a-zA-Z]\n###  \\b \n\n### 分组:\n### () --> group(1)  返回None 问题抛异常\n\n### number:\n###     (\\w+)(\\d*)  ---> group(1) group(2)\n   ###  引用：\n   ###  (\\w+)(\\d*)  (\\1 \\2  表示引用前面的内容)\n\n### name:\n### (?P<name>\\w+)  --> (?P=name)"
    },
    {
      "metadata": {
        "trusted": true
      },
      "cell_type": "code",
      "source": "### 贪婪学习\nimport re \nmsg = 'abc123abc'\nres = re.match(r'abc(\\d+)', msg)  # 这时贪婪 + 会继续向后匹配 默认贪婪\nprint(res)",
      "execution_count": 158,
      "outputs": [
        {
          "output_type": "stream",
          "text": "<_sre.SRE_Match object; span=(0, 4), match='abc1'>\n",
          "name": "stdout"
        }
      ]
    },
    {
      "metadata": {
        "trusted": true
      },
      "cell_type": "code",
      "source": "import re \nmsg = 'abc123abc'\nres = re.match(r'abc(\\d+?)', msg)  # 这时非贪婪 在量词后加？改变贪婪模式\nprint(res)",
      "execution_count": 159,
      "outputs": [
        {
          "output_type": "stream",
          "text": "<_sre.SRE_Match object; span=(0, 4), match='abc1'>\n",
          "name": "stdout"
        }
      ]
    },
    {
      "metadata": {
        "trusted": true
      },
      "cell_type": "code",
      "source": "# 百度趴图片\nimport re \npath1 = '<img class=\"card_head_img\" id=\"forum-card-head\" src=\"https://gss3.bdstatic.com/84oSdTum2Q5BphGlnYG/timg?wapp&amp;quality=80&amp;size=b150_150&amp;subsize=20480&amp;cut_x=0&amp;cut_w=0&amp;cut_y=0&amp;cut_h=0&amp;sec=1369815402&amp;srctrace&amp;di=fb183212f7df7810b417af651aa54858&amp;wh_rate=null&amp;src=http%3A%2F%2Fimgsrc.baidu.com%2Fforum%2Fpic%2Fitem%2Fadaf2edda3cc7cd9b53333ac3601213fb80e91ac.jpg\">'\nres = re.match(r'<img class=\"card_head_img\" id=\"forum-card-head\" src=\"(.*?)\"',path1)\nprint(res)\nimage_path= res.group(1)\nprint(image_path)",
      "execution_count": 175,
      "outputs": [
        {
          "output_type": "stream",
          "text": "<_sre.SRE_Match object; span=(0, 403), match='<img class=\"card_head_img\" id=\"forum-card-head\" s>\nhttps://gss3.bdstatic.com/84oSdTum2Q5BphGlnYG/timg?wapp&amp;quality=80&amp;size=b150_150&amp;subsize=20480&amp;cut_x=0&amp;cut_w=0&amp;cut_y=0&amp;cut_h=0&amp;sec=1369815402&amp;srctrace&amp;di=fb183212f7df7810b417af651aa54858&amp;wh_rate=null&amp;src=http%3A%2F%2Fimgsrc.baidu.com%2Fforum%2Fpic%2Fitem%2Fadaf2edda3cc7cd9b53333ac3601213fb80e91ac.jpg\n",
          "name": "stdout"
        }
      ]
    },
    {
      "metadata": {
        "trusted": true
      },
      "cell_type": "code",
      "source": "import requests\nrespone = requests.get(image_path)\nrespone.text\n\nwith open ('aa.jpg', 'wb') as fp:\n    fp.write(respone.content)  # 注意查看官方文档 这里要用content\n    ",
      "execution_count": 182,
      "outputs": []
    },
    {
      "metadata": {
        "trusted": true
      },
      "cell_type": "code",
      "source": "",
      "execution_count": null,
      "outputs": []
    }
  ],
  "metadata": {
    "kernelspec": {
      "name": "python36",
      "display_name": "Python 3.6",
      "language": "python"
    },
    "language_info": {
      "mimetype": "text/x-python",
      "nbconvert_exporter": "python",
      "name": "python",
      "pygments_lexer": "ipython3",
      "version": "3.6.6",
      "file_extension": ".py",
      "codemirror_mode": {
        "version": 3,
        "name": "ipython"
      }
    }
  },
  "nbformat": 4,
  "nbformat_minor": 2
}