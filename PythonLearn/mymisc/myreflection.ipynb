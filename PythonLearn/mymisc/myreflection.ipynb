{
  "metadata": {
    "kernelspec": {
      "name": "python3",
      "display_name": "Python 3",
      "language": "python"
    },
    "language_info": {
      "mimetype": "text/x-python",
      "nbconvert_exporter": "python",
      "name": "python",
      "pygments_lexer": "ipython3",
      "version": "3.5.4",
      "file_extension": ".py",
      "codemirror_mode": {
        "version": 3,
        "name": "ipython"
      }
    }
  },
  "nbformat_minor": 4,
  "nbformat": 4,
  "cells": [
    {
      "cell_type": "code",
      "source": "import os\nimport sys",
      "metadata": {
        "trusted": true
      },
      "execution_count": 2,
      "outputs": []
    },
    {
      "cell_type": "code",
      "source": "# sys.modules  current import is modules",
      "metadata": {
        "trusted": true
      },
      "execution_count": null,
      "outputs": []
    },
    {
      "cell_type": "markdown",
      "source": "### 给定字符串类型的变量名，操作变量的值,叫反射，五星知识点。(reflection).\n### sys.modules[__name__] 如果是本模块(__name__ == '__main__') 否责导入其它模块(__name__ == '导入模块名')\n### 反射广泛用于网络编程。",
      "metadata": {}
    },
    {
      "cell_type": "code",
      "source": "class Bar(object):\n    \n    city_name = 'wuhan'\n    \n    def __init__(self):\n        print('Constructor Bar()')\n        \n    @classmethod\n    def func(cls):\n        print('func(cls)')\n        \n    def age(self):\n        print('instance method age()')\n\nbar = Bar()\ninstance_object_attribute = input('Please input class attribute name:= ')\nif hasattr(Bar, instance_object_attribute):\n    print(getattr(Bar, instance_object_attribute))\nelse:\n    print('Do not is attribute name')\nprint(sys.modules[__name__])",
      "metadata": {
        "trusted": true
      },
      "execution_count": null,
      "outputs": []
    },
    {
      "cell_type": "markdown",
      "source": "### 当前文件（Python 叫当前模块） 反射的使用",
      "metadata": {}
    },
    {
      "cell_type": "code",
      "source": "str_city = 'shanghai'\nprint(type(sys.modules))\nret_str_city = getattr(sys.modules[__name__], 'str_city')\nprint(ret_str_city)\n",
      "metadata": {
        "trusted": true
      },
      "execution_count": 3,
      "outputs": [
        {
          "text": "<class 'dict'>\nshanghai\n",
          "name": "stdout",
          "output_type": "stream"
        }
      ]
    }
  ]
}