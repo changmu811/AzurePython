{
  "cells": [
    {
      "metadata": {
        "trusted": true
      },
      "cell_type": "code",
      "source": "import urllib\nimport json",
      "execution_count": null,
      "outputs": []
    },
    {
      "metadata": {
        "trusted": true
      },
      "cell_type": "code",
      "source": "# https://httpbin.org",
      "execution_count": null,
      "outputs": []
    },
    {
      "metadata": {
        "trusted": true,
        "scrolled": true
      },
      "cell_type": "code",
      "source": "res = urllib.request.urlopen('https://httpbin.org/get')\njson_loads = json.loads(res.read())\nprint(type(json_loads))\nfor k, v in json_loads.items():\n    print(k, v)\n# print(res.read().decode('utf-8'))\nprint(res.status)\nprint(res.reason)\nprint(res.headers)\nprint(res.headers.get_content_type)\nprint(res.headers.keys())\nres.headers.get_all('Server')\nprint(dict(res.headers._headers))",
      "execution_count": null,
      "outputs": []
    },
    {
      "metadata": {
        "trusted": true
      },
      "cell_type": "code",
      "source": "res2 = urllib.request.urlopen('https://httpbin.org/get')  # 注意 /get 得到的才是json\ntext = res2.read()\n# print(text.decode('utf-8'))\njson_obj = json.loads(text.decode('utf-8'))\nprint(json_obj)\nprint('--' * 60)\nfor k, v in res2.headers._headers:\n    print('%s %s' % (k, v))\n# 添加自定义的headers information\nua = 'User-Agent: Mozilla/5.0 (Windows NT 10.0; ) AppleWebKit/537.36 (KHTML, like Gecko) Chrome/81.0.4044.138 Safari/537.36 Edg/81.0.416.72'\nreq = urllib.request.Request('https://httpbin.org/user-agent')\nreq.add_header('User-Agent', ua)\nr = urllib.request.urlopen(req)\nresp = json.load(r)\nprint('user-agent:', resp[\"user-agent\"])\n",
      "execution_count": null,
      "outputs": []
    },
    {
      "metadata": {
        "trusted": true
      },
      "cell_type": "code",
      "source": "auth_handler = urllib.request.HTTPBasicAuthHandler()\nauth_handler.add_password(realm='httpbin auth',uri='/basic-auth/guye/123456', user='guye',passwd='123456')\nopener = urllib.request.build_opener(auth_handler)\nurllib.request.install_opener(opener)\nr3 = urllib.request.urlopen('http://httpbin.org')\nprint(r3.read().decode('utf-8'))",
      "execution_count": null,
      "outputs": []
    },
    {
      "metadata": {
        "trusted": true
      },
      "cell_type": "code",
      "source": "params = urllib.parse.urlencode({'spam':1, 'eggs':2, 'bacon':2})  # GET\nurl = 'http://httpbin.org/get?%s' % params\nwith urllib.request.urlopen(url) as f: \n    print(json.load(f))",
      "execution_count": null,
      "outputs": []
    },
    {
      "metadata": {
        "trusted": true
      },
      "cell_type": "code",
      "source": "data = urllib.parse.urlencode({'name':'xiaoming', 'age': 2}) # POST\ndata = data.encode()\nwith urllib.request.urlopen('http://httpbin.org/post', data) as f: \n    print(json.load(f))",
      "execution_count": null,
      "outputs": []
    },
    {
      "metadata": {
        "trusted": true
      },
      "cell_type": "code",
      "source": "# 使用代理ip 请求远程url\n# proxy_handler = urllib.request.ProxyHandler({'http':'http://iguye.com:41801'})\n# # proxy_auth_handler = urllib.request.ProxyBasicAuthHandler()\n# opener = urllib.request.build_opener(proxy_handler)\n# r = opener.open('http://httpbin.org/ip')\n# print(r.read())",
      "execution_count": null,
      "outputs": []
    },
    {
      "metadata": {
        "trusted": true
      },
      "cell_type": "code",
      "source": "# urlparse modules\nobj = urllib.parse.urlparse('http://httpbin.org/get')\nprint(obj.path)\nprint(obj.port)",
      "execution_count": 105,
      "outputs": [
        {
          "output_type": "stream",
          "text": "/get\nNone\n",
          "name": "stdout"
        }
      ]
    },
    {
      "metadata": {
        "trusted": true
      },
      "cell_type": "code",
      "source": "",
      "execution_count": null,
      "outputs": []
    }
  ],
  "metadata": {
    "kernelspec": {
      "name": "python36",
      "display_name": "Python 3.6",
      "language": "python"
    }
  },
  "nbformat": 4,
  "nbformat_minor": 2
}