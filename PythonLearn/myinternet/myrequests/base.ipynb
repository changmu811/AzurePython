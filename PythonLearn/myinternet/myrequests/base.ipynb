{
  "cells": [
    {
      "metadata": {
        "trusted": true
      },
      "cell_type": "code",
      "source": "import os\nimport requests",
      "execution_count": null,
      "outputs": []
    },
    {
      "metadata": {
        "trusted": true
      },
      "cell_type": "code",
      "source": "response = requests.get('http://httpbin.org/get')  # http://httpbin.org\nprint(f'status_code:={response.status_code} reason:={response.reason}')\nprint(type(response))\n#print(response.text)\n#print(response.json())\n#print(response.content) # return bytes -> decode(encoding='utf-8')\ndecode_content = response.content.decode(encoding='utf-8')\nprint(decode_content)\nprint(requests.head('http://httpbin.org/get'))",
      "execution_count": null,
      "outputs": []
    },
    {
      "metadata": {},
      "cell_type": "markdown",
      "source": "### 带参数的get"
    },
    {
      "metadata": {
        "trusted": true
      },
      "cell_type": "code",
      "source": "response = requests.get('http://httpbin.org/get', params={'a': 1, 'b': 2})\nprint(response.json())",
      "execution_count": null,
      "outputs": []
    },
    {
      "metadata": {
        "trusted": true
      },
      "cell_type": "code",
      "source": "response = requests.post('http://httpbin.org/post', data={'a': '1'})  # post\nprint(response.json()) # if return is json format call xxx.json() 是不是很方便",
      "execution_count": null,
      "outputs": []
    },
    {
      "metadata": {},
      "cell_type": "markdown",
      "source": "### 自定义headers requests"
    },
    {
      "metadata": {
        "trusted": true
      },
      "cell_type": "code",
      "source": "ua = 'Mozilla/5.0 (Linux; Android 6.0; Nexus 5 Build/MRA58N) AppleWebKit/537.36\\\n    (KHTML, like Gecko) Chrome/79.0.3945.79\\\n    Mobile Safari/537.36'\nheaders = {'User-Agent': ua}\nresponse = requests.get('http://httpbin.org/headers', headers=headers)\nprint(response.json())",
      "execution_count": null,
      "outputs": []
    },
    {
      "metadata": {},
      "cell_type": "markdown",
      "source": "### 带cookies的请求"
    },
    {
      "metadata": {
        "trusted": true
      },
      "cell_type": "code",
      "source": "cookies = dict(userid='123456', token='xxxxxxxxxxxxxxx')\nresponse = requests.get('http://httpbin.org/cookies', cookies=cookies)\nprint(response.json())",
      "execution_count": null,
      "outputs": []
    },
    {
      "metadata": {},
      "cell_type": "markdown",
      "source": "### Basic-auth 认证请求"
    },
    {
      "metadata": {
        "trusted": true
      },
      "cell_type": "code",
      "source": "response = requests.get('http://httpbin.org/basic-auth/changmu/123456', auth=('changmu', '123456'))\nprint(response.json())",
      "execution_count": null,
      "outputs": []
    },
    {
      "metadata": {},
      "cell_type": "markdown",
      "source": "### returyn status  curl -I http://httpbin.org/status/404     curl -I http://httpbin.org/status/[400-404]  400 客户端错误"
    },
    {
      "metadata": {
        "trusted": true
      },
      "cell_type": "code",
      "source": "bad_status = requests.get('http://httpbin.org/status/404')\nprint(bad_status.status_code)  \n# bad_status.raise_for_status  # 手动抛出异常  主动抛出状态码异常 这句不注释影响下面 （requests 使用代理） 永远抛出异常",
      "execution_count": null,
      "outputs": []
    },
    {
      "metadata": {},
      "cell_type": "markdown",
      "source": "### Session 就是cookies 同一个人的请求   curl 简单的客户端，没有浏览器往本地写cookies的功能\n### curl http://httpbin.org/cookies/set/name/changmmu\n### curl -I http://httpbin.org/cookies/set/name/changmmu\n### curl http://httpbin.org/cookies 在去请求并没有cookies信息"
    },
    {
      "metadata": {
        "trusted": true
      },
      "cell_type": "code",
      "source": "# requests.Session 有保存cookies的功能\n# 创建Session 对象\nsession = requests.Session()\n# Session 返回对象会保存服务器返回的set-cookies头信息里面的内容\nsession.get('http://httpbin.org/cookies/set/userid/123456789')\nsession.get('http://httpbin.org/cookies/set/token/xxxxxxxxxxx')\n# 下一次请求会将本地保存的所有cookies信息自动添加到请求头信息里面\nres = session.get('http://httpbin.org/cookies')\nprint(res.json())",
      "execution_count": null,
      "outputs": []
    },
    {
      "metadata": {},
      "cell_type": "markdown",
      "source": "### requests 使用代理"
    },
    {
      "metadata": {
        "trusted": true
      },
      "cell_type": "code",
      "source": "print('不使用代理', requests.get('http://httpbin.org/ip').json())\n# print('使用代理', requests.get('http://httpbin.org/ip', proxies = {'http': 'http://iguye.com:41801'}).json())\n",
      "execution_count": null,
      "outputs": []
    },
    {
      "metadata": {
        "trusted": true
      },
      "cell_type": "code",
      "source": "res = requests.get('http://httpbin.org/delay/4', timeout=5)   # http://httpbin.org/delay\nprint(res.text)",
      "execution_count": null,
      "outputs": []
    },
    {
      "metadata": {},
      "cell_type": "markdown",
      "source": "### 腾讯 阿里 代理安装\n\n1: apt\n2: centos      yum install tinyproxy\nvim/etc/tinyproxy/tinyproxy.conf\n210  注释这行 alone  127.0.0.1\n23 port 41801 改的很大\nsystemctl restart tinyproxy\n\ntail -f /var/log/tinyproxy/tinyproxy.log\n\n本地控制台：\nexport HTTP_PROXY=http://140.143.191.23:4180\n# https://blog.csdn.net/iShooting"
    },
    {
      "metadata": {
        "trusted": true
      },
      "cell_type": "code",
      "source": "from lxml import etree",
      "execution_count": null,
      "outputs": []
    },
    {
      "metadata": {
        "trusted": true
      },
      "cell_type": "code",
      "source": "#-*- coding: UTF-8 -*-\n \nfrom lxml import etree  # 重要 *****\n \nsource = u'''\n<div><p class=\"p1\" data-a=\"1\">测试数据1</p>\n<p class=\"p1\" data-a=\"2\">测试数据2</p>\n<p class=\"p1\" data-a=\"3\" style=\"height:100px;\">\n<strong class=\"s\">测试数据3</strong></p>\n<p class=\"p1\" data-a=\"4\" width=\"200\"><img src=\"1.jpg\" class=\"img\"/><br/>\n图片</p>\n'''\n \n# 从字符串解析\npage = etree.HTML(source)\n \n# 元素列表\nps = page.xpath(\"//p\")\nfor p in ps:\n  print (u\"属性：%s\" % p.attrib)\n  print (u\"文本：%s\" % p.text)\n \n# 文本列表\nts = page.xpath(\"//p/text()\")\nfor t in ts:\n  print (t)\n \n# xpath定位 \nls = page.xpath('//p[@class=\"p1\"][last()]/img')\nfor l in ls:\n  print (l.attrib)\n",
      "execution_count": null,
      "outputs": []
    },
    {
      "metadata": {
        "trusted": true
      },
      "cell_type": "code",
      "source": "import bs4   \n# https://www.crummy.com/software/BeautifulSoup/",
      "execution_count": null,
      "outputs": []
    },
    {
      "metadata": {
        "trusted": true
      },
      "cell_type": "code",
      "source": "html_doc = \"\"\"\n<html><head><title>The Dormouse's story</title></head>\n<body>\n<p class=\"title\"><b>The Dormouse's story</b></p>\n\n<p class=\"story\">Once upon a time there were three little sisters; and their names were\n<a href=\"http://example.com/elsie\" class=\"sister\" id=\"link1\">Elsie</a>,\n<a href=\"http://example.com/lacie\" class=\"sister\" id=\"link2\">Lacie</a> and\n<a href=\"http://example.com/tillie\" class=\"sister\" id=\"link3\">Tillie</a>;\nand they lived at the bottom of a well.</p>\n\n<p class=\"story\">...</p>\n\"\"\"\nsoup = bs4.BeautifulSoup(html_doc)\nprint(soup.prettify())",
      "execution_count": null,
      "outputs": []
    },
    {
      "metadata": {
        "trusted": true
      },
      "cell_type": "code",
      "source": "print(soup.title) # return --> <class 'bs4.element.Tag'>\nprint(soup.title.name)\nprint(soup.title.text)\nprint(soup.title.contents)\nprint(soup.title.string)\nprint(type(soup.p))\nprint(soup.p)\nprint(soup.p['class'])\nprint(soup.a)\nprint('-' * 60)\nprint(soup.find_all('a'))\nprint('*' * 60)\nfor ta in soup.find_all('a'):\n    print(ta)\nprint('*' * 60)\nsoup.find(id=\"link3\")\nprint('*' * 60)\nfor link in soup.find_all('a'):\n    print(link.get('href')) # return type --> <class str>",
      "execution_count": null,
      "outputs": []
    },
    {
      "metadata": {
        "trusted": true
      },
      "cell_type": "code",
      "source": "print(soup.get_text())",
      "execution_count": null,
      "outputs": []
    },
    {
      "metadata": {
        "trusted": true
      },
      "cell_type": "code",
      "source": "print(soup.a.attrs) # a is full attributes as dict\nprint(soup.a.attrs['id'])\nprint(soup.a.attrs['href'])\nprint(soup.a.has_attr('class'))  # 判断是否存在",
      "execution_count": null,
      "outputs": []
    },
    {
      "metadata": {
        "trusted": true
      },
      "cell_type": "code",
      "source": "print(list(soup.p.children)[0].text)\n",
      "execution_count": null,
      "outputs": []
    },
    {
      "metadata": {
        "trusted": true
      },
      "cell_type": "code",
      "source": "for linka in soup.find_all('a'):\n    # print(type(linka))  --> <class 'bs4.element.Tag'>\n    print(linka.attrs['href'])",
      "execution_count": null,
      "outputs": []
    },
    {
      "metadata": {
        "trusted": true
      },
      "cell_type": "code",
      "source": "soup.find(id='link3')",
      "execution_count": null,
      "outputs": []
    },
    {
      "metadata": {
        "trusted": true
      },
      "cell_type": "code",
      "source": "soup.get_text(separator='*') # 提取所有文档",
      "execution_count": null,
      "outputs": []
    },
    {
      "metadata": {
        "trusted": true
      },
      "cell_type": "code",
      "source": "print(soup.find(_class='story'))",
      "execution_count": null,
      "outputs": []
    },
    {
      "metadata": {
        "trusted": true
      },
      "cell_type": "code",
      "source": "soup.select('.story') # . 表示类 (css 语法)  支持css选择器",
      "execution_count": null,
      "outputs": []
    },
    {
      "metadata": {
        "trusted": true
      },
      "cell_type": "code",
      "source": "soup.select('#link1') #  (css) # 表示 id",
      "execution_count": null,
      "outputs": []
    },
    {
      "metadata": {
        "trusted": true
      },
      "cell_type": "code",
      "source": "soup.select('.story a') # 加 a 表示取story 下的所有 a TAG",
      "execution_count": null,
      "outputs": []
    },
    {
      "metadata": {
        "trusted": true
      },
      "cell_type": "code",
      "source": "soup.select('p.story')",
      "execution_count": null,
      "outputs": []
    },
    {
      "metadata": {},
      "cell_type": "markdown",
      "source": "# LXML"
    },
    {
      "metadata": {
        "trusted": true
      },
      "cell_type": "code",
      "source": "soup_lxml = bs4.BeautifulSoup(html_doc, 'lxml')\nprint(soup_lxml.a)",
      "execution_count": null,
      "outputs": []
    },
    {
      "metadata": {
        "trusted": true
      },
      "cell_type": "code",
      "source": "selector = etree.HTML(html_doc) \nlinks = selector.xpath('//p[@class=\"story\"]/a/@href') # 去除页面内所有连接\nfor link in links:\n    print(link)",
      "execution_count": null,
      "outputs": []
    },
    {
      "metadata": {},
      "cell_type": "markdown",
      "source": "# xpath 语法\n    nodename              选取此节点的所有子节点\n    //                  任意子节点中选取  一个/是根节点选取\n    .                  选取当前节点\n    ..                 选取当前节点的父节点\n    @                  选取属性"
    },
    {
      "metadata": {
        "trusted": true
      },
      "cell_type": "code",
      "source": "r = requests.get('http://iguye.com/books.xml')\nse = etree.HTML(r.text.encode('utf-8'))\nprint(se.xpath('//book'))\nse.xpath('//autor')   # se.xpath('//bookstore/book/author')\nse.xpath('//autor/text()')\nbookstore[0].xpath('./book/author')\nauthor = bookstore[0].xpath('./book/author')[0]",
      "execution_count": null,
      "outputs": []
    }
  ],
  "metadata": {
    "kernelspec": {
      "name": "python36",
      "display_name": "Python 3.6",
      "language": "python"
    },
    "language_info": {
      "mimetype": "text/x-python",
      "nbconvert_exporter": "python",
      "name": "python",
      "pygments_lexer": "ipython3",
      "version": "3.6.6",
      "file_extension": ".py",
      "codemirror_mode": {
        "version": 3,
        "name": "ipython"
      }
    }
  },
  "nbformat": 4,
  "nbformat_minor": 2
}