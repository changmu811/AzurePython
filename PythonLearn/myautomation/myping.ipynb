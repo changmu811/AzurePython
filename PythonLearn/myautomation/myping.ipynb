{
  "metadata": {
    "kernelspec": {
      "display_name": "Python 3.6",
      "name": "python36",
      "language": "python"
    },
    "language_info": {
      "mimetype": "text/x-python",
      "nbconvert_exporter": "python",
      "name": "python",
      "pygments_lexer": "ipython3",
      "version": "3.6.6",
      "file_extension": ".py",
      "codemirror_mode": {
        "version": 3,
        "name": "ipython"
      }
    }
  },
  "nbformat_minor": 2,
  "nbformat": 4,
  "cells": [
    {
      "cell_type": "code",
      "source": "import os\nimport sys",
      "metadata": {
        "collapsed": true,
        "trusted": true
      },
      "execution_count": null,
      "outputs": []
    },
    {
      "cell_type": "code",
      "source": "\n \n\niplist = list() \n\n#ip = '192.168.1.11'\n\n#ip = '172.24.186.191'\n\n#ip = 'www.baidu.com'\n\nip = '114.114.114.114'\n\nprint(os.system('ping -w 1000 -n 1 %s' %ip))\n\nbackinfo = os.system('ping -c 1 -w 1 %s' % ip) # 实现pingIP地址的功能，-c1指发送报文一次，-w1指等待1秒 \n\nprint ('backinfo')\n\nprint (backinfo)\n\nprint (type(backinfo))\n\nif backinfo: \n    print ('no')\nelse: \n    iplist.append(ip) \n\nprint (iplist)",
      "metadata": {
        "trusted": true
      },
      "execution_count": 25,
      "outputs": [
        {
          "text": "32512\nbackinfo\n32512\n<class 'int'>\nno\n[]\n",
          "name": "stdout",
          "output_type": "stream"
        }
      ]
    },
    {
      "cell_type": "code",
      "source": "host = input('请输入要检测的 IP : ') \nforbidden = ['&', ';', '-', ' ', '||', '|'] \nfor i in forbidden: \n    if i in host: \n        print('Catch you') \n        exit() \nresult = os.popen('ping -c 1 -t 1 %s' % (host)).read() \nif 'ttl' in result: \n    print('IP 在线') # localhost\nelse: \n    print('IP 不在线')",
      "metadata": {
        "trusted": true
      },
      "execution_count": null,
      "outputs": []
    }
  ]
}