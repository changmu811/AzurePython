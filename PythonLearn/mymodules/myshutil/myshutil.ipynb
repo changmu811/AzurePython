{
  "metadata": {
    "kernelspec": {
      "name": "python36",
      "display_name": "Python 3.6",
      "language": "python"
    },
    "language_info": {
      "mimetype": "text/x-python",
      "nbconvert_exporter": "python",
      "name": "python",
      "pygments_lexer": "ipython3",
      "version": "3.6.6",
      "file_extension": ".py",
      "codemirror_mode": {
        "version": 3,
        "name": "ipython"
      }
    }
  },
  "nbformat_minor": 2,
  "nbformat": 4,
  "cells": [
    {
      "cell_type": "code",
      "source": "import shutil\nimport os\nimport glob ",
      "metadata": {
        "trusted": true
      },
      "execution_count": 2,
      "outputs": []
    },
    {
      "cell_type": "code",
      "source": "# return is res_shutil (<class 'str'>)\nres_shutil = shutil.make_archive('myshutil', 'zip', root_dir = '/home/nbuser/library/PythonLearn/mymodules/myshutil')",
      "metadata": {
        "trusted": true
      },
      "execution_count": 3,
      "outputs": []
    },
    {
      "cell_type": "code",
      "source": "shutil.copyfile('./myshutil.ipynb',  '/home/nbuser/library/PythonLearn/mymodules/https.zip')",
      "metadata": {
        "trusted": true
      },
      "execution_count": null,
      "outputs": []
    },
    {
      "cell_type": "markdown",
      "source": "# import glob\n. window系统命令行下通配符匹配(* , ?, [])\n. python 3.5开始glob模块，使用（**）加 Recursive = True能递归匹配所有子目录文件\n. https://www.pynote.net/archives/852\nglob模块可以查找符合特定规则的文件路径名。跟使用windows下的文件搜索差不多。它有三个匹配符：”*”, “?”, “[]”。\n\n*：匹配0个或多个字符；\n?：匹配单个字符；\n[]：匹配指定范围内的字符，如：[a-z]匹配所有字母",
      "metadata": {
        "trusted": true
      }
    },
    {
      "cell_type": "code",
      "source": "# dir_source = os.getcwd()\n# os.chdir('/home')\n# glob_find_file = glob.glob('/home/nbuser/library/PythonLearn/**/*.ipynb', recursive=True)\n# os.chdir(dir_source)\n# print(type(glob_find_file))\n# for dir_file in glob_find_file:\n#     print(dir_file)\n# print(os.getcwd())",
      "metadata": {
        "trusted": true
      },
      "execution_count": 10,
      "outputs": []
    },
    {
      "cell_type": "code",
      "source": "dst_file = './test_copy2'\nsrc_file =  '/home/nbuser/library/PythonLearn/mymisc/'\ncurrent_list = glob.glob(os.path.join(src_file,'*'))\nfor dir in current_list:\n    print(dir)\n\n# for x in current_list:\n#     shutil.copy(x,dst_file)",
      "metadata": {
        "trusted": true
      },
      "execution_count": null,
      "outputs": []
    },
    {
      "cell_type": "code",
      "source": "re_glob = glob.escape('/home/*/?/[a-z]') # return --> str\nprint((re_glob))",
      "metadata": {
        "trusted": true
      },
      "execution_count": null,
      "outputs": []
    },
    {
      "cell_type": "code",
      "source": "# glob??",
      "metadata": {
        "trusted": true
      },
      "execution_count": null,
      "outputs": []
    },
    {
      "cell_type": "code",
      "source": "# x = [1, 2, 3, 4, 5]\n# assert 5 in x \n# print('5 in list x')",
      "metadata": {
        "trusted": true
      },
      "execution_count": null,
      "outputs": []
    },
    {
      "cell_type": "code",
      "source": "x = 7\neval('3 * x')",
      "metadata": {
        "trusted": true
      },
      "execution_count": null,
      "outputs": []
    },
    {
      "cell_type": "code",
      "source": "y = 3\neval('pow(y, y)')",
      "metadata": {
        "trusted": true
      },
      "execution_count": null,
      "outputs": []
    },
    {
      "cell_type": "code",
      "source": "eval(\"print('hell')\") ",
      "metadata": {
        "trusted": true
      },
      "execution_count": null,
      "outputs": []
    },
    {
      "cell_type": "code",
      "source": "eval(\"__import__('os').system('ls /home/')\")",
      "metadata": {
        "trusted": true
      },
      "execution_count": null,
      "outputs": []
    },
    {
      "cell_type": "code",
      "source": "import time ",
      "metadata": {
        "trusted": true
      },
      "execution_count": null,
      "outputs": []
    },
    {
      "cell_type": "code",
      "source": "res_time = time.gmtime()",
      "metadata": {
        "trusted": true
      },
      "execution_count": null,
      "outputs": []
    },
    {
      "cell_type": "code",
      "source": "res_time.tm_year",
      "metadata": {
        "trusted": true
      },
      "execution_count": null,
      "outputs": []
    },
    {
      "cell_type": "code",
      "source": "time.strftime('%Y-%m-%d %H:%M:%S')",
      "metadata": {
        "trusted": true
      },
      "execution_count": null,
      "outputs": []
    },
    {
      "cell_type": "code",
      "source": "import configparser",
      "metadata": {
        "trusted": true
      },
      "execution_count": null,
      "outputs": []
    },
    {
      "cell_type": "code",
      "source": "import itertools",
      "metadata": {
        "trusted": true
      },
      "execution_count": null,
      "outputs": []
    },
    {
      "cell_type": "code",
      "source": "iter = itertools.count(1)",
      "metadata": {
        "trusted": true
      },
      "execution_count": null,
      "outputs": []
    },
    {
      "cell_type": "code",
      "source": "cnt = 100\nfor i in iter:\n    if cnt >= 0:\n        print(i)\n        cnt -= 1\n    else:\n        break",
      "metadata": {
        "trusted": true
      },
      "execution_count": null,
      "outputs": []
    },
    {
      "cell_type": "code",
      "source": "it = itertools.repeat('changmu', 10)",
      "metadata": {
        "trusted": true
      },
      "execution_count": 40,
      "outputs": []
    },
    {
      "cell_type": "code",
      "source": "for i in it:\n    print(i)",
      "metadata": {
        "trusted": true
      },
      "execution_count": 41,
      "outputs": [
        {
          "output_type": "stream",
          "text": "changmu\nchangmu\nchangmu\nchangmu\nchangmu\nchangmu\nchangmu\nchangmu\nchangmu\nchangmu\n",
          "name": "stdout"
        }
      ]
    },
    {
      "cell_type": "code",
      "source": "",
      "metadata": {
        "trusted": true
      },
      "execution_count": null,
      "outputs": []
    }
  ]
}