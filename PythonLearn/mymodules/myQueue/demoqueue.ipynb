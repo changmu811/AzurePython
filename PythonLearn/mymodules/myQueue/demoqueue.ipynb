{
  "cells": [
    {
      "metadata": {
        "trusted": true
      },
      "cell_type": "code",
      "source": "import queue \nimport operator",
      "execution_count": 133,
      "outputs": []
    },
    {
      "metadata": {
        "trusted": true
      },
      "cell_type": "code",
      "source": "q = queue.LifoQueue(5)",
      "execution_count": null,
      "outputs": []
    },
    {
      "metadata": {
        "trusted": true
      },
      "cell_type": "code",
      "source": "for i in 'china':\n    q.put(i)\n    # q.all_tasks_done()\n\nwhile not q.empty():\n    print(q.get())",
      "execution_count": null,
      "outputs": []
    },
    {
      "metadata": {
        "trusted": true
      },
      "cell_type": "code",
      "source": "# import queue\n# import threading\n\n# class Job(object):\n#     def __init__(self, priority, description):\n#         self.priority = priority\n#         self.description = description\n#         print('Job:', description)\n#         return\n\n#     def __cmp__(self, other):\n#         return cmp(self.priority, other.priority)\n\n\n# q = queue.PriorityQueue()\n\n# q.put(Job(3, 'level 3 job'))\n# q.put(Job(10, 'level 10 job'))\n# q.put(Job(1, 'level 1 job'))\n\n\n# def process_job(q):\n#     while True:\n#         next_job = q.get()\n#         print('for:', next_job.description)\n#         q.task_done()\n\n\n# workers = [threading.Thread(target=process_job, args=(q,)),threading.Thread(target=process_job, args=(q,))]\n\n\n# for w in workers:\n#     w.setDaemon(True)\n#     w.start()\n\n# q.join()",
      "execution_count": null,
      "outputs": []
    },
    {
      "metadata": {
        "trusted": true
      },
      "cell_type": "code",
      "source": "operator.contains('abc', 'ab')",
      "execution_count": 140,
      "outputs": [
        {
          "output_type": "execute_result",
          "execution_count": 140,
          "data": {
            "text/plain": "True"
          },
          "metadata": {}
        }
      ]
    },
    {
      "metadata": {
        "trusted": true
      },
      "cell_type": "code",
      "source": "res = operator.attrgetter('china')\nprint(type(res))",
      "execution_count": 142,
      "outputs": [
        {
          "output_type": "stream",
          "text": "<class 'operator.attrgetter'>\n",
          "name": "stdout"
        }
      ]
    },
    {
      "metadata": {
        "trusted": true
      },
      "cell_type": "code",
      "source": "from operator import attrgetter\n\n\nclass Student:\n    def __init__(self, name, id):\n        self.name = name\n        self.id = id\n\n    def __repr__(self):\n        return \"(%s, %s)\" % (self.name, self.id)\n\n\nstudents = [Student('Stanley', 167), Student('Lily', 288), Student('Bob', 134), Student('Peter', 111)]\n\nstudents_by_id = sorted(students, key=attrgetter('name'))\nprint(students_by_id)\n# [(Peter, 111), (Bob, 134), (Stanley, 167), (Lily, 288)]\n# 使用attrgetter速度比匿名函数更快，且同样支持多个key，此函数同样适用于min(), max()等函数，用法与itemgetter相同\n\nstudents_by_id = sorted(students, key=lambda s: s.id)\nprint(students_by_id)\n# [(Peter, 111), (Bob, 134), (Stanley, 167), (Lily, 288)]",
      "execution_count": 146,
      "outputs": [
        {
          "output_type": "stream",
          "text": "[(Bob, 134), (Lily, 288), (Peter, 111), (Stanley, 167)]\n[(Peter, 111), (Bob, 134), (Stanley, 167), (Lily, 288)]\n",
          "name": "stdout"
        }
      ]
    },
    {
      "metadata": {
        "trusted": true
      },
      "cell_type": "code",
      "source": "",
      "execution_count": null,
      "outputs": []
    },
    {
      "metadata": {
        "trusted": true
      },
      "cell_type": "code",
      "source": "",
      "execution_count": null,
      "outputs": []
    }
  ],
  "metadata": {
    "kernelspec": {
      "name": "python36",
      "display_name": "Python 3.6",
      "language": "python"
    },
    "language_info": {
      "mimetype": "text/x-python",
      "nbconvert_exporter": "python",
      "name": "python",
      "pygments_lexer": "ipython3",
      "version": "3.6.6",
      "file_extension": ".py",
      "codemirror_mode": {
        "version": 3,
        "name": "ipython"
      }
    }
  },
  "nbformat": 4,
  "nbformat_minor": 2
}