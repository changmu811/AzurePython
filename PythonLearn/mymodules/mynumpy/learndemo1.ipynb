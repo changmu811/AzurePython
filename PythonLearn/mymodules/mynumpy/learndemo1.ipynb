{
  "cells": [
    {
      "metadata": {
        "trusted": true
      },
      "cell_type": "code",
      "source": "import numpy as np\nimport random",
      "execution_count": 19,
      "outputs": []
    },
    {
      "metadata": {
        "trusted": true
      },
      "cell_type": "code",
      "source": "data = np.random.randint(0, 50, [4,3,2,3])\nprint(data)\nprint(data.sum(axis=0))\nprint(np.ndarray((3,4)))",
      "execution_count": 20,
      "outputs": [
        {
          "output_type": "stream",
          "text": "[[[[ 7  7 48]\n   [28 15 12]]\n\n  [[24 17 29]\n   [21  1 32]]\n\n  [[ 2  2 16]\n   [48 36 28]]]\n\n\n [[[39 28 29]\n   [46  5 33]]\n\n  [[31  4 27]\n   [10 13 17]]\n\n  [[34  2 11]\n   [45  0 26]]]\n\n\n [[[35 27 17]\n   [33  6 30]]\n\n  [[10 22 40]\n   [23 43  4]]\n\n  [[35 22 27]\n   [20 39 25]]]\n\n\n [[[44 30  5]\n   [13 48  7]]\n\n  [[29  3 26]\n   [11 25 32]]\n\n  [[44 34 20]\n   [19 11 46]]]]\n[[[125  92  99]\n  [120  74  82]]\n\n [[ 94  46 122]\n  [ 65  82  85]]\n\n [[115  60  74]\n  [132  86 125]]]\n[[6.93831833e-310 6.93831833e-310 4.94065646e-324 4.94065646e-324]\n [0.00000000e+000 0.00000000e+000 0.00000000e+000 0.00000000e+000]\n [0.00000000e+000 1.63041663e-322 4.65412647e-310 4.65412633e-310]]\n",
          "name": "stdout"
        }
      ]
    },
    {
      "metadata": {
        "trusted": true
      },
      "cell_type": "code",
      "source": "np.ndim(data)",
      "execution_count": 21,
      "outputs": [
        {
          "output_type": "execute_result",
          "execution_count": 21,
          "data": {
            "text/plain": "4"
          },
          "metadata": {}
        }
      ]
    },
    {
      "metadata": {
        "trusted": true
      },
      "cell_type": "code",
      "source": "arr = np.random.randint(1, 10, size = (3, 4))\nprint(arr)",
      "execution_count": 22,
      "outputs": [
        {
          "output_type": "stream",
          "text": "[[2 7 4 3]\n [6 3 6 8]\n [1 8 4 4]]\n",
          "name": "stdout"
        }
      ]
    },
    {
      "metadata": {
        "trusted": true
      },
      "cell_type": "code",
      "source": "res_sum = arr.sum(axis = 0)  # 聚合操作\nprint(res_sum)",
      "execution_count": 23,
      "outputs": [
        {
          "output_type": "stream",
          "text": "[ 9 18 14 15]\n",
          "name": "stdout"
        }
      ]
    },
    {
      "metadata": {
        "trusted": true
      },
      "cell_type": "code",
      "source": "res_sum = arr.sum(axis = 1)  # 聚合操作\nprint(res_sum)",
      "execution_count": 24,
      "outputs": [
        {
          "output_type": "stream",
          "text": "[16 23 17]\n",
          "name": "stdout"
        }
      ]
    },
    {
      "metadata": {
        "trusted": true
      },
      "cell_type": "code",
      "source": "arr.min(axis = 0)",
      "execution_count": 25,
      "outputs": [
        {
          "output_type": "execute_result",
          "execution_count": 25,
          "data": {
            "text/plain": "array([1, 3, 4, 3])"
          },
          "metadata": {}
        }
      ]
    },
    {
      "metadata": {
        "trusted": true
      },
      "cell_type": "code",
      "source": "arr.prod(axis = 0) # 乘积 axis = None 所有的乘积 笛卡尔乘积",
      "execution_count": 26,
      "outputs": [
        {
          "output_type": "execute_result",
          "execution_count": 26,
          "data": {
            "text/plain": "array([ 12, 168,  96,  96])"
          },
          "metadata": {}
        }
      ]
    },
    {
      "metadata": {
        "trusted": true
      },
      "cell_type": "code",
      "source": "arr.mean(axis = 1)  # 求平均",
      "execution_count": 27,
      "outputs": [
        {
          "output_type": "execute_result",
          "execution_count": 27,
          "data": {
            "text/plain": "array([4.  , 5.75, 4.25])"
          },
          "metadata": {}
        }
      ]
    },
    {
      "metadata": {
        "trusted": true
      },
      "cell_type": "code",
      "source": "arr.std(axis = 1) # 标准偏差  https://www.cnblogs.com/lonelyshy/p/12531544.html",
      "execution_count": 28,
      "outputs": [
        {
          "output_type": "execute_result",
          "execution_count": 28,
          "data": {
            "text/plain": "array([1.87082869, 1.78535711, 2.48746859])"
          },
          "metadata": {}
        }
      ]
    },
    {
      "metadata": {
        "trusted": true
      },
      "cell_type": "code",
      "source": "arr.std(axis=0)",
      "execution_count": 29,
      "outputs": [
        {
          "output_type": "execute_result",
          "execution_count": 29,
          "data": {
            "text/plain": "array([2.1602469 , 2.1602469 , 0.94280904, 2.1602469 ])"
          },
          "metadata": {}
        }
      ]
    },
    {
      "metadata": {
        "trusted": true
      },
      "cell_type": "code",
      "source": "arr.argmin(axis = 1) # 加了arg 表示返回最小值的索引",
      "execution_count": 30,
      "outputs": [
        {
          "output_type": "execute_result",
          "execution_count": 30,
          "data": {
            "text/plain": "array([0, 1, 0])"
          },
          "metadata": {}
        }
      ]
    },
    {
      "metadata": {},
      "cell_type": "markdown",
      "source": "# 矩阵运算"
    },
    {
      "metadata": {
        "trusted": true
      },
      "cell_type": "code",
      "source": "arr + 1  # 每个元素加1",
      "execution_count": 31,
      "outputs": [
        {
          "output_type": "execute_result",
          "execution_count": 31,
          "data": {
            "text/plain": "array([[3, 8, 5, 4],\n       [7, 4, 7, 9],\n       [2, 9, 5, 5]])"
          },
          "metadata": {}
        }
      ]
    },
    {
      "metadata": {
        "trusted": true
      },
      "cell_type": "code",
      "source": "arr2 = np.random.randint(1, 10, size = (4, 3))\narr2",
      "execution_count": 32,
      "outputs": [
        {
          "output_type": "execute_result",
          "execution_count": 32,
          "data": {
            "text/plain": "array([[6, 9, 7],\n       [1, 1, 2],\n       [4, 5, 1],\n       [5, 9, 2]])"
          },
          "metadata": {}
        }
      ]
    },
    {
      "metadata": {
        "trusted": true
      },
      "cell_type": "code",
      "source": "print(arr)\n# arr + arr2 \n",
      "execution_count": 33,
      "outputs": [
        {
          "output_type": "stream",
          "text": "[[2 7 4 3]\n [6 3 6 8]\n [1 8 4 4]]\n",
          "name": "stdout"
        }
      ]
    },
    {
      "metadata": {
        "trusted": true
      },
      "cell_type": "code",
      "source": "#arr * arr2  # np.dot  普通乘法",
      "execution_count": 34,
      "outputs": []
    },
    {
      "metadata": {
        "trusted": true
      },
      "cell_type": "code",
      "source": "# 要求第一个矩阵的列数和第二个矩阵的行数相同才能做矩阵点乘\n# 矩阵的积是有顺序的，不满足乘法交换律\nnp.dot(arr, arr2) # 矩阵积 点乘  ",
      "execution_count": 35,
      "outputs": [
        {
          "output_type": "execute_result",
          "execution_count": 35,
          "data": {
            "text/plain": "array([[ 50,  72,  38],\n       [103, 159,  70],\n       [ 50,  73,  35]])"
          },
          "metadata": {}
        }
      ]
    },
    {
      "metadata": {
        "trusted": true
      },
      "cell_type": "code",
      "source": "arr.argmin()",
      "execution_count": 36,
      "outputs": [
        {
          "output_type": "execute_result",
          "execution_count": 36,
          "data": {
            "text/plain": "8"
          },
          "metadata": {}
        }
      ]
    },
    {
      "metadata": {
        "trusted": true
      },
      "cell_type": "code",
      "source": "def select_sort(select_array):\n    for i in  range(0, len(select_array) - 1):\n        index = np.argmin(select_array[i:len(select_array)]) + i # slices 后是一个新数组和原来的不是同地址\n        print(index)\n        if select_array[i] > select_array[index]:\n            select_array[i], select_array[index] = select_array[index], select_array[i]\nselect_array = [3, 6, 2, 7, 5, 9, 1]\nselect_sort(select_array)\nprint(select_array)",
      "execution_count": 37,
      "outputs": [
        {
          "output_type": "stream",
          "text": "6\n2\n6\n4\n6\n6\n[1, 2, 3, 5, 6, 7, 9]\n",
          "name": "stdout"
        }
      ]
    },
    {
      "metadata": {
        "trusted": true
      },
      "cell_type": "code",
      "source": "arr = np.arange(0, 2, 0.3)",
      "execution_count": 38,
      "outputs": []
    },
    {
      "metadata": {
        "trusted": true
      },
      "cell_type": "code",
      "source": "type(arr)",
      "execution_count": 39,
      "outputs": [
        {
          "output_type": "execute_result",
          "execution_count": 39,
          "data": {
            "text/plain": "numpy.ndarray"
          },
          "metadata": {}
        }
      ]
    },
    {
      "metadata": {
        "trusted": true
      },
      "cell_type": "code",
      "source": "arr",
      "execution_count": 40,
      "outputs": [
        {
          "output_type": "execute_result",
          "execution_count": 40,
          "data": {
            "text/plain": "array([0. , 0.3, 0.6, 0.9, 1.2, 1.5, 1.8])"
          },
          "metadata": {}
        }
      ]
    },
    {
      "metadata": {
        "trusted": true
      },
      "cell_type": "code",
      "source": "arr = np.linspace(0, 10)",
      "execution_count": 41,
      "outputs": []
    },
    {
      "metadata": {
        "trusted": true
      },
      "cell_type": "code",
      "source": "arr",
      "execution_count": 42,
      "outputs": [
        {
          "output_type": "execute_result",
          "execution_count": 42,
          "data": {
            "text/plain": "array([ 0.        ,  0.20408163,  0.40816327,  0.6122449 ,  0.81632653,\n        1.02040816,  1.2244898 ,  1.42857143,  1.63265306,  1.83673469,\n        2.04081633,  2.24489796,  2.44897959,  2.65306122,  2.85714286,\n        3.06122449,  3.26530612,  3.46938776,  3.67346939,  3.87755102,\n        4.08163265,  4.28571429,  4.48979592,  4.69387755,  4.89795918,\n        5.10204082,  5.30612245,  5.51020408,  5.71428571,  5.91836735,\n        6.12244898,  6.32653061,  6.53061224,  6.73469388,  6.93877551,\n        7.14285714,  7.34693878,  7.55102041,  7.75510204,  7.95918367,\n        8.16326531,  8.36734694,  8.57142857,  8.7755102 ,  8.97959184,\n        9.18367347,  9.3877551 ,  9.59183673,  9.79591837, 10.        ])"
          },
          "metadata": {}
        }
      ]
    },
    {
      "metadata": {
        "trusted": true
      },
      "cell_type": "code",
      "source": "arr = np.arange(12).reshape(3,4)\narr ",
      "execution_count": 43,
      "outputs": [
        {
          "output_type": "execute_result",
          "execution_count": 43,
          "data": {
            "text/plain": "array([[ 0,  1,  2,  3],\n       [ 4,  5,  6,  7],\n       [ 8,  9, 10, 11]])"
          },
          "metadata": {}
        }
      ]
    },
    {
      "metadata": {
        "trusted": true
      },
      "cell_type": "code",
      "source": "a = np.arange(12)\na",
      "execution_count": 44,
      "outputs": [
        {
          "output_type": "execute_result",
          "execution_count": 44,
          "data": {
            "text/plain": "array([ 0,  1,  2,  3,  4,  5,  6,  7,  8,  9, 10, 11])"
          },
          "metadata": {}
        }
      ]
    },
    {
      "metadata": {
        "trusted": true
      },
      "cell_type": "code",
      "source": "b = a \nb",
      "execution_count": 45,
      "outputs": [
        {
          "output_type": "execute_result",
          "execution_count": 45,
          "data": {
            "text/plain": "array([ 0,  1,  2,  3,  4,  5,  6,  7,  8,  9, 10, 11])"
          },
          "metadata": {}
        }
      ]
    },
    {
      "metadata": {
        "trusted": true
      },
      "cell_type": "code",
      "source": "b.shape = 3,4",
      "execution_count": 46,
      "outputs": []
    },
    {
      "metadata": {
        "trusted": true
      },
      "cell_type": "code",
      "source": "b",
      "execution_count": 47,
      "outputs": [
        {
          "output_type": "execute_result",
          "execution_count": 47,
          "data": {
            "text/plain": "array([[ 0,  1,  2,  3],\n       [ 4,  5,  6,  7],\n       [ 8,  9, 10, 11]])"
          },
          "metadata": {}
        }
      ]
    },
    {
      "metadata": {
        "trusted": true
      },
      "cell_type": "code",
      "source": "a",
      "execution_count": 48,
      "outputs": [
        {
          "output_type": "execute_result",
          "execution_count": 48,
          "data": {
            "text/plain": "array([[ 0,  1,  2,  3],\n       [ 4,  5,  6,  7],\n       [ 8,  9, 10, 11]])"
          },
          "metadata": {}
        }
      ]
    },
    {
      "metadata": {
        "trusted": true
      },
      "cell_type": "code",
      "source": "a.shape",
      "execution_count": 49,
      "outputs": [
        {
          "output_type": "execute_result",
          "execution_count": 49,
          "data": {
            "text/plain": "(3, 4)"
          },
          "metadata": {}
        }
      ]
    },
    {
      "metadata": {
        "trusted": true
      },
      "cell_type": "code",
      "source": "c = a.view()",
      "execution_count": 50,
      "outputs": []
    },
    {
      "metadata": {
        "trusted": true
      },
      "cell_type": "code",
      "source": "c",
      "execution_count": 51,
      "outputs": [
        {
          "output_type": "execute_result",
          "execution_count": 51,
          "data": {
            "text/plain": "array([[ 0,  1,  2,  3],\n       [ 4,  5,  6,  7],\n       [ 8,  9, 10, 11]])"
          },
          "metadata": {}
        }
      ]
    },
    {
      "metadata": {
        "trusted": true
      },
      "cell_type": "code",
      "source": "c.shape = 2, 6 \nc",
      "execution_count": 52,
      "outputs": [
        {
          "output_type": "execute_result",
          "execution_count": 52,
          "data": {
            "text/plain": "array([[ 0,  1,  2,  3,  4,  5],\n       [ 6,  7,  8,  9, 10, 11]])"
          },
          "metadata": {}
        }
      ]
    },
    {
      "metadata": {
        "trusted": true
      },
      "cell_type": "code",
      "source": "a.shape ",
      "execution_count": 53,
      "outputs": [
        {
          "output_type": "execute_result",
          "execution_count": 53,
          "data": {
            "text/plain": "(3, 4)"
          },
          "metadata": {}
        }
      ]
    },
    {
      "metadata": {
        "trusted": true
      },
      "cell_type": "code",
      "source": "c[0,4] = 1234",
      "execution_count": 54,
      "outputs": []
    },
    {
      "metadata": {
        "trusted": true
      },
      "cell_type": "code",
      "source": "a",
      "execution_count": 55,
      "outputs": [
        {
          "output_type": "execute_result",
          "execution_count": 55,
          "data": {
            "text/plain": "array([[   0,    1,    2,    3],\n       [1234,    5,    6,    7],\n       [   8,    9,   10,   11]])"
          },
          "metadata": {}
        }
      ]
    },
    {
      "metadata": {
        "trusted": true
      },
      "cell_type": "code",
      "source": "c",
      "execution_count": 56,
      "outputs": [
        {
          "output_type": "execute_result",
          "execution_count": 56,
          "data": {
            "text/plain": "array([[   0,    1,    2,    3, 1234,    5],\n       [   6,    7,    8,    9,   10,   11]])"
          },
          "metadata": {}
        }
      ]
    },
    {
      "metadata": {
        "trusted": true
      },
      "cell_type": "code",
      "source": "s = a[ : , 1:3]  ",
      "execution_count": 57,
      "outputs": []
    },
    {
      "metadata": {
        "trusted": true
      },
      "cell_type": "code",
      "source": "s[:] = 10 ",
      "execution_count": 58,
      "outputs": []
    },
    {
      "metadata": {
        "trusted": true
      },
      "cell_type": "code",
      "source": "s",
      "execution_count": 59,
      "outputs": [
        {
          "output_type": "execute_result",
          "execution_count": 59,
          "data": {
            "text/plain": "array([[10, 10],\n       [10, 10],\n       [10, 10]])"
          },
          "metadata": {}
        }
      ]
    },
    {
      "metadata": {
        "trusted": true
      },
      "cell_type": "code",
      "source": "a",
      "execution_count": 60,
      "outputs": [
        {
          "output_type": "execute_result",
          "execution_count": 60,
          "data": {
            "text/plain": "array([[   0,   10,   10,    3],\n       [1234,   10,   10,    7],\n       [   8,   10,   10,   11]])"
          },
          "metadata": {}
        }
      ]
    },
    {
      "metadata": {
        "trusted": true
      },
      "cell_type": "code",
      "source": "a_test = np.arange(12)",
      "execution_count": 61,
      "outputs": []
    },
    {
      "metadata": {
        "trusted": true
      },
      "cell_type": "code",
      "source": "a_test ",
      "execution_count": 62,
      "outputs": [
        {
          "output_type": "execute_result",
          "execution_count": 62,
          "data": {
            "text/plain": "array([ 0,  1,  2,  3,  4,  5,  6,  7,  8,  9, 10, 11])"
          },
          "metadata": {}
        }
      ]
    },
    {
      "metadata": {
        "trusted": true
      },
      "cell_type": "code",
      "source": "cc = a_test.reshape(3,4)",
      "execution_count": 63,
      "outputs": []
    },
    {
      "metadata": {
        "trusted": true
      },
      "cell_type": "code",
      "source": "cc",
      "execution_count": 64,
      "outputs": [
        {
          "output_type": "execute_result",
          "execution_count": 64,
          "data": {
            "text/plain": "array([[ 0,  1,  2,  3],\n       [ 4,  5,  6,  7],\n       [ 8,  9, 10, 11]])"
          },
          "metadata": {}
        }
      ]
    },
    {
      "metadata": {
        "trusted": true
      },
      "cell_type": "code",
      "source": "cc[0, 3] = 1234\n#ss = cc[:, 1:3]",
      "execution_count": 65,
      "outputs": []
    },
    {
      "metadata": {
        "trusted": true
      },
      "cell_type": "code",
      "source": "cc",
      "execution_count": 66,
      "outputs": [
        {
          "output_type": "execute_result",
          "execution_count": 66,
          "data": {
            "text/plain": "array([[   0,    1,    2, 1234],\n       [   4,    5,    6,    7],\n       [   8,    9,   10,   11]])"
          },
          "metadata": {}
        }
      ]
    },
    {
      "metadata": {
        "trusted": true
      },
      "cell_type": "code",
      "source": "ss = cc[:, 1:3]\nss",
      "execution_count": 67,
      "outputs": [
        {
          "output_type": "execute_result",
          "execution_count": 67,
          "data": {
            "text/plain": "array([[ 1,  2],\n       [ 5,  6],\n       [ 9, 10]])"
          },
          "metadata": {}
        }
      ]
    },
    {
      "metadata": {
        "trusted": true
      },
      "cell_type": "code",
      "source": "ss[:] = 10\nss",
      "execution_count": 68,
      "outputs": [
        {
          "output_type": "execute_result",
          "execution_count": 68,
          "data": {
            "text/plain": "array([[10, 10],\n       [10, 10],\n       [10, 10]])"
          },
          "metadata": {}
        }
      ]
    },
    {
      "metadata": {
        "trusted": true
      },
      "cell_type": "code",
      "source": "cc",
      "execution_count": 69,
      "outputs": [
        {
          "output_type": "execute_result",
          "execution_count": 69,
          "data": {
            "text/plain": "array([[   0,   10,   10, 1234],\n       [   4,   10,   10,    7],\n       [   8,   10,   10,   11]])"
          },
          "metadata": {}
        }
      ]
    },
    {
      "metadata": {
        "trusted": true
      },
      "cell_type": "code",
      "source": "br = np.ones((2,3))\nbr",
      "execution_count": 70,
      "outputs": [
        {
          "output_type": "execute_result",
          "execution_count": 70,
          "data": {
            "text/plain": "array([[1., 1., 1.],\n       [1., 1., 1.]])"
          },
          "metadata": {}
        }
      ]
    },
    {
      "metadata": {
        "trusted": true
      },
      "cell_type": "code",
      "source": "br2 = np.arange(3)",
      "execution_count": 71,
      "outputs": []
    },
    {
      "metadata": {
        "trusted": true
      },
      "cell_type": "code",
      "source": "br2 ",
      "execution_count": 72,
      "outputs": [
        {
          "output_type": "execute_result",
          "execution_count": 72,
          "data": {
            "text/plain": "array([0, 1, 2])"
          },
          "metadata": {}
        }
      ]
    },
    {
      "metadata": {
        "trusted": true
      },
      "cell_type": "code",
      "source": "br + br2",
      "execution_count": 73,
      "outputs": [
        {
          "output_type": "execute_result",
          "execution_count": 73,
          "data": {
            "text/plain": "array([[1., 2., 3.],\n       [1., 2., 3.]])"
          },
          "metadata": {}
        }
      ]
    },
    {
      "metadata": {
        "trusted": true
      },
      "cell_type": "code",
      "source": "br*10",
      "execution_count": 74,
      "outputs": [
        {
          "output_type": "execute_result",
          "execution_count": 74,
          "data": {
            "text/plain": "array([[10., 10., 10.],\n       [10., 10., 10.]])"
          },
          "metadata": {}
        }
      ]
    },
    {
      "metadata": {
        "trusted": true
      },
      "cell_type": "code",
      "source": "# https://www.cnblogs.com/Shawnyi/p/10370815.html",
      "execution_count": 75,
      "outputs": []
    },
    {
      "metadata": {},
      "cell_type": "markdown",
      "source": "numpy.dot(a, b, out=None)传入2个数组，然后返回两个数组的点积。\n\n根据官方文档https://docs.scipy.org/doc/numpy/reference/generated/numpy.dot.html\n\n可以分为以下情况：\n\n1. 如果处理的是一维数组，则得到的是两数组的內积\n\n2. 如果是二维数组（矩阵）之间的运算，则得到的是矩阵积\n\n3. 如果是0维数组(标量)，则得到的是两个数的乘积\n\n4. 如果a是N维数组，b是一维数组，a中最后一个轴(如(x, y, z)中的z， 即列)，每一列分别与b求内积\n\n5. 如果a是N维数组，b是M(M>=2)维数组，由a中的最后一个轴(即列)的元素与b中从第二到最后轴中对应元素求乘积之和\n\n\nnumpy.dot\nnumpy.dot(a， b，出 = 无)\n两个数组的点积。特别\n\n如果a和b都是一维数组，则它是矢量的内部乘积（没有复杂的偶联）。\n\n如果a和b都是二维数组，则它是矩阵乘法，但使用matmul或是首选。a @ b\n\n如果a或b是 0-D（标量），则等效于乘法和使用或首选。numpy.multiply(a, b)a * b\n\n如果a是 N-D 数组，b是一个一维数组，则它是a和b的最后一个轴上的求和乘积。\n\n如果a是 N-D 数组，b是 M-D 数组（其中），则它是b的最后一个轴和倒数第二个轴上的求和乘积：M>=2\n\ndot(a, b)[i,j,k,m] = sum(a[i,j,:] * b[k,:,m])\n参数\narray_like\n第一个参数。\n\nbarray_like\n第二个参数。\n\n出ndarray，可选\n输出参数。它必须具有不使用时将返回的确切类型。特别是，它必须具有正确的类型，必须是 C 连续的，并且其 dtype 必须是要返回的dot（a，b） dtype。这是一个性能功能。因此，如果不满足这些条件，将引发异常，而不是尝试灵活。\n\n返回\n输出ndarray\n返回a和b的点积。如果a和b都是标量或两个一维数组，则返回标量;否则将返回数组。如果给出出，则返回它。\n\n提高\n值错误\n如果a的最后一个维度的大小与b的倒数第二个维度的大小不同。"
    },
    {
      "metadata": {
        "trusted": true
      },
      "cell_type": "code",
      "source": "arr6 = np.arange(1,13).reshape(3,2,2)\narr7 = np.arange(12, 24).reshape(2,2,3)\nprint(arr6)\nprint(\"\\n\\n\")\nprint(arr7)\nnp.dot(arr6, arr7)",
      "execution_count": 76,
      "outputs": [
        {
          "output_type": "stream",
          "text": "[[[ 1  2]\n  [ 3  4]]\n\n [[ 5  6]\n  [ 7  8]]\n\n [[ 9 10]\n  [11 12]]]\n\n\n\n[[[12 13 14]\n  [15 16 17]]\n\n [[18 19 20]\n  [21 22 23]]]\n",
          "name": "stdout"
        },
        {
          "output_type": "execute_result",
          "execution_count": 76,
          "data": {
            "text/plain": "array([[[[ 42,  45,  48],\n         [ 60,  63,  66]],\n\n        [[ 96, 103, 110],\n         [138, 145, 152]]],\n\n\n       [[[150, 161, 172],\n         [216, 227, 238]],\n\n        [[204, 219, 234],\n         [294, 309, 324]]],\n\n\n       [[[258, 277, 296],\n         [372, 391, 410]],\n\n        [[312, 335, 358],\n         [450, 473, 496]]]])"
          },
          "metadata": {}
        }
      ]
    },
    {
      "metadata": {},
      "cell_type": "markdown",
      "source": "计算过程如下：\n\n42 = 1 * 12 + 2 * 15\n\n45 = 1 * 13 + 2 * 16\n\n48 = 1 * 14 + 2 * 17\n\n...\n\n159 = 10 * 6 + 11 * 9\n\n180 = 10 * 7 + 11 * 10\n\n201 = 10 * 8 + 11 * 11"
    },
    {
      "metadata": {},
      "cell_type": "markdown",
      "source": "split(ary, indices_or_sections, axis=0)\n函数功能：\n把数组从左到右按顺序切分\n参数说明：\nary，要切分的数组\nindices_or_sections，如果该参数是一个整数n，就是把数组ary平均切分成n份；如果该参数是一个数组a，则以参数数组a中的元素为轴切分数组ary（左开右闭）\naxis，表示沿哪个维度切分数组。默认值为0，代表横向切分ary，相当于hsplit；当其为1时，代表纵向切分ary，相当于vsplit。\n\n特殊用法举例：\nx, y = np.split(data, (4,), axis=1)\n把数据集data中的所有数据在第四、五列之间分割，这在机器学习中分离标签是经常使用。\n\n另外，使用split平均切分数组时，如果不能均分会报如下错误：\nValueError: array split does not result in an equal division\n此时可用 array_split代替 split"
    },
    {
      "metadata": {
        "trusted": true
      },
      "cell_type": "code",
      "source": "split_array = np.arange(1, 10).reshape(3, 3)\nprint(split_array)\nsplit_res = np.split(split_array,[1, 3], axis = 1)\nprint(split_res)\nprint(type(split_res))\nfor i in split_res:\n    print(i)",
      "execution_count": 77,
      "outputs": [
        {
          "output_type": "stream",
          "text": "[[1 2 3]\n [4 5 6]\n [7 8 9]]\n[array([[1],\n       [4],\n       [7]]), array([[2, 3],\n       [5, 6],\n       [8, 9]]), array([], shape=(3, 0), dtype=int64)]\n<class 'list'>\n[[1]\n [4]\n [7]]\n[[2 3]\n [5 6]\n [8 9]]\n[]\n",
          "name": "stdout"
        }
      ]
    },
    {
      "metadata": {
        "trusted": true
      },
      "cell_type": "code",
      "source": "arr8 = np.array([0, 1, 2, 3, 4, 5, 6, 7, 8])\nnp.split(arr8, [2, 7], axis = 0)",
      "execution_count": 78,
      "outputs": [
        {
          "output_type": "execute_result",
          "execution_count": 78,
          "data": {
            "text/plain": "[array([0, 1]), array([2, 3, 4, 5, 6]), array([7, 8])]"
          },
          "metadata": {}
        }
      ]
    },
    {
      "metadata": {
        "trusted": true
      },
      "cell_type": "code",
      "source": "np_split = np.random.randint(1, 21, size = (4, 5))\nprint(np_split)\nnew_np_split = np.split(np_split, [1, 3], axis = 0)\nprint(type(new_np_split))\nprint(new_np_split)",
      "execution_count": 79,
      "outputs": [
        {
          "output_type": "stream",
          "text": "[[15 17 15 11  9]\n [18 17  3  4  6]\n [ 5 17 16  3  4]\n [ 1 12 11  5  9]]\n<class 'list'>\n[array([[15, 17, 15, 11,  9]]), array([[18, 17,  3,  4,  6],\n       [ 5, 17, 16,  3,  4]]), array([[ 1, 12, 11,  5,  9]])]\n",
          "name": "stdout"
        }
      ]
    },
    {
      "metadata": {},
      "cell_type": "markdown",
      "source": "# python broadcasting\n    三、Broadcast（广播）的规则\n    All input arrays with ndim smaller than the input array of largest ndim, have 1’s prepended to their shapes.\n    The size in each dimension of the output shape is the maximum of all the input sizes in that dimension.\n    An input can be used in the calculation if its size in a particular dimension either matches the output size in that dimension, or has value exactly 1.\n    If an input has a dimension size of 1 in its shape, the first data entry in that dimension will be used for all calculations along that dimension. In other words, the stepping machinery of the ufunc will simply not step along that dimension (the stride will be 0 for that dimension).\n    翻译如下：\n\n    让所有输入数组都向其中shape最长的数组看齐，shape中不足的部分都通过在前面加1补齐\n    输出数组的shape是输入数组shape的各个轴上的最大值\n    如果输入数组的某个轴和输出数组的对应轴的长度相同或者其长度为1时，这个数组能够用来计算，否则出错\n    当输入数组的某个轴的长度为1时，沿着此轴运算时都用此轴上的第一组值\n    来看更为一般的broadcasting rules：\n    当操作两个array时，numpy会逐个比较它们的shape（构成的元组tuple），只有在下述情况下，两arrays才算兼容：\n\n    相等\n    其中一个为1，（进而可进行拷贝拓展已至，shape匹配）\n    下面通过实际例子来解释说明上述的四条规则：（下面例子均来自于numpy 中的 broadcasting（广播）机制）\n    https://zhuanlan.zhihu.com/p/35010592\n    https://www.jb51.net/article/182600.htm  *********\n    https://www.jianshu.com/p/fbf79b761005  **********\n    吴恩达深度学习笔记(14)-Python中的广播（Broadcasting in Python）\n    用书中的话来介绍广播的规则：两个数组之间广播的规则：如果两个数组的后缘维度（即从末尾开始算起的维度）的轴长度相等或其中一方的长度为1，则认为他们是广播兼容的，广播会在缺失和(或)长度为1的维度上进行。************************"
    },
    {
      "metadata": {
        "trusted": true
      },
      "cell_type": "code",
      "source": "broad_array = np.random.randint(1, 21, size = (4, 5))\nbroad_array_one = np.random.randint(1, 5, size = (5,))\nprint(broad_array)\nprint('--' * 30)\nprint(broad_array_one)\nprint('--' * 30)\nprint(broad_array + broad_array_one)\nprint('--' * 30)\nprint(broad_array * broad_array_one)",
      "execution_count": 80,
      "outputs": [
        {
          "output_type": "stream",
          "text": "[[19 10  5 13  7]\n [ 1 16  5 11 16]\n [20  4 18  2 15]\n [ 8  4 19 19  7]]\n------------------------------------------------------------\n[2 4 1 3 4]\n------------------------------------------------------------\n[[21 14  6 16 11]\n [ 3 20  6 14 20]\n [22  8 19  5 19]\n [10  8 20 22 11]]\n------------------------------------------------------------\n[[38 40  5 39 28]\n [ 2 64  5 33 64]\n [40 16 18  6 60]\n [16 16 19 57 28]]\n",
          "name": "stdout"
        }
      ]
    },
    {
      "metadata": {
        "trusted": true
      },
      "cell_type": "code",
      "source": "arr = np.arange(12).reshape(4,3)\nprint(arr)\nprint(arr.mean(0))\narr-arr.mean(0)   # 4.5  5.5  6.5 broadcasting 补3个",
      "execution_count": 81,
      "outputs": [
        {
          "output_type": "stream",
          "text": "[[ 0  1  2]\n [ 3  4  5]\n [ 6  7  8]\n [ 9 10 11]]\n[4.5 5.5 6.5]\n",
          "name": "stdout"
        },
        {
          "output_type": "execute_result",
          "execution_count": 81,
          "data": {
            "text/plain": "array([[-4.5, -4.5, -4.5],\n       [-1.5, -1.5, -1.5],\n       [ 1.5,  1.5,  1.5],\n       [ 4.5,  4.5,  4.5]])"
          },
          "metadata": {}
        }
      ]
    }
  ],
  "metadata": {
    "kernelspec": {
      "name": "python36",
      "display_name": "Python 3.6",
      "language": "python"
    },
    "language_info": {
      "mimetype": "text/x-python",
      "nbconvert_exporter": "python",
      "name": "python",
      "pygments_lexer": "ipython3",
      "version": "3.6.6",
      "file_extension": ".py",
      "codemirror_mode": {
        "version": 3,
        "name": "ipython"
      }
    },
    "widgets": {
      "application/vnd.jupyter.widget-state+json": {
        "version_major": 2,
        "version_minor": 0,
        "state": {}
      }
    }
  },
  "nbformat": 4,
  "nbformat_minor": 2
}