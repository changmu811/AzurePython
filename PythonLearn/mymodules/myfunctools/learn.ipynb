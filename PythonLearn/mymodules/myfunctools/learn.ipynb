{
  "cells": [
    {
      "metadata": {
        "trusted": true
      },
      "cell_type": "code",
      "source": "import functools as fs",
      "execution_count": 37,
      "outputs": []
    },
    {
      "metadata": {
        "trusted": true
      },
      "cell_type": "code",
      "source": "# bulltins function for fileter\n\ndef isEven(list_value):\n    return list_value % 2 == 0\n\nmy_list = [i for i in range(1, 21)]\nres = filter(isEven, my_list)\nprint(type(res))\nprint([j for j in res])",
      "execution_count": 38,
      "outputs": [
        {
          "output_type": "stream",
          "text": "<class 'filter'>\n[2, 4, 6, 8, 10, 12, 14, 16, 18, 20]\n",
          "name": "stdout"
        }
      ]
    },
    {
      "metadata": {
        "trusted": true
      },
      "cell_type": "code",
      "source": "# higher-order function\nsz_language = ['swift', 'Python', 'clang', 'rust', 'Go', 'Java']\nres_citys = sorted(sz_language, key = str.upper)\nprint(type(res_citys))\nprint(res_citys)\nprint(sz_language)",
      "execution_count": 39,
      "outputs": [
        {
          "output_type": "stream",
          "text": "<class 'list'>\n['clang', 'Go', 'Java', 'Python', 'rust', 'swift']\n['swift', 'Python', 'clang', 'rust', 'Go', 'Java']\n",
          "name": "stdout"
        }
      ]
    },
    {
      "metadata": {
        "trusted": true
      },
      "cell_type": "code",
      "source": "l1 = [1, 2, 3, 4, 5]\nl2 = [11, 22, 33, 44]\nzip_res = zip(l1, l2)\nfor i in zip_res:\n    print(i)",
      "execution_count": 40,
      "outputs": [
        {
          "output_type": "stream",
          "text": "(1, 11)\n(2, 22)\n(3, 33)\n(4, 44)\n",
          "name": "stdout"
        }
      ]
    },
    {
      "metadata": {
        "trusted": true
      },
      "cell_type": "code",
      "source": "res_enum = enumerate(l1)\nprint([i for i in res_enum])",
      "execution_count": 41,
      "outputs": [
        {
          "output_type": "stream",
          "text": "[(0, 1), (1, 2), (2, 3), (3, 4), (4, 5)]\n",
          "name": "stdout"
        }
      ]
    },
    {
      "metadata": {
        "trusted": true
      },
      "cell_type": "code",
      "source": "import functools",
      "execution_count": 42,
      "outputs": []
    },
    {
      "metadata": {
        "trusted": true
      },
      "cell_type": "code",
      "source": "",
      "execution_count": null,
      "outputs": []
    }
  ],
  "metadata": {
    "kernelspec": {
      "name": "python36",
      "display_name": "Python 3.6",
      "language": "python"
    },
    "language_info": {
      "mimetype": "text/x-python",
      "nbconvert_exporter": "python",
      "name": "python",
      "pygments_lexer": "ipython3",
      "version": "3.6.6",
      "file_extension": ".py",
      "codemirror_mode": {
        "version": 3,
        "name": "ipython"
      }
    }
  },
  "nbformat": 4,
  "nbformat_minor": 2
}