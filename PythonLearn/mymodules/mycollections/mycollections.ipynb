{
  "cells": [
    {
      "metadata": {
        "trusted": true
      },
      "cell_type": "code",
      "source": "import os\nimport collections\nfrom collections.abc import Iterable, Iterator\nimport queue",
      "execution_count": 8,
      "outputs": []
    },
    {
      "metadata": {
        "trusted": true
      },
      "cell_type": "code",
      "source": "# https://blog.csdn.net/yangsong95/article/details/82319675\nPoint = collections.namedtuple('Point', ['x', 'y'])\npoint = Point(55, 66)\nprint(point.x, point.y)\ndeque_str = collections.deque('Welcome to shanghai')\ntype(deque_str)\nprint(deque_str)\ndeque_str.extend('delattr')\nprint(deque_str)\n\nct = collections.Counter('aacccbbccddaaa')\nprint(type(ct))\nl = ct.most_common()\nprint(type(l))\nprint(l)\nct = collections.Counter()\nfor c in 'proggings':\n    ct[c] = ct[c] + 1\nprint(ct)\n\n# defaultdict 可以是 set list str lambda  生成的default_dict字典，如果键不存在在它会设置键的默认值\n# 如果defaultdict 指定为list ,那么字典的默认值就是[] 如果是str,默认值就是空串\" \", set的话就是set() int的话就是零。\ndefault_dict = collections.defaultdict(str)\nfor k in 'china':\n    default_dict[k] += 'abc'\nprint(default_dict)\nos.path.dirname('c:\\\\windows\\\\system32')\n",
      "execution_count": 9,
      "outputs": [
        {
          "output_type": "stream",
          "text": "55 66\ndeque(['W', 'e', 'l', 'c', 'o', 'm', 'e', ' ', 't', 'o', ' ', 's', 'h', 'a', 'n', 'g', 'h', 'a', 'i'])\ndeque(['W', 'e', 'l', 'c', 'o', 'm', 'e', ' ', 't', 'o', ' ', 's', 'h', 'a', 'n', 'g', 'h', 'a', 'i', 'd', 'e', 'l', 'a', 't', 't', 'r'])\n<class 'collections.Counter'>\n<class 'list'>\n[('a', 5), ('c', 5), ('b', 2), ('d', 2)]\nCounter({'g': 3, 'p': 1, 'r': 1, 'o': 1, 'i': 1, 'n': 1, 's': 1})\ndefaultdict(<class 'str'>, {'c': 'abc', 'h': 'abc', 'i': 'abc', 'n': 'abc', 'a': 'abc'})\n",
          "name": "stdout"
        },
        {
          "output_type": "execute_result",
          "execution_count": 9,
          "data": {
            "text/plain": "''"
          },
          "metadata": {}
        }
      ]
    },
    {
      "metadata": {
        "trusted": true
      },
      "cell_type": "code",
      "source": "from collections import defaultdict\ndef constant_factory(value):\n    return lambda : value\nd = defaultdict(constant_factory('<missing>'))\nprint('\\n',d)\nd.update(name='John', action='ran')\nprint('\\n',d)\nprint('\\n','%(name)s %(action)s to %(object)s' % d)\n",
      "execution_count": 10,
      "outputs": [
        {
          "output_type": "stream",
          "text": "\n defaultdict(<function constant_factory.<locals>.<lambda> at 0x7fe84bea0ea0>, {})\n\n defaultdict(<function constant_factory.<locals>.<lambda> at 0x7fe84bea0ea0>, {'name': 'John', 'action': 'ran'})\n\n John ran to <missing>\n",
          "name": "stdout"
        }
      ]
    },
    {
      "metadata": {
        "trusted": true
      },
      "cell_type": "code",
      "source": "print ('Regular dictionary:')\nd = {}\nd['a'] = 'A'\nd['b'] = 'B'\nd['c'] = 'C'\n\nfor k, v in d.items():\n    print (k, v)\nprint ('\\nOrderDict:')\nd = collections.OrderedDict(a='A',b='B',c='C')\nfor k, v in d.items():\n    print (k, v)\nprint(type(d.items()))\n\n\nmy_list=['changmu','welcome','c++','python']\nmy_dict=collections.OrderedDict.fromkeys(my_list,value='qtcreator')\nprint(type(my_dict))\nprint(my_dict)\n\nd = collections.defaultdict(list) \nd['a'].append(1) \nd['a'].append(2) \nd['b'].append(4)\nprint(d)\n\nd = collections.defaultdict(set) \nd['a'].add(1) \nd['a'].add(2) \nd['b'].add(4) \nprint(d)\n",
      "execution_count": 11,
      "outputs": [
        {
          "output_type": "stream",
          "text": "Regular dictionary:\na A\nb B\nc C\n\nOrderDict:\na A\nb B\nc C\n<class 'odict_items'>\n<class 'collections.OrderedDict'>\nOrderedDict([('changmu', 'qtcreator'), ('welcome', 'qtcreator'), ('c++', 'qtcreator'), ('python', 'qtcreator')])\ndefaultdict(<class 'list'>, {'a': [1, 2], 'b': [4]})\ndefaultdict(<class 'set'>, {'a': {1, 2}, 'b': {4}})\n",
          "name": "stdout"
        }
      ]
    },
    {
      "metadata": {
        "trusted": true
      },
      "cell_type": "code",
      "source": "my_str_deque = collections.deque('china')\nprint(my_str_deque, type(my_str_deque))\nret_res = my_str_deque.pop()\nprint(ret_res)\nprint(my_str_deque)",
      "execution_count": 12,
      "outputs": [
        {
          "output_type": "stream",
          "text": "deque(['c', 'h', 'i', 'n', 'a']) <class 'collections.deque'>\na\ndeque(['c', 'h', 'i', 'n'])\n",
          "name": "stdout"
        }
      ]
    },
    {
      "metadata": {
        "trusted": true
      },
      "cell_type": "code",
      "source": "qu = queue.Queue()\nqu.put_nowait()",
      "execution_count": 15,
      "outputs": []
    },
    {
      "metadata": {
        "trusted": true
      },
      "cell_type": "code",
      "source": "",
      "execution_count": null,
      "outputs": []
    }
  ],
  "metadata": {
    "kernelspec": {
      "name": "python36",
      "display_name": "Python 3.6",
      "language": "python"
    },
    "language_info": {
      "mimetype": "text/x-python",
      "nbconvert_exporter": "python",
      "name": "python",
      "pygments_lexer": "ipython3",
      "version": "3.6.6",
      "file_extension": ".py",
      "codemirror_mode": {
        "version": 3,
        "name": "ipython"
      }
    },
    "toc-autonumbering": true,
    "toc-showmarkdowntxt": true,
    "toc-showtags": true
  },
  "nbformat": 4,
  "nbformat_minor": 4
}