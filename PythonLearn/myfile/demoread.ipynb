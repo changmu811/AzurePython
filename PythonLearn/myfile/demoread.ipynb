{
  "cells": [
    {
      "metadata": {
        "trusted": true
      },
      "cell_type": "code",
      "source": "import os\nfrom collections.abc import Iterable, Iterator",
      "execution_count": 2,
      "outputs": []
    },
    {
      "metadata": {
        "trusted": true
      },
      "cell_type": "code",
      "source": "with open('learn.txt', 'w', encoding='utf-8') as fp:\n    temp_str = ''\n    list_language = ['python', 'ruby', 'go', 'javascriptr']\n    for clang in list_language:\n        temp_str = clang + '\\n'\n        fp.write(temp_str)        # write file modeth open , clear file full conten\n        temp_str = ''",
      "execution_count": 3,
      "outputs": []
    },
    {
      "metadata": {
        "trusted": true
      },
      "cell_type": "code",
      "source": "fp = open('learn.txt', 'r+', encoding='utf-8')\n#fp.seek(3, 0)  # Whence 表示从（0 开始， 1，当前， 2，结尾） offset 指定3 表示，从3位置之后（也就是指针移动到3位置）\ntrun = fp.truncate(5) #根据上面设置的指针位置，截取指定长度的文件内容输出。（但是原文件会从头保留10个长度的内容）。\n#print(trun)\nprint('-'*30)\ntxt_content = fp.read()\nprint(type(txt_content))\nprint(txt_content)\nfp.flush()\nprint(fp.tell())  # tell Get pointer is postional\nfp.close()",
      "execution_count": 4,
      "outputs": [
        {
          "output_type": "stream",
          "text": "------------------------------\n<class 'str'>\npytho\n5\n",
          "name": "stdout"
        }
      ]
    },
    {
      "metadata": {
        "trusted": true
      },
      "cell_type": "code",
      "source": "print(isinstance(range(10), Iterator))",
      "execution_count": 5,
      "outputs": [
        {
          "output_type": "stream",
          "text": "False\n",
          "name": "stdout"
        }
      ]
    },
    {
      "metadata": {
        "trusted": true
      },
      "cell_type": "code",
      "source": "sz = '常'.encode(encoding = 'utf-8')  # utf-8 中文占 3个bytes",
      "execution_count": 6,
      "outputs": []
    },
    {
      "metadata": {
        "trusted": true
      },
      "cell_type": "code",
      "source": "print(len(sz))\nprint(type(sz))\nprint(sz)\nprint(sz.decode(encoding='utf-8'))\n# fp.truncate()",
      "execution_count": 7,
      "outputs": [
        {
          "output_type": "stream",
          "text": "3\n<class 'bytes'>\nb'\\xe5\\xb8\\xb8'\n常\n",
          "name": "stdout"
        }
      ]
    },
    {
      "metadata": {
        "trusted": true
      },
      "cell_type": "markdown",
      "source": "### 王顺子"
    },
    {
      "metadata": {
        "trusted": true
      },
      "cell_type": "code",
      "source": "pread = open(\"wangshunzi.txt\", \"r\")  #  1以只读模式打开文件。2使用 mode(r)打开文件，文件必须存在。\nread_content = pread.read() # 3以 mode r 打开的文件可以看出指针在文件的开始。\nprint(read_content)\npread.close()",
      "execution_count": 8,
      "outputs": [
        {
          "output_type": "stream",
          "text": "456dabc\n",
          "name": "stdout"
        }
      ]
    },
    {
      "metadata": {
        "trusted": true
      },
      "cell_type": "code",
      "source": "pwrite = open(\"wangshunzi.txt\", \"w\") # w mode 打开的文件不能读。w mode 是完全覆盖模式的写入。\npwrite.write(\"abcd\")\npwrite.close()",
      "execution_count": 9,
      "outputs": []
    },
    {
      "metadata": {
        "trusted": true
      },
      "cell_type": "code",
      "source": "pappend = open(\"wangshunzi.txt\", \"a\") # a mode 打开的文件指针在文件的尾部，追加模式不能读取。\npappend.write(\"abc\")\npappend.close()",
      "execution_count": 10,
      "outputs": []
    },
    {
      "metadata": {
        "trusted": true
      },
      "cell_type": "code",
      "source": "fp_jpg = open(\"timg.png\", \"rb\")\njpg_content = fp_jpg.read()\nfp_jpg.close()\n\nfp_jpg = open(\"timg2.png\", \"wb\")\nfp_jpg.write(jpg_content[0:len(jpg_content) // 2])\nfp_jpg.close()",
      "execution_count": 11,
      "outputs": []
    },
    {
      "metadata": {
        "trusted": true
      },
      "cell_type": "code",
      "source": "# r+ w+ a+ rb+ rw+ ra+\nfp = open(\"wangshunzi.txt\", \"r+\")\nfp.write(\"456\") # 1写入几个就会替换从开始处的几个，不同与w mode 的覆盖模式。2指针在文件开始，如果先读取操作，则会在文件末尾加入。\nfp.close() ",
      "execution_count": 12,
      "outputs": []
    },
    {
      "metadata": {
        "trusted": true
      },
      "cell_type": "code",
      "source": "# 文件定位\nfp = open(\"wangshunzi.txt\", \"r\")\nfp.seek(2, 0)  # 如果是文本文件只能是零，二进制文件才能使用 1 2 . (seek(2, 0) 表示把文件指针移动到相对与开始位置的第2个位置)\nfp.read()\nprint(fp.tell())\nfp.close()",
      "execution_count": 13,
      "outputs": [
        {
          "output_type": "stream",
          "text": "7\n",
          "name": "stdout"
        }
      ]
    },
    {
      "metadata": {
        "trusted": true
      },
      "cell_type": "code",
      "source": "import copy \nmy_list = [i for i in range(1, 11) if i % 2 == 0]\nprint(f'my_list is type {type(my_list)}')\nprint(my_list)\nmy_list.insert(3, 9)\nprint(my_list)\nmy_list.extend('abc')\nprint(my_list)\n# idx = my_list.index('a',7, 8)\n# print(idx)\nif 'b' not in my_list:\n    print(f'b in my_list {my_list}')\nprint(my_list.pop(6))\nprint(my_list)\nmy_list.remove('b')\nprint(my_list)\nprint(\"--\" * 60)\ncopy_list = [1, 2, 3, [4, 5], 6, 7]\ncopy_list_to_temp = copy_list.copy()\nprint(f'copy_list add = {id(copy_list)} copy_list_to_temp add = {id(copy_list_to_temp)}')\nprint(copy_list_to_temp)\nprint('*' * 60)\ncopy_list_to_temp[3].append('china')\ncopy_list_to_temp.append('end')\nprint(copy_list_to_temp)\nprint(copy_list)\nprint('---------------deepth copy------------------')\ndeepth_copy = copy.deepcopy(copy_list)\ndeepth_copy[3].append('zoom')\ndeepth_copy.append('end')\nprint(copy_list)\nprint(deepth_copy)\nmy_string = 'welcome to shanghai'\nmy_string.endswith('co', 0, 5)\nprint('------------str.strip()------------')\nres = 'https://www.163.com'.strip('https')\nprint(res)\nres_len = 'http://www   '\nlen1 = len(res_len)\nprint(len1)\nres_len = res_len.strip(\"www\")\nprint(len(res_len))\nprint('welcome to shanghai'.split(' '))\n'*'.join(\"china\")\nprint(os.path.join(\"e:/com\", '/com'))",
      "execution_count": 36,
      "outputs": [
        {
          "output_type": "stream",
          "text": "my_list is type <class 'list'>\n[2, 4, 6, 8, 10]\n[2, 4, 6, 9, 8, 10]\n[2, 4, 6, 9, 8, 10, 'a', 'b', 'c']\na\n[2, 4, 6, 9, 8, 10, 'b', 'c']\n[2, 4, 6, 9, 8, 10, 'c']\n------------------------------------------------------------------------------------------------------------------------\ncopy_list add = 140232189770824 copy_list_to_temp add = 140232189767816\n[1, 2, 3, [4, 5], 6, 7]\n************************************************************\n[1, 2, 3, [4, 5, 'china'], 6, 7, 'end']\n[1, 2, 3, [4, 5, 'china'], 6, 7]\n---------------deepth copy------------------\n[1, 2, 3, [4, 5, 'china'], 6, 7]\n[1, 2, 3, [4, 5, 'china', 'zoom'], 6, 7, 'end']\n------------str.strip()------------\n://www.163.com\n13\n13\n['welcome', 'to', 'shanghai']\n/com\n",
          "name": "stdout"
        }
      ]
    },
    {
      "metadata": {
        "trusted": true
      },
      "cell_type": "code",
      "source": "def yield_my():\n    for i in range(1, 11):\n        yield i \nge = yield_my()\nprint(type(ge))\n# g = (i for i in ge)\n# print(type(g))\nprint(list(ge))",
      "execution_count": 44,
      "outputs": [
        {
          "output_type": "stream",
          "text": "<class 'generator'>\n[1, 2, 3, 4, 5, 6, 7, 8, 9, 10]\n",
          "name": "stdout"
        }
      ]
    },
    {
      "metadata": {
        "trusted": true
      },
      "cell_type": "code",
      "source": "def fun(n, i):\n    return n + i \ndef my_generator():\n    for i in [1, 2, 3, 4]:\n        yield i\ng = my_generator()\nfor n in [1, 10]:\n    g = (fun(n , i) for i in g)\nprint(list(g))\n\n\n\nn = 1\ng = (fun(n, i) for i in g)\nn = 10\ng = (fun(n, i) for i in (fun(n, i) for i in my_generator()))\n# g = (fun(n, i) for i in (11 12 13 14))\n# g = (21 22 23 24)",
      "execution_count": 51,
      "outputs": [
        {
          "output_type": "stream",
          "text": "[21, 22, 23, 24]\n",
          "name": "stdout"
        }
      ]
    },
    {
      "metadata": {
        "trusted": true
      },
      "cell_type": "code",
      "source": "",
      "execution_count": null,
      "outputs": []
    }
  ],
  "metadata": {
    "kernelspec": {
      "name": "python36",
      "display_name": "Python 3.6",
      "language": "python"
    },
    "language_info": {
      "mimetype": "text/x-python",
      "nbconvert_exporter": "python",
      "name": "python",
      "pygments_lexer": "ipython3",
      "version": "3.6.6",
      "file_extension": ".py",
      "codemirror_mode": {
        "version": 3,
        "name": "ipython"
      }
    }
  },
  "nbformat": 4,
  "nbformat_minor": 2
}